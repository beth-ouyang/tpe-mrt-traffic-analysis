{
 "cells": [
  {
   "cell_type": "markdown",
   "metadata": {},
   "source": [
    "## Import"
   ]
  },
  {
   "cell_type": "code",
   "execution_count": 1,
   "metadata": {},
   "outputs": [],
   "source": [
    "import pandas as pd\n",
    "import numpy as np\n",
    "\n",
    "import plotly.express as px\n",
    "import matplotlib.pyplot as plt\n",
    "import plotly.graph_objects as go\n",
    "import json\n",
    "from sklearn.preprocessing import StandardScaler\n",
    "\n",
    "from sklearn.decomposition import PCA, TruncatedSVD\n",
    "from sklearn.cluster import KMeans"
   ]
  },
  {
   "cell_type": "markdown",
   "metadata": {},
   "source": [
    "## Data Loading & Cleaning"
   ]
  },
  {
   "cell_type": "markdown",
   "metadata": {},
   "source": [
    "### Lines data\n",
    "This is the stations informaiton, and we will get the stations English translation from here, too."
   ]
  },
  {
   "cell_type": "code",
   "execution_count": 2,
   "metadata": {},
   "outputs": [],
   "source": [
    "json_paths = ['tpe_mrt_lines.json', 'newtpe_mrt_lines.json']\n",
    "line_data = []\n",
    "for path in json_paths:\n",
    "     with open(path, 'r') as j:\n",
    "          line_info = json.loads(j.read())\n",
    "     line_data += line_info\n",
    "\n",
    "for line in line_data:\n",
    "    for station in line[\"Stations\"]:\n",
    "        station[\"StationName\"][\"En\"] = station[\"StationName\"][\"En\"].replace(' ', '_')"
   ]
  },
  {
   "cell_type": "markdown",
   "metadata": {},
   "source": [
    "### Stations traffic data"
   ]
  },
  {
   "cell_type": "code",
   "execution_count": 4,
   "metadata": {},
   "outputs": [],
   "source": [
    "df = pd.read_parquet('monthly_data/202306.parquet.gzip')"
   ]
  },
  {
   "cell_type": "code",
   "execution_count": 5,
   "metadata": {},
   "outputs": [
    {
     "data": {
      "text/html": [
       "<div>\n",
       "<style scoped>\n",
       "    .dataframe tbody tr th:only-of-type {\n",
       "        vertical-align: middle;\n",
       "    }\n",
       "\n",
       "    .dataframe tbody tr th {\n",
       "        vertical-align: top;\n",
       "    }\n",
       "\n",
       "    .dataframe thead th {\n",
       "        text-align: right;\n",
       "    }\n",
       "</style>\n",
       "<table border=\"1\" class=\"dataframe\">\n",
       "  <thead>\n",
       "    <tr style=\"text-align: right;\">\n",
       "      <th></th>\n",
       "      <th>date</th>\n",
       "      <th>hour</th>\n",
       "      <th>origin</th>\n",
       "      <th>destination</th>\n",
       "      <th>passenger_cnt</th>\n",
       "    </tr>\n",
       "  </thead>\n",
       "  <tbody>\n",
       "    <tr>\n",
       "      <th>0</th>\n",
       "      <td>2023-06-01</td>\n",
       "      <td>0</td>\n",
       "      <td>松山機場</td>\n",
       "      <td>松山機場</td>\n",
       "      <td>0</td>\n",
       "    </tr>\n",
       "    <tr>\n",
       "      <th>1</th>\n",
       "      <td>2023-06-01</td>\n",
       "      <td>0</td>\n",
       "      <td>松山機場</td>\n",
       "      <td>中山國中</td>\n",
       "      <td>0</td>\n",
       "    </tr>\n",
       "    <tr>\n",
       "      <th>2</th>\n",
       "      <td>2023-06-01</td>\n",
       "      <td>0</td>\n",
       "      <td>松山機場</td>\n",
       "      <td>南京復興</td>\n",
       "      <td>0</td>\n",
       "    </tr>\n",
       "    <tr>\n",
       "      <th>3</th>\n",
       "      <td>2023-06-01</td>\n",
       "      <td>0</td>\n",
       "      <td>松山機場</td>\n",
       "      <td>忠孝復興</td>\n",
       "      <td>0</td>\n",
       "    </tr>\n",
       "    <tr>\n",
       "      <th>4</th>\n",
       "      <td>2023-06-01</td>\n",
       "      <td>0</td>\n",
       "      <td>松山機場</td>\n",
       "      <td>大安</td>\n",
       "      <td>1</td>\n",
       "    </tr>\n",
       "    <tr>\n",
       "      <th>...</th>\n",
       "      <td>...</td>\n",
       "      <td>...</td>\n",
       "      <td>...</td>\n",
       "      <td>...</td>\n",
       "      <td>...</td>\n",
       "    </tr>\n",
       "    <tr>\n",
       "      <th>8096755</th>\n",
       "      <td>2023-06-30</td>\n",
       "      <td>23</td>\n",
       "      <td>新北產業園區</td>\n",
       "      <td>徐匯中學</td>\n",
       "      <td>0</td>\n",
       "    </tr>\n",
       "    <tr>\n",
       "      <th>8096756</th>\n",
       "      <td>2023-06-30</td>\n",
       "      <td>23</td>\n",
       "      <td>新北產業園區</td>\n",
       "      <td>三和國中</td>\n",
       "      <td>0</td>\n",
       "    </tr>\n",
       "    <tr>\n",
       "      <th>8096757</th>\n",
       "      <td>2023-06-30</td>\n",
       "      <td>23</td>\n",
       "      <td>新北產業園區</td>\n",
       "      <td>三重國小</td>\n",
       "      <td>0</td>\n",
       "    </tr>\n",
       "    <tr>\n",
       "      <th>8096758</th>\n",
       "      <td>2023-06-30</td>\n",
       "      <td>23</td>\n",
       "      <td>新北產業園區</td>\n",
       "      <td>迴龍</td>\n",
       "      <td>0</td>\n",
       "    </tr>\n",
       "    <tr>\n",
       "      <th>8096759</th>\n",
       "      <td>2023-06-30</td>\n",
       "      <td>23</td>\n",
       "      <td>新北產業園區</td>\n",
       "      <td>丹鳳</td>\n",
       "      <td>0</td>\n",
       "    </tr>\n",
       "  </tbody>\n",
       "</table>\n",
       "<p>8096760 rows × 5 columns</p>\n",
       "</div>"
      ],
      "text/plain": [
       "               date  hour  origin destination  passenger_cnt\n",
       "0        2023-06-01     0    松山機場        松山機場              0\n",
       "1        2023-06-01     0    松山機場        中山國中              0\n",
       "2        2023-06-01     0    松山機場        南京復興              0\n",
       "3        2023-06-01     0    松山機場        忠孝復興              0\n",
       "4        2023-06-01     0    松山機場          大安              1\n",
       "...             ...   ...     ...         ...            ...\n",
       "8096755  2023-06-30    23  新北產業園區        徐匯中學              0\n",
       "8096756  2023-06-30    23  新北產業園區        三和國中              0\n",
       "8096757  2023-06-30    23  新北產業園區        三重國小              0\n",
       "8096758  2023-06-30    23  新北產業園區          迴龍              0\n",
       "8096759  2023-06-30    23  新北產業園區          丹鳳              0\n",
       "\n",
       "[8096760 rows x 5 columns]"
      ]
     },
     "execution_count": 5,
     "metadata": {},
     "output_type": "execute_result"
    }
   ],
   "source": [
    "# df = df.reset_index()\n",
    "df = df.rename(columns={\"時段\": \"hour\", \"日期\": \"date\", \"進站\":\"origin\", \"出站\":\"destination\", \"人次\":\"passenger_cnt\"})\n",
    "df"
   ]
  },
  {
   "cell_type": "markdown",
   "metadata": {},
   "source": [
    "### Mapping English station names"
   ]
  },
  {
   "cell_type": "code",
   "execution_count": 6,
   "metadata": {},
   "outputs": [
    {
     "data": {
      "text/html": [
       "<div>\n",
       "<style scoped>\n",
       "    .dataframe tbody tr th:only-of-type {\n",
       "        vertical-align: middle;\n",
       "    }\n",
       "\n",
       "    .dataframe tbody tr th {\n",
       "        vertical-align: top;\n",
       "    }\n",
       "\n",
       "    .dataframe thead th {\n",
       "        text-align: right;\n",
       "    }\n",
       "</style>\n",
       "<table border=\"1\" class=\"dataframe\">\n",
       "  <thead>\n",
       "    <tr style=\"text-align: right;\">\n",
       "      <th></th>\n",
       "      <th>date</th>\n",
       "      <th>hour</th>\n",
       "      <th>origin</th>\n",
       "      <th>destination</th>\n",
       "      <th>passenger_cnt</th>\n",
       "    </tr>\n",
       "  </thead>\n",
       "  <tbody>\n",
       "    <tr>\n",
       "      <th>0</th>\n",
       "      <td>2023-06-01</td>\n",
       "      <td>0</td>\n",
       "      <td>Songshan_Airport</td>\n",
       "      <td>Songshan_Airport</td>\n",
       "      <td>0</td>\n",
       "    </tr>\n",
       "    <tr>\n",
       "      <th>1</th>\n",
       "      <td>2023-06-01</td>\n",
       "      <td>0</td>\n",
       "      <td>Songshan_Airport</td>\n",
       "      <td>Zhongshan_Junior_High_School</td>\n",
       "      <td>0</td>\n",
       "    </tr>\n",
       "    <tr>\n",
       "      <th>2</th>\n",
       "      <td>2023-06-01</td>\n",
       "      <td>0</td>\n",
       "      <td>Songshan_Airport</td>\n",
       "      <td>Nanjing_Fuxing</td>\n",
       "      <td>0</td>\n",
       "    </tr>\n",
       "    <tr>\n",
       "      <th>3</th>\n",
       "      <td>2023-06-01</td>\n",
       "      <td>0</td>\n",
       "      <td>Songshan_Airport</td>\n",
       "      <td>Zhongxiao_Fuxing</td>\n",
       "      <td>0</td>\n",
       "    </tr>\n",
       "    <tr>\n",
       "      <th>4</th>\n",
       "      <td>2023-06-01</td>\n",
       "      <td>0</td>\n",
       "      <td>Songshan_Airport</td>\n",
       "      <td>Daan</td>\n",
       "      <td>1</td>\n",
       "    </tr>\n",
       "    <tr>\n",
       "      <th>...</th>\n",
       "      <td>...</td>\n",
       "      <td>...</td>\n",
       "      <td>...</td>\n",
       "      <td>...</td>\n",
       "      <td>...</td>\n",
       "    </tr>\n",
       "    <tr>\n",
       "      <th>8096755</th>\n",
       "      <td>2023-06-30</td>\n",
       "      <td>23</td>\n",
       "      <td>New_Taipei_Industrial_Park</td>\n",
       "      <td>St.lgnatius_High_School</td>\n",
       "      <td>0</td>\n",
       "    </tr>\n",
       "    <tr>\n",
       "      <th>8096756</th>\n",
       "      <td>2023-06-30</td>\n",
       "      <td>23</td>\n",
       "      <td>New_Taipei_Industrial_Park</td>\n",
       "      <td>Sanhe_Junior_High_School</td>\n",
       "      <td>0</td>\n",
       "    </tr>\n",
       "    <tr>\n",
       "      <th>8096757</th>\n",
       "      <td>2023-06-30</td>\n",
       "      <td>23</td>\n",
       "      <td>New_Taipei_Industrial_Park</td>\n",
       "      <td>Sanchong_Elementary_School</td>\n",
       "      <td>0</td>\n",
       "    </tr>\n",
       "    <tr>\n",
       "      <th>8096758</th>\n",
       "      <td>2023-06-30</td>\n",
       "      <td>23</td>\n",
       "      <td>New_Taipei_Industrial_Park</td>\n",
       "      <td>Huilong</td>\n",
       "      <td>0</td>\n",
       "    </tr>\n",
       "    <tr>\n",
       "      <th>8096759</th>\n",
       "      <td>2023-06-30</td>\n",
       "      <td>23</td>\n",
       "      <td>New_Taipei_Industrial_Park</td>\n",
       "      <td>Danfeng</td>\n",
       "      <td>0</td>\n",
       "    </tr>\n",
       "  </tbody>\n",
       "</table>\n",
       "<p>7527240 rows × 5 columns</p>\n",
       "</div>"
      ],
      "text/plain": [
       "               date  hour                      origin  \\\n",
       "0        2023-06-01     0            Songshan_Airport   \n",
       "1        2023-06-01     0            Songshan_Airport   \n",
       "2        2023-06-01     0            Songshan_Airport   \n",
       "3        2023-06-01     0            Songshan_Airport   \n",
       "4        2023-06-01     0            Songshan_Airport   \n",
       "...             ...   ...                         ...   \n",
       "8096755  2023-06-30    23  New_Taipei_Industrial_Park   \n",
       "8096756  2023-06-30    23  New_Taipei_Industrial_Park   \n",
       "8096757  2023-06-30    23  New_Taipei_Industrial_Park   \n",
       "8096758  2023-06-30    23  New_Taipei_Industrial_Park   \n",
       "8096759  2023-06-30    23  New_Taipei_Industrial_Park   \n",
       "\n",
       "                          destination  passenger_cnt  \n",
       "0                    Songshan_Airport              0  \n",
       "1        Zhongshan_Junior_High_School              0  \n",
       "2                      Nanjing_Fuxing              0  \n",
       "3                    Zhongxiao_Fuxing              0  \n",
       "4                                Daan              1  \n",
       "...                               ...            ...  \n",
       "8096755       St.lgnatius_High_School              0  \n",
       "8096756      Sanhe_Junior_High_School              0  \n",
       "8096757    Sanchong_Elementary_School              0  \n",
       "8096758                       Huilong              0  \n",
       "8096759                       Danfeng              0  \n",
       "\n",
       "[7527240 rows x 5 columns]"
      ]
     },
     "execution_count": 6,
     "metadata": {},
     "output_type": "execute_result"
    }
   ],
   "source": [
    "# Mapping Chinese names to English names using the JSON data\n",
    "chinese_to_english = {}\n",
    "for line in line_data:\n",
    "    for station in line[\"Stations\"]:\n",
    "        chinese_to_english[station[\"StationName\"][\"Zh_tw\"]] = station[\"StationName\"][\"En\"]\n",
    "\n",
    "# Replace Chinese station names with English names\n",
    "df[\"origin\"] = df[\"origin\"].map(chinese_to_english)\n",
    "df[\"destination\"] = df[\"destination\"].map(chinese_to_english)\n",
    "\n",
    "df = df.dropna()\n",
    "df"
   ]
  },
  {
   "cell_type": "code",
   "execution_count": 7,
   "metadata": {},
   "outputs": [
    {
     "name": "stderr",
     "output_type": "stream",
     "text": [
      "/var/folders/x5/4d64q7td2l59kf73lvykgkq40000gn/T/ipykernel_18387/2225038877.py:1: SettingWithCopyWarning: \n",
      "A value is trying to be set on a copy of a slice from a DataFrame.\n",
      "Try using .loc[row_indexer,col_indexer] = value instead\n",
      "\n",
      "See the caveats in the documentation: https://pandas.pydata.org/pandas-docs/stable/user_guide/indexing.html#returning-a-view-versus-a-copy\n",
      "  df['datetime'] = pd.to_datetime(df['date']) + df['hour'].astype('timedelta64[h]')\n",
      "/var/folders/x5/4d64q7td2l59kf73lvykgkq40000gn/T/ipykernel_18387/2225038877.py:2: SettingWithCopyWarning: \n",
      "A value is trying to be set on a copy of a slice from a DataFrame.\n",
      "Try using .loc[row_indexer,col_indexer] = value instead\n",
      "\n",
      "See the caveats in the documentation: https://pandas.pydata.org/pandas-docs/stable/user_guide/indexing.html#returning-a-view-versus-a-copy\n",
      "  df['dayOfWeek'] = df['datetime'].dt.day_name()\n",
      "/var/folders/x5/4d64q7td2l59kf73lvykgkq40000gn/T/ipykernel_18387/2225038877.py:3: SettingWithCopyWarning: \n",
      "A value is trying to be set on a copy of a slice from a DataFrame.\n",
      "Try using .loc[row_indexer,col_indexer] = value instead\n",
      "\n",
      "See the caveats in the documentation: https://pandas.pydata.org/pandas-docs/stable/user_guide/indexing.html#returning-a-view-versus-a-copy\n",
      "  df['weekday'] = df['dayOfWeek'].apply(lambda x: 0 if x in ['Saturday', 'Sunday'] else 1)\n"
     ]
    },
    {
     "data": {
      "text/html": [
       "<div>\n",
       "<style scoped>\n",
       "    .dataframe tbody tr th:only-of-type {\n",
       "        vertical-align: middle;\n",
       "    }\n",
       "\n",
       "    .dataframe tbody tr th {\n",
       "        vertical-align: top;\n",
       "    }\n",
       "\n",
       "    .dataframe thead th {\n",
       "        text-align: right;\n",
       "    }\n",
       "</style>\n",
       "<table border=\"1\" class=\"dataframe\">\n",
       "  <thead>\n",
       "    <tr style=\"text-align: right;\">\n",
       "      <th></th>\n",
       "      <th>date</th>\n",
       "      <th>hour</th>\n",
       "      <th>origin</th>\n",
       "      <th>destination</th>\n",
       "      <th>passenger_cnt</th>\n",
       "      <th>datetime</th>\n",
       "      <th>dayOfWeek</th>\n",
       "      <th>weekday</th>\n",
       "    </tr>\n",
       "  </thead>\n",
       "  <tbody>\n",
       "    <tr>\n",
       "      <th>0</th>\n",
       "      <td>2023-06-01</td>\n",
       "      <td>0</td>\n",
       "      <td>Songshan_Airport</td>\n",
       "      <td>Songshan_Airport</td>\n",
       "      <td>0</td>\n",
       "      <td>2023-06-01 00:00:00</td>\n",
       "      <td>Thursday</td>\n",
       "      <td>1</td>\n",
       "    </tr>\n",
       "    <tr>\n",
       "      <th>1</th>\n",
       "      <td>2023-06-01</td>\n",
       "      <td>0</td>\n",
       "      <td>Songshan_Airport</td>\n",
       "      <td>Zhongshan_Junior_High_School</td>\n",
       "      <td>0</td>\n",
       "      <td>2023-06-01 00:00:00</td>\n",
       "      <td>Thursday</td>\n",
       "      <td>1</td>\n",
       "    </tr>\n",
       "    <tr>\n",
       "      <th>2</th>\n",
       "      <td>2023-06-01</td>\n",
       "      <td>0</td>\n",
       "      <td>Songshan_Airport</td>\n",
       "      <td>Nanjing_Fuxing</td>\n",
       "      <td>0</td>\n",
       "      <td>2023-06-01 00:00:00</td>\n",
       "      <td>Thursday</td>\n",
       "      <td>1</td>\n",
       "    </tr>\n",
       "    <tr>\n",
       "      <th>3</th>\n",
       "      <td>2023-06-01</td>\n",
       "      <td>0</td>\n",
       "      <td>Songshan_Airport</td>\n",
       "      <td>Zhongxiao_Fuxing</td>\n",
       "      <td>0</td>\n",
       "      <td>2023-06-01 00:00:00</td>\n",
       "      <td>Thursday</td>\n",
       "      <td>1</td>\n",
       "    </tr>\n",
       "    <tr>\n",
       "      <th>4</th>\n",
       "      <td>2023-06-01</td>\n",
       "      <td>0</td>\n",
       "      <td>Songshan_Airport</td>\n",
       "      <td>Daan</td>\n",
       "      <td>1</td>\n",
       "      <td>2023-06-01 00:00:00</td>\n",
       "      <td>Thursday</td>\n",
       "      <td>1</td>\n",
       "    </tr>\n",
       "    <tr>\n",
       "      <th>...</th>\n",
       "      <td>...</td>\n",
       "      <td>...</td>\n",
       "      <td>...</td>\n",
       "      <td>...</td>\n",
       "      <td>...</td>\n",
       "      <td>...</td>\n",
       "      <td>...</td>\n",
       "      <td>...</td>\n",
       "    </tr>\n",
       "    <tr>\n",
       "      <th>8096755</th>\n",
       "      <td>2023-06-30</td>\n",
       "      <td>23</td>\n",
       "      <td>New_Taipei_Industrial_Park</td>\n",
       "      <td>St.lgnatius_High_School</td>\n",
       "      <td>0</td>\n",
       "      <td>2023-06-30 23:00:00</td>\n",
       "      <td>Friday</td>\n",
       "      <td>1</td>\n",
       "    </tr>\n",
       "    <tr>\n",
       "      <th>8096756</th>\n",
       "      <td>2023-06-30</td>\n",
       "      <td>23</td>\n",
       "      <td>New_Taipei_Industrial_Park</td>\n",
       "      <td>Sanhe_Junior_High_School</td>\n",
       "      <td>0</td>\n",
       "      <td>2023-06-30 23:00:00</td>\n",
       "      <td>Friday</td>\n",
       "      <td>1</td>\n",
       "    </tr>\n",
       "    <tr>\n",
       "      <th>8096757</th>\n",
       "      <td>2023-06-30</td>\n",
       "      <td>23</td>\n",
       "      <td>New_Taipei_Industrial_Park</td>\n",
       "      <td>Sanchong_Elementary_School</td>\n",
       "      <td>0</td>\n",
       "      <td>2023-06-30 23:00:00</td>\n",
       "      <td>Friday</td>\n",
       "      <td>1</td>\n",
       "    </tr>\n",
       "    <tr>\n",
       "      <th>8096758</th>\n",
       "      <td>2023-06-30</td>\n",
       "      <td>23</td>\n",
       "      <td>New_Taipei_Industrial_Park</td>\n",
       "      <td>Huilong</td>\n",
       "      <td>0</td>\n",
       "      <td>2023-06-30 23:00:00</td>\n",
       "      <td>Friday</td>\n",
       "      <td>1</td>\n",
       "    </tr>\n",
       "    <tr>\n",
       "      <th>8096759</th>\n",
       "      <td>2023-06-30</td>\n",
       "      <td>23</td>\n",
       "      <td>New_Taipei_Industrial_Park</td>\n",
       "      <td>Danfeng</td>\n",
       "      <td>0</td>\n",
       "      <td>2023-06-30 23:00:00</td>\n",
       "      <td>Friday</td>\n",
       "      <td>1</td>\n",
       "    </tr>\n",
       "  </tbody>\n",
       "</table>\n",
       "<p>7527240 rows × 8 columns</p>\n",
       "</div>"
      ],
      "text/plain": [
       "               date  hour                      origin  \\\n",
       "0        2023-06-01     0            Songshan_Airport   \n",
       "1        2023-06-01     0            Songshan_Airport   \n",
       "2        2023-06-01     0            Songshan_Airport   \n",
       "3        2023-06-01     0            Songshan_Airport   \n",
       "4        2023-06-01     0            Songshan_Airport   \n",
       "...             ...   ...                         ...   \n",
       "8096755  2023-06-30    23  New_Taipei_Industrial_Park   \n",
       "8096756  2023-06-30    23  New_Taipei_Industrial_Park   \n",
       "8096757  2023-06-30    23  New_Taipei_Industrial_Park   \n",
       "8096758  2023-06-30    23  New_Taipei_Industrial_Park   \n",
       "8096759  2023-06-30    23  New_Taipei_Industrial_Park   \n",
       "\n",
       "                          destination  passenger_cnt            datetime  \\\n",
       "0                    Songshan_Airport              0 2023-06-01 00:00:00   \n",
       "1        Zhongshan_Junior_High_School              0 2023-06-01 00:00:00   \n",
       "2                      Nanjing_Fuxing              0 2023-06-01 00:00:00   \n",
       "3                    Zhongxiao_Fuxing              0 2023-06-01 00:00:00   \n",
       "4                                Daan              1 2023-06-01 00:00:00   \n",
       "...                               ...            ...                 ...   \n",
       "8096755       St.lgnatius_High_School              0 2023-06-30 23:00:00   \n",
       "8096756      Sanhe_Junior_High_School              0 2023-06-30 23:00:00   \n",
       "8096757    Sanchong_Elementary_School              0 2023-06-30 23:00:00   \n",
       "8096758                       Huilong              0 2023-06-30 23:00:00   \n",
       "8096759                       Danfeng              0 2023-06-30 23:00:00   \n",
       "\n",
       "        dayOfWeek  weekday  \n",
       "0        Thursday        1  \n",
       "1        Thursday        1  \n",
       "2        Thursday        1  \n",
       "3        Thursday        1  \n",
       "4        Thursday        1  \n",
       "...           ...      ...  \n",
       "8096755    Friday        1  \n",
       "8096756    Friday        1  \n",
       "8096757    Friday        1  \n",
       "8096758    Friday        1  \n",
       "8096759    Friday        1  \n",
       "\n",
       "[7527240 rows x 8 columns]"
      ]
     },
     "execution_count": 7,
     "metadata": {},
     "output_type": "execute_result"
    }
   ],
   "source": [
    "df['datetime'] = pd.to_datetime(df['date']) + df['hour'].astype('timedelta64[h]')\n",
    "df['dayOfWeek'] = df['datetime'].dt.day_name()\n",
    "df['weekday'] = df['dayOfWeek'].apply(lambda x: 0 if x in ['Saturday', 'Sunday'] else 1)\n",
    "df"
   ]
  },
  {
   "cell_type": "markdown",
   "metadata": {},
   "source": [
    "## EDA"
   ]
  },
  {
   "cell_type": "code",
   "execution_count": 8,
   "metadata": {},
   "outputs": [
    {
     "data": {
      "application/vnd.plotly.v1+json": {
       "config": {
        "plotlyServerURL": "https://plot.ly"
       },
       "data": [
        {
         "hovertemplate": "dayOfWeek=Friday<br>hour=%{x}<br>passenger_cnt=%{y}<extra></extra>",
         "legendgroup": "",
         "line": {
          "color": "#636efa",
          "dash": "solid"
         },
         "marker": {
          "symbol": "circle"
         },
         "mode": "lines",
         "name": "",
         "orientation": "v",
         "showlegend": false,
         "type": "scatter",
         "x": [
          0,
          1,
          5,
          6,
          7,
          8,
          9,
          10,
          11,
          12,
          13,
          14,
          15,
          16,
          17,
          18,
          19,
          20,
          21,
          22,
          23
         ],
         "xaxis": "x",
         "y": [
          68479,
          2047,
          181,
          123585,
          512636,
          959822,
          553703,
          405379,
          415893,
          433331,
          455139,
          416712,
          414770,
          523771,
          769873,
          1051194,
          719260,
          457894,
          441664,
          378811,
          170420
         ],
         "yaxis": "y"
        },
        {
         "hovertemplate": "dayOfWeek=Monday<br>hour=%{x}<br>passenger_cnt=%{y}<extra></extra>",
         "legendgroup": "",
         "line": {
          "color": "#636efa",
          "dash": "solid"
         },
         "marker": {
          "symbol": "circle"
         },
         "mode": "lines",
         "name": "",
         "orientation": "v",
         "showlegend": false,
         "type": "scatter",
         "x": [
          0,
          1,
          5,
          6,
          7,
          8,
          9,
          10,
          11,
          12,
          13,
          14,
          15,
          16,
          17,
          18,
          19,
          20,
          21,
          22,
          23
         ],
         "xaxis": "x2",
         "y": [
          30195,
          911,
          143,
          110197,
          480540,
          913817,
          478592,
          295527,
          284127,
          296896,
          305614,
          287649,
          293727,
          383644,
          584787,
          866296,
          574587,
          333539,
          293840,
          222653,
          81509
         ],
         "yaxis": "y2"
        },
        {
         "hovertemplate": "dayOfWeek=Saturday<br>hour=%{x}<br>passenger_cnt=%{y}<extra></extra>",
         "legendgroup": "",
         "line": {
          "color": "#636efa",
          "dash": "solid"
         },
         "marker": {
          "symbol": "circle"
         },
         "mode": "lines",
         "name": "",
         "orientation": "v",
         "showlegend": false,
         "type": "scatter",
         "x": [
          0,
          1,
          5,
          6,
          7,
          8,
          9,
          10,
          11,
          12,
          13,
          14,
          15,
          16,
          17,
          18,
          19,
          20,
          21,
          22,
          23
         ],
         "xaxis": "x3",
         "y": [
          56485,
          1682,
          154,
          73100,
          194393,
          340532,
          303869,
          317756,
          372781,
          384358,
          405268,
          390333,
          390694,
          453543,
          551246,
          542411,
          392265,
          316601,
          318312,
          275510,
          143690
         ],
         "yaxis": "y3"
        },
        {
         "hovertemplate": "dayOfWeek=Sunday<br>hour=%{x}<br>passenger_cnt=%{y}<extra></extra>",
         "legendgroup": "",
         "line": {
          "color": "#636efa",
          "dash": "solid"
         },
         "marker": {
          "symbol": "circle"
         },
         "mode": "lines",
         "name": "",
         "orientation": "v",
         "showlegend": false,
         "type": "scatter",
         "x": [
          0,
          1,
          5,
          6,
          7,
          8,
          9,
          10,
          11,
          12,
          13,
          14,
          15,
          16,
          17,
          18,
          19,
          20,
          21,
          22,
          23
         ],
         "xaxis": "x4",
         "y": [
          32410,
          841,
          169,
          58942,
          105979,
          170766,
          227677,
          264313,
          327614,
          330367,
          356633,
          360018,
          351321,
          378181,
          433609,
          378065,
          307000,
          278395,
          260731,
          193452,
          89167
         ],
         "yaxis": "y4"
        },
        {
         "hovertemplate": "dayOfWeek=Thursday<br>hour=%{x}<br>passenger_cnt=%{y}<extra></extra>",
         "legendgroup": "",
         "line": {
          "color": "#636efa",
          "dash": "solid"
         },
         "marker": {
          "symbol": "circle"
         },
         "mode": "lines",
         "name": "",
         "orientation": "v",
         "showlegend": false,
         "type": "scatter",
         "x": [
          0,
          1,
          5,
          6,
          7,
          8,
          9,
          10,
          11,
          12,
          13,
          14,
          15,
          16,
          17,
          18,
          19,
          20,
          21,
          22,
          23
         ],
         "xaxis": "x5",
         "y": [
          46736,
          1439,
          169,
          125905,
          517323,
          979963,
          561385,
          368106,
          360586,
          376236,
          393759,
          375549,
          385334,
          485259,
          715852,
          997914,
          668496,
          420755,
          395266,
          313135,
          125346
         ],
         "yaxis": "y5"
        },
        {
         "hovertemplate": "dayOfWeek=Tuesday<br>hour=%{x}<br>passenger_cnt=%{y}<extra></extra>",
         "legendgroup": "",
         "line": {
          "color": "#636efa",
          "dash": "solid"
         },
         "marker": {
          "symbol": "circle"
         },
         "mode": "lines",
         "name": "",
         "orientation": "v",
         "showlegend": false,
         "type": "scatter",
         "x": [
          0,
          1,
          5,
          6,
          7,
          8,
          9,
          10,
          11,
          12,
          13,
          14,
          15,
          16,
          17,
          18,
          19,
          20,
          21,
          22,
          23
         ],
         "xaxis": "x6",
         "y": [
          32470,
          975,
          159,
          109967,
          491036,
          934428,
          501788,
          304934,
          288407,
          305458,
          314847,
          293088,
          303340,
          395676,
          604542,
          885524,
          587530,
          348744,
          320328,
          239474,
          88107
         ],
         "yaxis": "y6"
        },
        {
         "hovertemplate": "dayOfWeek=Wednesday<br>hour=%{x}<br>passenger_cnt=%{y}<extra></extra>",
         "legendgroup": "",
         "line": {
          "color": "#636efa",
          "dash": "solid"
         },
         "marker": {
          "symbol": "circle"
         },
         "mode": "lines",
         "name": "",
         "orientation": "v",
         "showlegend": false,
         "type": "scatter",
         "x": [
          0,
          1,
          5,
          6,
          7,
          8,
          9,
          10,
          11,
          12,
          13,
          14,
          15,
          16,
          17,
          18,
          19,
          20,
          21,
          22,
          23
         ],
         "xaxis": "x7",
         "y": [
          37883,
          1199,
          157,
          109637,
          490107,
          922406,
          490036,
          303532,
          295706,
          320383,
          326961,
          304898,
          307461,
          405706,
          619276,
          901531,
          598304,
          359292,
          334263,
          258532,
          100141
         ],
         "yaxis": "y7"
        }
       ],
       "layout": {
        "annotations": [
         {
          "font": {},
          "showarrow": false,
          "text": "dayOfWeek=Friday",
          "x": 0.06285714285714285,
          "xanchor": "center",
          "xref": "paper",
          "y": 1,
          "yanchor": "bottom",
          "yref": "paper"
         },
         {
          "font": {},
          "showarrow": false,
          "text": "dayOfWeek=Monday",
          "x": 0.20857142857142852,
          "xanchor": "center",
          "xref": "paper",
          "y": 1,
          "yanchor": "bottom",
          "yref": "paper"
         },
         {
          "font": {},
          "showarrow": false,
          "text": "dayOfWeek=Saturday",
          "x": 0.3542857142857142,
          "xanchor": "center",
          "xref": "paper",
          "y": 1,
          "yanchor": "bottom",
          "yref": "paper"
         },
         {
          "font": {},
          "showarrow": false,
          "text": "dayOfWeek=Sunday",
          "x": 0.5,
          "xanchor": "center",
          "xref": "paper",
          "y": 1,
          "yanchor": "bottom",
          "yref": "paper"
         },
         {
          "font": {},
          "showarrow": false,
          "text": "dayOfWeek=Thursday",
          "x": 0.6457142857142856,
          "xanchor": "center",
          "xref": "paper",
          "y": 1,
          "yanchor": "bottom",
          "yref": "paper"
         },
         {
          "font": {},
          "showarrow": false,
          "text": "dayOfWeek=Tuesday",
          "x": 0.7914285714285713,
          "xanchor": "center",
          "xref": "paper",
          "y": 1,
          "yanchor": "bottom",
          "yref": "paper"
         },
         {
          "font": {},
          "showarrow": false,
          "text": "dayOfWeek=Wednesday",
          "x": 0.9371428571428569,
          "xanchor": "center",
          "xref": "paper",
          "y": 1,
          "yanchor": "bottom",
          "yref": "paper"
         }
        ],
        "legend": {
         "tracegroupgap": 0
        },
        "margin": {
         "t": 60
        },
        "template": {
         "data": {
          "bar": [
           {
            "error_x": {
             "color": "#2a3f5f"
            },
            "error_y": {
             "color": "#2a3f5f"
            },
            "marker": {
             "line": {
              "color": "#E5ECF6",
              "width": 0.5
             },
             "pattern": {
              "fillmode": "overlay",
              "size": 10,
              "solidity": 0.2
             }
            },
            "type": "bar"
           }
          ],
          "barpolar": [
           {
            "marker": {
             "line": {
              "color": "#E5ECF6",
              "width": 0.5
             },
             "pattern": {
              "fillmode": "overlay",
              "size": 10,
              "solidity": 0.2
             }
            },
            "type": "barpolar"
           }
          ],
          "carpet": [
           {
            "aaxis": {
             "endlinecolor": "#2a3f5f",
             "gridcolor": "white",
             "linecolor": "white",
             "minorgridcolor": "white",
             "startlinecolor": "#2a3f5f"
            },
            "baxis": {
             "endlinecolor": "#2a3f5f",
             "gridcolor": "white",
             "linecolor": "white",
             "minorgridcolor": "white",
             "startlinecolor": "#2a3f5f"
            },
            "type": "carpet"
           }
          ],
          "choropleth": [
           {
            "colorbar": {
             "outlinewidth": 0,
             "ticks": ""
            },
            "type": "choropleth"
           }
          ],
          "contour": [
           {
            "colorbar": {
             "outlinewidth": 0,
             "ticks": ""
            },
            "colorscale": [
             [
              0,
              "#0d0887"
             ],
             [
              0.1111111111111111,
              "#46039f"
             ],
             [
              0.2222222222222222,
              "#7201a8"
             ],
             [
              0.3333333333333333,
              "#9c179e"
             ],
             [
              0.4444444444444444,
              "#bd3786"
             ],
             [
              0.5555555555555556,
              "#d8576b"
             ],
             [
              0.6666666666666666,
              "#ed7953"
             ],
             [
              0.7777777777777778,
              "#fb9f3a"
             ],
             [
              0.8888888888888888,
              "#fdca26"
             ],
             [
              1,
              "#f0f921"
             ]
            ],
            "type": "contour"
           }
          ],
          "contourcarpet": [
           {
            "colorbar": {
             "outlinewidth": 0,
             "ticks": ""
            },
            "type": "contourcarpet"
           }
          ],
          "heatmap": [
           {
            "colorbar": {
             "outlinewidth": 0,
             "ticks": ""
            },
            "colorscale": [
             [
              0,
              "#0d0887"
             ],
             [
              0.1111111111111111,
              "#46039f"
             ],
             [
              0.2222222222222222,
              "#7201a8"
             ],
             [
              0.3333333333333333,
              "#9c179e"
             ],
             [
              0.4444444444444444,
              "#bd3786"
             ],
             [
              0.5555555555555556,
              "#d8576b"
             ],
             [
              0.6666666666666666,
              "#ed7953"
             ],
             [
              0.7777777777777778,
              "#fb9f3a"
             ],
             [
              0.8888888888888888,
              "#fdca26"
             ],
             [
              1,
              "#f0f921"
             ]
            ],
            "type": "heatmap"
           }
          ],
          "heatmapgl": [
           {
            "colorbar": {
             "outlinewidth": 0,
             "ticks": ""
            },
            "colorscale": [
             [
              0,
              "#0d0887"
             ],
             [
              0.1111111111111111,
              "#46039f"
             ],
             [
              0.2222222222222222,
              "#7201a8"
             ],
             [
              0.3333333333333333,
              "#9c179e"
             ],
             [
              0.4444444444444444,
              "#bd3786"
             ],
             [
              0.5555555555555556,
              "#d8576b"
             ],
             [
              0.6666666666666666,
              "#ed7953"
             ],
             [
              0.7777777777777778,
              "#fb9f3a"
             ],
             [
              0.8888888888888888,
              "#fdca26"
             ],
             [
              1,
              "#f0f921"
             ]
            ],
            "type": "heatmapgl"
           }
          ],
          "histogram": [
           {
            "marker": {
             "pattern": {
              "fillmode": "overlay",
              "size": 10,
              "solidity": 0.2
             }
            },
            "type": "histogram"
           }
          ],
          "histogram2d": [
           {
            "colorbar": {
             "outlinewidth": 0,
             "ticks": ""
            },
            "colorscale": [
             [
              0,
              "#0d0887"
             ],
             [
              0.1111111111111111,
              "#46039f"
             ],
             [
              0.2222222222222222,
              "#7201a8"
             ],
             [
              0.3333333333333333,
              "#9c179e"
             ],
             [
              0.4444444444444444,
              "#bd3786"
             ],
             [
              0.5555555555555556,
              "#d8576b"
             ],
             [
              0.6666666666666666,
              "#ed7953"
             ],
             [
              0.7777777777777778,
              "#fb9f3a"
             ],
             [
              0.8888888888888888,
              "#fdca26"
             ],
             [
              1,
              "#f0f921"
             ]
            ],
            "type": "histogram2d"
           }
          ],
          "histogram2dcontour": [
           {
            "colorbar": {
             "outlinewidth": 0,
             "ticks": ""
            },
            "colorscale": [
             [
              0,
              "#0d0887"
             ],
             [
              0.1111111111111111,
              "#46039f"
             ],
             [
              0.2222222222222222,
              "#7201a8"
             ],
             [
              0.3333333333333333,
              "#9c179e"
             ],
             [
              0.4444444444444444,
              "#bd3786"
             ],
             [
              0.5555555555555556,
              "#d8576b"
             ],
             [
              0.6666666666666666,
              "#ed7953"
             ],
             [
              0.7777777777777778,
              "#fb9f3a"
             ],
             [
              0.8888888888888888,
              "#fdca26"
             ],
             [
              1,
              "#f0f921"
             ]
            ],
            "type": "histogram2dcontour"
           }
          ],
          "mesh3d": [
           {
            "colorbar": {
             "outlinewidth": 0,
             "ticks": ""
            },
            "type": "mesh3d"
           }
          ],
          "parcoords": [
           {
            "line": {
             "colorbar": {
              "outlinewidth": 0,
              "ticks": ""
             }
            },
            "type": "parcoords"
           }
          ],
          "pie": [
           {
            "automargin": true,
            "type": "pie"
           }
          ],
          "scatter": [
           {
            "fillpattern": {
             "fillmode": "overlay",
             "size": 10,
             "solidity": 0.2
            },
            "type": "scatter"
           }
          ],
          "scatter3d": [
           {
            "line": {
             "colorbar": {
              "outlinewidth": 0,
              "ticks": ""
             }
            },
            "marker": {
             "colorbar": {
              "outlinewidth": 0,
              "ticks": ""
             }
            },
            "type": "scatter3d"
           }
          ],
          "scattercarpet": [
           {
            "marker": {
             "colorbar": {
              "outlinewidth": 0,
              "ticks": ""
             }
            },
            "type": "scattercarpet"
           }
          ],
          "scattergeo": [
           {
            "marker": {
             "colorbar": {
              "outlinewidth": 0,
              "ticks": ""
             }
            },
            "type": "scattergeo"
           }
          ],
          "scattergl": [
           {
            "marker": {
             "colorbar": {
              "outlinewidth": 0,
              "ticks": ""
             }
            },
            "type": "scattergl"
           }
          ],
          "scattermapbox": [
           {
            "marker": {
             "colorbar": {
              "outlinewidth": 0,
              "ticks": ""
             }
            },
            "type": "scattermapbox"
           }
          ],
          "scatterpolar": [
           {
            "marker": {
             "colorbar": {
              "outlinewidth": 0,
              "ticks": ""
             }
            },
            "type": "scatterpolar"
           }
          ],
          "scatterpolargl": [
           {
            "marker": {
             "colorbar": {
              "outlinewidth": 0,
              "ticks": ""
             }
            },
            "type": "scatterpolargl"
           }
          ],
          "scatterternary": [
           {
            "marker": {
             "colorbar": {
              "outlinewidth": 0,
              "ticks": ""
             }
            },
            "type": "scatterternary"
           }
          ],
          "surface": [
           {
            "colorbar": {
             "outlinewidth": 0,
             "ticks": ""
            },
            "colorscale": [
             [
              0,
              "#0d0887"
             ],
             [
              0.1111111111111111,
              "#46039f"
             ],
             [
              0.2222222222222222,
              "#7201a8"
             ],
             [
              0.3333333333333333,
              "#9c179e"
             ],
             [
              0.4444444444444444,
              "#bd3786"
             ],
             [
              0.5555555555555556,
              "#d8576b"
             ],
             [
              0.6666666666666666,
              "#ed7953"
             ],
             [
              0.7777777777777778,
              "#fb9f3a"
             ],
             [
              0.8888888888888888,
              "#fdca26"
             ],
             [
              1,
              "#f0f921"
             ]
            ],
            "type": "surface"
           }
          ],
          "table": [
           {
            "cells": {
             "fill": {
              "color": "#EBF0F8"
             },
             "line": {
              "color": "white"
             }
            },
            "header": {
             "fill": {
              "color": "#C8D4E3"
             },
             "line": {
              "color": "white"
             }
            },
            "type": "table"
           }
          ]
         },
         "layout": {
          "annotationdefaults": {
           "arrowcolor": "#2a3f5f",
           "arrowhead": 0,
           "arrowwidth": 1
          },
          "autotypenumbers": "strict",
          "coloraxis": {
           "colorbar": {
            "outlinewidth": 0,
            "ticks": ""
           }
          },
          "colorscale": {
           "diverging": [
            [
             0,
             "#8e0152"
            ],
            [
             0.1,
             "#c51b7d"
            ],
            [
             0.2,
             "#de77ae"
            ],
            [
             0.3,
             "#f1b6da"
            ],
            [
             0.4,
             "#fde0ef"
            ],
            [
             0.5,
             "#f7f7f7"
            ],
            [
             0.6,
             "#e6f5d0"
            ],
            [
             0.7,
             "#b8e186"
            ],
            [
             0.8,
             "#7fbc41"
            ],
            [
             0.9,
             "#4d9221"
            ],
            [
             1,
             "#276419"
            ]
           ],
           "sequential": [
            [
             0,
             "#0d0887"
            ],
            [
             0.1111111111111111,
             "#46039f"
            ],
            [
             0.2222222222222222,
             "#7201a8"
            ],
            [
             0.3333333333333333,
             "#9c179e"
            ],
            [
             0.4444444444444444,
             "#bd3786"
            ],
            [
             0.5555555555555556,
             "#d8576b"
            ],
            [
             0.6666666666666666,
             "#ed7953"
            ],
            [
             0.7777777777777778,
             "#fb9f3a"
            ],
            [
             0.8888888888888888,
             "#fdca26"
            ],
            [
             1,
             "#f0f921"
            ]
           ],
           "sequentialminus": [
            [
             0,
             "#0d0887"
            ],
            [
             0.1111111111111111,
             "#46039f"
            ],
            [
             0.2222222222222222,
             "#7201a8"
            ],
            [
             0.3333333333333333,
             "#9c179e"
            ],
            [
             0.4444444444444444,
             "#bd3786"
            ],
            [
             0.5555555555555556,
             "#d8576b"
            ],
            [
             0.6666666666666666,
             "#ed7953"
            ],
            [
             0.7777777777777778,
             "#fb9f3a"
            ],
            [
             0.8888888888888888,
             "#fdca26"
            ],
            [
             1,
             "#f0f921"
            ]
           ]
          },
          "colorway": [
           "#636efa",
           "#EF553B",
           "#00cc96",
           "#ab63fa",
           "#FFA15A",
           "#19d3f3",
           "#FF6692",
           "#B6E880",
           "#FF97FF",
           "#FECB52"
          ],
          "font": {
           "color": "#2a3f5f"
          },
          "geo": {
           "bgcolor": "white",
           "lakecolor": "white",
           "landcolor": "#E5ECF6",
           "showlakes": true,
           "showland": true,
           "subunitcolor": "white"
          },
          "hoverlabel": {
           "align": "left"
          },
          "hovermode": "closest",
          "mapbox": {
           "style": "light"
          },
          "paper_bgcolor": "white",
          "plot_bgcolor": "#E5ECF6",
          "polar": {
           "angularaxis": {
            "gridcolor": "white",
            "linecolor": "white",
            "ticks": ""
           },
           "bgcolor": "#E5ECF6",
           "radialaxis": {
            "gridcolor": "white",
            "linecolor": "white",
            "ticks": ""
           }
          },
          "scene": {
           "xaxis": {
            "backgroundcolor": "#E5ECF6",
            "gridcolor": "white",
            "gridwidth": 2,
            "linecolor": "white",
            "showbackground": true,
            "ticks": "",
            "zerolinecolor": "white"
           },
           "yaxis": {
            "backgroundcolor": "#E5ECF6",
            "gridcolor": "white",
            "gridwidth": 2,
            "linecolor": "white",
            "showbackground": true,
            "ticks": "",
            "zerolinecolor": "white"
           },
           "zaxis": {
            "backgroundcolor": "#E5ECF6",
            "gridcolor": "white",
            "gridwidth": 2,
            "linecolor": "white",
            "showbackground": true,
            "ticks": "",
            "zerolinecolor": "white"
           }
          },
          "shapedefaults": {
           "line": {
            "color": "#2a3f5f"
           }
          },
          "ternary": {
           "aaxis": {
            "gridcolor": "white",
            "linecolor": "white",
            "ticks": ""
           },
           "baxis": {
            "gridcolor": "white",
            "linecolor": "white",
            "ticks": ""
           },
           "bgcolor": "#E5ECF6",
           "caxis": {
            "gridcolor": "white",
            "linecolor": "white",
            "ticks": ""
           }
          },
          "title": {
           "x": 0.05
          },
          "xaxis": {
           "automargin": true,
           "gridcolor": "white",
           "linecolor": "white",
           "ticks": "",
           "title": {
            "standoff": 15
           },
           "zerolinecolor": "white",
           "zerolinewidth": 2
          },
          "yaxis": {
           "automargin": true,
           "gridcolor": "white",
           "linecolor": "white",
           "ticks": "",
           "title": {
            "standoff": 15
           },
           "zerolinecolor": "white",
           "zerolinewidth": 2
          }
         }
        },
        "xaxis": {
         "anchor": "y",
         "domain": [
          0,
          0.1257142857142857
         ],
         "title": {
          "text": "hour"
         }
        },
        "xaxis2": {
         "anchor": "y2",
         "domain": [
          0.14571428571428569,
          0.27142857142857135
         ],
         "matches": "x",
         "title": {
          "text": "hour"
         }
        },
        "xaxis3": {
         "anchor": "y3",
         "domain": [
          0.29142857142857137,
          0.41714285714285704
         ],
         "matches": "x",
         "title": {
          "text": "hour"
         }
        },
        "xaxis4": {
         "anchor": "y4",
         "domain": [
          0.4371428571428571,
          0.5628571428571428
         ],
         "matches": "x",
         "title": {
          "text": "hour"
         }
        },
        "xaxis5": {
         "anchor": "y5",
         "domain": [
          0.5828571428571427,
          0.7085714285714284
         ],
         "matches": "x",
         "title": {
          "text": "hour"
         }
        },
        "xaxis6": {
         "anchor": "y6",
         "domain": [
          0.7285714285714284,
          0.8542857142857141
         ],
         "matches": "x",
         "title": {
          "text": "hour"
         }
        },
        "xaxis7": {
         "anchor": "y7",
         "domain": [
          0.8742857142857141,
          0.9999999999999998
         ],
         "matches": "x",
         "title": {
          "text": "hour"
         }
        },
        "yaxis": {
         "anchor": "x",
         "domain": [
          0,
          1
         ],
         "title": {
          "text": "passenger_cnt"
         }
        },
        "yaxis2": {
         "anchor": "x2",
         "domain": [
          0,
          1
         ],
         "matches": "y",
         "showticklabels": false
        },
        "yaxis3": {
         "anchor": "x3",
         "domain": [
          0,
          1
         ],
         "matches": "y",
         "showticklabels": false
        },
        "yaxis4": {
         "anchor": "x4",
         "domain": [
          0,
          1
         ],
         "matches": "y",
         "showticklabels": false
        },
        "yaxis5": {
         "anchor": "x5",
         "domain": [
          0,
          1
         ],
         "matches": "y",
         "showticklabels": false
        },
        "yaxis6": {
         "anchor": "x6",
         "domain": [
          0,
          1
         ],
         "matches": "y",
         "showticklabels": false
        },
        "yaxis7": {
         "anchor": "x7",
         "domain": [
          0,
          1
         ],
         "matches": "y",
         "showticklabels": false
        }
       }
      }
     },
     "metadata": {},
     "output_type": "display_data"
    }
   ],
   "source": [
    "day_data = df.groupby(['dayOfWeek', 'hour'])['passenger_cnt'].agg('sum').reset_index()\n",
    "fig = px.line(day_data, x=\"hour\", y=\"passenger_cnt\", facet_col=\"dayOfWeek\")\n",
    "fig.show()"
   ]
  },
  {
   "cell_type": "code",
   "execution_count": 9,
   "metadata": {},
   "outputs": [
    {
     "data": {
      "application/vnd.plotly.v1+json": {
       "config": {
        "plotlyServerURL": "https://plot.ly"
       },
       "data": [
        {
         "hovertemplate": "weekday=0<br>hour=%{x}<br>passenger_cnt=%{y}<extra></extra>",
         "legendgroup": "",
         "line": {
          "color": "#636efa",
          "dash": "solid"
         },
         "marker": {
          "symbol": "circle"
         },
         "mode": "lines",
         "name": "",
         "orientation": "v",
         "showlegend": false,
         "type": "scatter",
         "x": [
          0,
          1,
          5,
          6,
          7,
          8,
          9,
          10,
          11,
          12,
          13,
          14,
          15,
          16,
          17,
          18,
          19,
          20,
          21,
          22,
          23
         ],
         "xaxis": "x",
         "y": [
          0.9300196685637764,
          0.026395631067961164,
          0.0033792266488115166,
          1.3814236692333446,
          3.142492467358554,
          5.349200703046535,
          5.561035319718782,
          6.089607047204553,
          7.327533896886508,
          7.477454385671242,
          7.97100979243388,
          7.850173669233344,
          7.762962420488785,
          8.701498158687647,
          10.303554988282558,
          9.630021760964178,
          7.315711834616672,
          6.224849347171075,
          6.057949029126213,
          4.906281386006026,
          2.436150401740877
         ],
         "yaxis": "y"
        },
        {
         "hovertemplate": "weekday=1<br>hour=%{x}<br>passenger_cnt=%{y}<extra></extra>",
         "legendgroup": "",
         "line": {
          "color": "#636efa",
          "dash": "solid"
         },
         "marker": {
          "symbol": "circle"
         },
         "mode": "lines",
         "name": "",
         "orientation": "v",
         "showlegend": false,
         "type": "scatter",
         "x": [
          0,
          1,
          5,
          6,
          7,
          8,
          9,
          10,
          11,
          12,
          13,
          14,
          15,
          16,
          17,
          18,
          19,
          20,
          21,
          22,
          23
         ],
         "xaxis": "x2",
         "y": [
          0.8208410688742125,
          0.02499847825425328,
          0.00307773077274249,
          2.203834038408863,
          9.479114039626259,
          17.920214870499436,
          9.836199287822991,
          6.381737529293606,
          6.257110357001552,
          6.5903156100678695,
          6.83385579937304,
          6.383327753598929,
          6.485041239309736,
          8.34698846516724,
          12.532831664485498,
          17.88986745594546,
          11.976812399184345,
          7.305231761877225,
          6.792163770277262,
          5.3740641263657665,
          2.1514555498067383
         ],
         "yaxis": "y2"
        }
       ],
       "layout": {
        "annotations": [
         {
          "font": {},
          "showarrow": false,
          "text": "weekday=0",
          "x": 0.245,
          "xanchor": "center",
          "xref": "paper",
          "y": 1,
          "yanchor": "bottom",
          "yref": "paper"
         },
         {
          "font": {},
          "showarrow": false,
          "text": "weekday=1",
          "x": 0.755,
          "xanchor": "center",
          "xref": "paper",
          "y": 1,
          "yanchor": "bottom",
          "yref": "paper"
         }
        ],
        "legend": {
         "tracegroupgap": 0
        },
        "margin": {
         "t": 60
        },
        "template": {
         "data": {
          "bar": [
           {
            "error_x": {
             "color": "#2a3f5f"
            },
            "error_y": {
             "color": "#2a3f5f"
            },
            "marker": {
             "line": {
              "color": "#E5ECF6",
              "width": 0.5
             },
             "pattern": {
              "fillmode": "overlay",
              "size": 10,
              "solidity": 0.2
             }
            },
            "type": "bar"
           }
          ],
          "barpolar": [
           {
            "marker": {
             "line": {
              "color": "#E5ECF6",
              "width": 0.5
             },
             "pattern": {
              "fillmode": "overlay",
              "size": 10,
              "solidity": 0.2
             }
            },
            "type": "barpolar"
           }
          ],
          "carpet": [
           {
            "aaxis": {
             "endlinecolor": "#2a3f5f",
             "gridcolor": "white",
             "linecolor": "white",
             "minorgridcolor": "white",
             "startlinecolor": "#2a3f5f"
            },
            "baxis": {
             "endlinecolor": "#2a3f5f",
             "gridcolor": "white",
             "linecolor": "white",
             "minorgridcolor": "white",
             "startlinecolor": "#2a3f5f"
            },
            "type": "carpet"
           }
          ],
          "choropleth": [
           {
            "colorbar": {
             "outlinewidth": 0,
             "ticks": ""
            },
            "type": "choropleth"
           }
          ],
          "contour": [
           {
            "colorbar": {
             "outlinewidth": 0,
             "ticks": ""
            },
            "colorscale": [
             [
              0,
              "#0d0887"
             ],
             [
              0.1111111111111111,
              "#46039f"
             ],
             [
              0.2222222222222222,
              "#7201a8"
             ],
             [
              0.3333333333333333,
              "#9c179e"
             ],
             [
              0.4444444444444444,
              "#bd3786"
             ],
             [
              0.5555555555555556,
              "#d8576b"
             ],
             [
              0.6666666666666666,
              "#ed7953"
             ],
             [
              0.7777777777777778,
              "#fb9f3a"
             ],
             [
              0.8888888888888888,
              "#fdca26"
             ],
             [
              1,
              "#f0f921"
             ]
            ],
            "type": "contour"
           }
          ],
          "contourcarpet": [
           {
            "colorbar": {
             "outlinewidth": 0,
             "ticks": ""
            },
            "type": "contourcarpet"
           }
          ],
          "heatmap": [
           {
            "colorbar": {
             "outlinewidth": 0,
             "ticks": ""
            },
            "colorscale": [
             [
              0,
              "#0d0887"
             ],
             [
              0.1111111111111111,
              "#46039f"
             ],
             [
              0.2222222222222222,
              "#7201a8"
             ],
             [
              0.3333333333333333,
              "#9c179e"
             ],
             [
              0.4444444444444444,
              "#bd3786"
             ],
             [
              0.5555555555555556,
              "#d8576b"
             ],
             [
              0.6666666666666666,
              "#ed7953"
             ],
             [
              0.7777777777777778,
              "#fb9f3a"
             ],
             [
              0.8888888888888888,
              "#fdca26"
             ],
             [
              1,
              "#f0f921"
             ]
            ],
            "type": "heatmap"
           }
          ],
          "heatmapgl": [
           {
            "colorbar": {
             "outlinewidth": 0,
             "ticks": ""
            },
            "colorscale": [
             [
              0,
              "#0d0887"
             ],
             [
              0.1111111111111111,
              "#46039f"
             ],
             [
              0.2222222222222222,
              "#7201a8"
             ],
             [
              0.3333333333333333,
              "#9c179e"
             ],
             [
              0.4444444444444444,
              "#bd3786"
             ],
             [
              0.5555555555555556,
              "#d8576b"
             ],
             [
              0.6666666666666666,
              "#ed7953"
             ],
             [
              0.7777777777777778,
              "#fb9f3a"
             ],
             [
              0.8888888888888888,
              "#fdca26"
             ],
             [
              1,
              "#f0f921"
             ]
            ],
            "type": "heatmapgl"
           }
          ],
          "histogram": [
           {
            "marker": {
             "pattern": {
              "fillmode": "overlay",
              "size": 10,
              "solidity": 0.2
             }
            },
            "type": "histogram"
           }
          ],
          "histogram2d": [
           {
            "colorbar": {
             "outlinewidth": 0,
             "ticks": ""
            },
            "colorscale": [
             [
              0,
              "#0d0887"
             ],
             [
              0.1111111111111111,
              "#46039f"
             ],
             [
              0.2222222222222222,
              "#7201a8"
             ],
             [
              0.3333333333333333,
              "#9c179e"
             ],
             [
              0.4444444444444444,
              "#bd3786"
             ],
             [
              0.5555555555555556,
              "#d8576b"
             ],
             [
              0.6666666666666666,
              "#ed7953"
             ],
             [
              0.7777777777777778,
              "#fb9f3a"
             ],
             [
              0.8888888888888888,
              "#fdca26"
             ],
             [
              1,
              "#f0f921"
             ]
            ],
            "type": "histogram2d"
           }
          ],
          "histogram2dcontour": [
           {
            "colorbar": {
             "outlinewidth": 0,
             "ticks": ""
            },
            "colorscale": [
             [
              0,
              "#0d0887"
             ],
             [
              0.1111111111111111,
              "#46039f"
             ],
             [
              0.2222222222222222,
              "#7201a8"
             ],
             [
              0.3333333333333333,
              "#9c179e"
             ],
             [
              0.4444444444444444,
              "#bd3786"
             ],
             [
              0.5555555555555556,
              "#d8576b"
             ],
             [
              0.6666666666666666,
              "#ed7953"
             ],
             [
              0.7777777777777778,
              "#fb9f3a"
             ],
             [
              0.8888888888888888,
              "#fdca26"
             ],
             [
              1,
              "#f0f921"
             ]
            ],
            "type": "histogram2dcontour"
           }
          ],
          "mesh3d": [
           {
            "colorbar": {
             "outlinewidth": 0,
             "ticks": ""
            },
            "type": "mesh3d"
           }
          ],
          "parcoords": [
           {
            "line": {
             "colorbar": {
              "outlinewidth": 0,
              "ticks": ""
             }
            },
            "type": "parcoords"
           }
          ],
          "pie": [
           {
            "automargin": true,
            "type": "pie"
           }
          ],
          "scatter": [
           {
            "fillpattern": {
             "fillmode": "overlay",
             "size": 10,
             "solidity": 0.2
            },
            "type": "scatter"
           }
          ],
          "scatter3d": [
           {
            "line": {
             "colorbar": {
              "outlinewidth": 0,
              "ticks": ""
             }
            },
            "marker": {
             "colorbar": {
              "outlinewidth": 0,
              "ticks": ""
             }
            },
            "type": "scatter3d"
           }
          ],
          "scattercarpet": [
           {
            "marker": {
             "colorbar": {
              "outlinewidth": 0,
              "ticks": ""
             }
            },
            "type": "scattercarpet"
           }
          ],
          "scattergeo": [
           {
            "marker": {
             "colorbar": {
              "outlinewidth": 0,
              "ticks": ""
             }
            },
            "type": "scattergeo"
           }
          ],
          "scattergl": [
           {
            "marker": {
             "colorbar": {
              "outlinewidth": 0,
              "ticks": ""
             }
            },
            "type": "scattergl"
           }
          ],
          "scattermapbox": [
           {
            "marker": {
             "colorbar": {
              "outlinewidth": 0,
              "ticks": ""
             }
            },
            "type": "scattermapbox"
           }
          ],
          "scatterpolar": [
           {
            "marker": {
             "colorbar": {
              "outlinewidth": 0,
              "ticks": ""
             }
            },
            "type": "scatterpolar"
           }
          ],
          "scatterpolargl": [
           {
            "marker": {
             "colorbar": {
              "outlinewidth": 0,
              "ticks": ""
             }
            },
            "type": "scatterpolargl"
           }
          ],
          "scatterternary": [
           {
            "marker": {
             "colorbar": {
              "outlinewidth": 0,
              "ticks": ""
             }
            },
            "type": "scatterternary"
           }
          ],
          "surface": [
           {
            "colorbar": {
             "outlinewidth": 0,
             "ticks": ""
            },
            "colorscale": [
             [
              0,
              "#0d0887"
             ],
             [
              0.1111111111111111,
              "#46039f"
             ],
             [
              0.2222222222222222,
              "#7201a8"
             ],
             [
              0.3333333333333333,
              "#9c179e"
             ],
             [
              0.4444444444444444,
              "#bd3786"
             ],
             [
              0.5555555555555556,
              "#d8576b"
             ],
             [
              0.6666666666666666,
              "#ed7953"
             ],
             [
              0.7777777777777778,
              "#fb9f3a"
             ],
             [
              0.8888888888888888,
              "#fdca26"
             ],
             [
              1,
              "#f0f921"
             ]
            ],
            "type": "surface"
           }
          ],
          "table": [
           {
            "cells": {
             "fill": {
              "color": "#EBF0F8"
             },
             "line": {
              "color": "white"
             }
            },
            "header": {
             "fill": {
              "color": "#C8D4E3"
             },
             "line": {
              "color": "white"
             }
            },
            "type": "table"
           }
          ]
         },
         "layout": {
          "annotationdefaults": {
           "arrowcolor": "#2a3f5f",
           "arrowhead": 0,
           "arrowwidth": 1
          },
          "autotypenumbers": "strict",
          "coloraxis": {
           "colorbar": {
            "outlinewidth": 0,
            "ticks": ""
           }
          },
          "colorscale": {
           "diverging": [
            [
             0,
             "#8e0152"
            ],
            [
             0.1,
             "#c51b7d"
            ],
            [
             0.2,
             "#de77ae"
            ],
            [
             0.3,
             "#f1b6da"
            ],
            [
             0.4,
             "#fde0ef"
            ],
            [
             0.5,
             "#f7f7f7"
            ],
            [
             0.6,
             "#e6f5d0"
            ],
            [
             0.7,
             "#b8e186"
            ],
            [
             0.8,
             "#7fbc41"
            ],
            [
             0.9,
             "#4d9221"
            ],
            [
             1,
             "#276419"
            ]
           ],
           "sequential": [
            [
             0,
             "#0d0887"
            ],
            [
             0.1111111111111111,
             "#46039f"
            ],
            [
             0.2222222222222222,
             "#7201a8"
            ],
            [
             0.3333333333333333,
             "#9c179e"
            ],
            [
             0.4444444444444444,
             "#bd3786"
            ],
            [
             0.5555555555555556,
             "#d8576b"
            ],
            [
             0.6666666666666666,
             "#ed7953"
            ],
            [
             0.7777777777777778,
             "#fb9f3a"
            ],
            [
             0.8888888888888888,
             "#fdca26"
            ],
            [
             1,
             "#f0f921"
            ]
           ],
           "sequentialminus": [
            [
             0,
             "#0d0887"
            ],
            [
             0.1111111111111111,
             "#46039f"
            ],
            [
             0.2222222222222222,
             "#7201a8"
            ],
            [
             0.3333333333333333,
             "#9c179e"
            ],
            [
             0.4444444444444444,
             "#bd3786"
            ],
            [
             0.5555555555555556,
             "#d8576b"
            ],
            [
             0.6666666666666666,
             "#ed7953"
            ],
            [
             0.7777777777777778,
             "#fb9f3a"
            ],
            [
             0.8888888888888888,
             "#fdca26"
            ],
            [
             1,
             "#f0f921"
            ]
           ]
          },
          "colorway": [
           "#636efa",
           "#EF553B",
           "#00cc96",
           "#ab63fa",
           "#FFA15A",
           "#19d3f3",
           "#FF6692",
           "#B6E880",
           "#FF97FF",
           "#FECB52"
          ],
          "font": {
           "color": "#2a3f5f"
          },
          "geo": {
           "bgcolor": "white",
           "lakecolor": "white",
           "landcolor": "#E5ECF6",
           "showlakes": true,
           "showland": true,
           "subunitcolor": "white"
          },
          "hoverlabel": {
           "align": "left"
          },
          "hovermode": "closest",
          "mapbox": {
           "style": "light"
          },
          "paper_bgcolor": "white",
          "plot_bgcolor": "#E5ECF6",
          "polar": {
           "angularaxis": {
            "gridcolor": "white",
            "linecolor": "white",
            "ticks": ""
           },
           "bgcolor": "#E5ECF6",
           "radialaxis": {
            "gridcolor": "white",
            "linecolor": "white",
            "ticks": ""
           }
          },
          "scene": {
           "xaxis": {
            "backgroundcolor": "#E5ECF6",
            "gridcolor": "white",
            "gridwidth": 2,
            "linecolor": "white",
            "showbackground": true,
            "ticks": "",
            "zerolinecolor": "white"
           },
           "yaxis": {
            "backgroundcolor": "#E5ECF6",
            "gridcolor": "white",
            "gridwidth": 2,
            "linecolor": "white",
            "showbackground": true,
            "ticks": "",
            "zerolinecolor": "white"
           },
           "zaxis": {
            "backgroundcolor": "#E5ECF6",
            "gridcolor": "white",
            "gridwidth": 2,
            "linecolor": "white",
            "showbackground": true,
            "ticks": "",
            "zerolinecolor": "white"
           }
          },
          "shapedefaults": {
           "line": {
            "color": "#2a3f5f"
           }
          },
          "ternary": {
           "aaxis": {
            "gridcolor": "white",
            "linecolor": "white",
            "ticks": ""
           },
           "baxis": {
            "gridcolor": "white",
            "linecolor": "white",
            "ticks": ""
           },
           "bgcolor": "#E5ECF6",
           "caxis": {
            "gridcolor": "white",
            "linecolor": "white",
            "ticks": ""
           }
          },
          "title": {
           "x": 0.05
          },
          "xaxis": {
           "automargin": true,
           "gridcolor": "white",
           "linecolor": "white",
           "ticks": "",
           "title": {
            "standoff": 15
           },
           "zerolinecolor": "white",
           "zerolinewidth": 2
          },
          "yaxis": {
           "automargin": true,
           "gridcolor": "white",
           "linecolor": "white",
           "ticks": "",
           "title": {
            "standoff": 15
           },
           "zerolinecolor": "white",
           "zerolinewidth": 2
          }
         }
        },
        "xaxis": {
         "anchor": "y",
         "domain": [
          0,
          0.49
         ],
         "title": {
          "text": "hour"
         }
        },
        "xaxis2": {
         "anchor": "y2",
         "domain": [
          0.51,
          1
         ],
         "matches": "x",
         "title": {
          "text": "hour"
         }
        },
        "yaxis": {
         "anchor": "x",
         "domain": [
          0,
          1
         ],
         "title": {
          "text": "passenger_cnt"
         }
        },
        "yaxis2": {
         "anchor": "x2",
         "domain": [
          0,
          1
         ],
         "matches": "y",
         "showticklabels": false
        }
       }
      }
     },
     "metadata": {},
     "output_type": "display_data"
    }
   ],
   "source": [
    "weekday_data = df.groupby(['weekday', 'hour'])['passenger_cnt'].agg('mean').reset_index()\n",
    "fig = px.line(weekday_data, x=\"hour\", y=\"passenger_cnt\", facet_col=\"weekday\")\n",
    "fig.show()"
   ]
  },
  {
   "cell_type": "code",
   "execution_count": 10,
   "metadata": {},
   "outputs": [
    {
     "name": "stderr",
     "output_type": "stream",
     "text": [
      "/var/folders/x5/4d64q7td2l59kf73lvykgkq40000gn/T/ipykernel_18387/4068975086.py:5: SettingWithCopyWarning:\n",
      "\n",
      "\n",
      "A value is trying to be set on a copy of a slice from a DataFrame.\n",
      "Try using .loc[row_indexer,col_indexer] = value instead\n",
      "\n",
      "See the caveats in the documentation: https://pandas.pydata.org/pandas-docs/stable/user_guide/indexing.html#returning-a-view-versus-a-copy\n",
      "\n"
     ]
    },
    {
     "data": {
      "application/vnd.plotly.v1+json": {
       "config": {
        "plotlyServerURL": "https://plot.ly"
       },
       "data": [
        {
         "hovertemplate": "Area=Business<br>origin=Taipei_City_Hall<br>Hour=%{x}<br>Passengers Count=%{y}<extra></extra>",
         "legendgroup": "Business",
         "line": {
          "color": "#636efa",
          "dash": "solid"
         },
         "marker": {
          "symbol": "circle"
         },
         "mode": "lines",
         "name": "Business",
         "orientation": "v",
         "showlegend": true,
         "type": "scatter",
         "x": [
          0,
          1,
          5,
          6,
          7,
          8,
          9,
          10,
          11,
          12,
          13,
          14,
          15,
          16,
          17,
          18,
          19,
          20,
          21,
          22,
          23
         ],
         "xaxis": "x",
         "y": [
          4.241394527802295,
          0.07105030891438659,
          0.0048543689320388345,
          2.581641659311562,
          11.468667255075022,
          18.73036187113857,
          13.054721977052074,
          11.175198587819947,
          12.979258605472198,
          16.39673433362754,
          19.315533980582526,
          21.909973521624007,
          24.567078552515447,
          33.07502206531333,
          50.11165048543689,
          81.57193292144748,
          62.6513680494263,
          40.387466902030006,
          40.23742277140335,
          38.59135039717564,
          12.541924095322154
         ],
         "yaxis": "y"
        },
        {
         "hovertemplate": "Area=Business<br>origin=Zhongxiao_Fuxing<br>Hour=%{x}<br>Passengers Count=%{y}<extra></extra>",
         "legendgroup": "Business",
         "line": {
          "color": "#636efa",
          "dash": "solid"
         },
         "marker": {
          "symbol": "circle"
         },
         "mode": "lines",
         "name": "Business",
         "orientation": "v",
         "showlegend": false,
         "type": "scatter",
         "x": [
          0,
          1,
          5,
          6,
          7,
          8,
          9,
          10,
          11,
          12,
          13,
          14,
          15,
          16,
          17,
          18,
          19,
          20,
          21,
          22,
          23
         ],
         "xaxis": "x",
         "y": [
          3.921006178287732,
          0.14474845542806708,
          0.00088261253309797,
          1.794792586054722,
          6.324360105913504,
          11.79567519858782,
          8.939541041482789,
          7.971315092674316,
          10.334068843777581,
          14.068843777581641,
          17.67740511915269,
          19.979258605472197,
          22.550308914386584,
          26.073256840247133,
          33.09664607237423,
          45.04810238305384,
          38.310679611650485,
          31.51323918799647,
          33.31950573698146,
          27.66460723742277,
          9.447925860547219
         ],
         "yaxis": "y"
        },
        {
         "hovertemplate": "Area=Residence<br>origin=Xinpu<br>Hour=%{x}<br>Passengers Count=%{y}<extra></extra>",
         "legendgroup": "Residence",
         "line": {
          "color": "#EF553B",
          "dash": "solid"
         },
         "marker": {
          "symbol": "circle"
         },
         "mode": "lines",
         "name": "Residence",
         "orientation": "v",
         "showlegend": true,
         "type": "scatter",
         "x": [
          0,
          1,
          5,
          6,
          7,
          8,
          9,
          10,
          11,
          12,
          13,
          14,
          15,
          16,
          17,
          18,
          19,
          20,
          21,
          22,
          23
         ],
         "xaxis": "x",
         "y": [
          0.7118270079435128,
          0.02559576345984113,
          0.005736981465136805,
          7.879523389232127,
          35.96381288614298,
          73.08517210944396,
          34.9991173874669,
          18.958958517210945,
          15.00838481906443,
          14.330097087378642,
          15.079435127978817,
          12.576787290379523,
          11.004854368932039,
          11.236540158870255,
          15.149161518093557,
          19.216240070609004,
          13.30891438658429,
          8.587378640776699,
          7.901147396293028,
          5.598411297440424,
          2.266990291262136
         ],
         "yaxis": "y"
        },
        {
         "hovertemplate": "Area=Residence<br>origin=Yongan_Market<br>Hour=%{x}<br>Passengers Count=%{y}<extra></extra>",
         "legendgroup": "Residence",
         "line": {
          "color": "#EF553B",
          "dash": "solid"
         },
         "marker": {
          "symbol": "circle"
         },
         "mode": "lines",
         "name": "Residence",
         "orientation": "v",
         "showlegend": false,
         "type": "scatter",
         "x": [
          0,
          1,
          5,
          6,
          7,
          8,
          9,
          10,
          11,
          12,
          13,
          14,
          15,
          16,
          17,
          18,
          19,
          20,
          21,
          22,
          23
         ],
         "xaxis": "x",
         "y": [
          0.4836716681376876,
          0.003971756398940865,
          0.001323918799646955,
          5.388790820829656,
          22.685789938217123,
          51.034421888790824,
          25.64342453662842,
          13.002647837599294,
          10.241835834068844,
          9.30008826125331,
          9.885260370697264,
          8.054721977052074,
          6.657987643424536,
          6.578111209179171,
          9.236981465136806,
          10.772727272727273,
          7.006178287731686,
          4.782877316857899,
          4.612974404236541,
          3.1954986760812005,
          1.4466019417475728
         ],
         "yaxis": "y"
        }
       ],
       "layout": {
        "legend": {
         "title": {
          "text": "Area"
         },
         "tracegroupgap": 0
        },
        "template": {
         "data": {
          "bar": [
           {
            "error_x": {
             "color": "#2a3f5f"
            },
            "error_y": {
             "color": "#2a3f5f"
            },
            "marker": {
             "line": {
              "color": "#E5ECF6",
              "width": 0.5
             },
             "pattern": {
              "fillmode": "overlay",
              "size": 10,
              "solidity": 0.2
             }
            },
            "type": "bar"
           }
          ],
          "barpolar": [
           {
            "marker": {
             "line": {
              "color": "#E5ECF6",
              "width": 0.5
             },
             "pattern": {
              "fillmode": "overlay",
              "size": 10,
              "solidity": 0.2
             }
            },
            "type": "barpolar"
           }
          ],
          "carpet": [
           {
            "aaxis": {
             "endlinecolor": "#2a3f5f",
             "gridcolor": "white",
             "linecolor": "white",
             "minorgridcolor": "white",
             "startlinecolor": "#2a3f5f"
            },
            "baxis": {
             "endlinecolor": "#2a3f5f",
             "gridcolor": "white",
             "linecolor": "white",
             "minorgridcolor": "white",
             "startlinecolor": "#2a3f5f"
            },
            "type": "carpet"
           }
          ],
          "choropleth": [
           {
            "colorbar": {
             "outlinewidth": 0,
             "ticks": ""
            },
            "type": "choropleth"
           }
          ],
          "contour": [
           {
            "colorbar": {
             "outlinewidth": 0,
             "ticks": ""
            },
            "colorscale": [
             [
              0,
              "#0d0887"
             ],
             [
              0.1111111111111111,
              "#46039f"
             ],
             [
              0.2222222222222222,
              "#7201a8"
             ],
             [
              0.3333333333333333,
              "#9c179e"
             ],
             [
              0.4444444444444444,
              "#bd3786"
             ],
             [
              0.5555555555555556,
              "#d8576b"
             ],
             [
              0.6666666666666666,
              "#ed7953"
             ],
             [
              0.7777777777777778,
              "#fb9f3a"
             ],
             [
              0.8888888888888888,
              "#fdca26"
             ],
             [
              1,
              "#f0f921"
             ]
            ],
            "type": "contour"
           }
          ],
          "contourcarpet": [
           {
            "colorbar": {
             "outlinewidth": 0,
             "ticks": ""
            },
            "type": "contourcarpet"
           }
          ],
          "heatmap": [
           {
            "colorbar": {
             "outlinewidth": 0,
             "ticks": ""
            },
            "colorscale": [
             [
              0,
              "#0d0887"
             ],
             [
              0.1111111111111111,
              "#46039f"
             ],
             [
              0.2222222222222222,
              "#7201a8"
             ],
             [
              0.3333333333333333,
              "#9c179e"
             ],
             [
              0.4444444444444444,
              "#bd3786"
             ],
             [
              0.5555555555555556,
              "#d8576b"
             ],
             [
              0.6666666666666666,
              "#ed7953"
             ],
             [
              0.7777777777777778,
              "#fb9f3a"
             ],
             [
              0.8888888888888888,
              "#fdca26"
             ],
             [
              1,
              "#f0f921"
             ]
            ],
            "type": "heatmap"
           }
          ],
          "heatmapgl": [
           {
            "colorbar": {
             "outlinewidth": 0,
             "ticks": ""
            },
            "colorscale": [
             [
              0,
              "#0d0887"
             ],
             [
              0.1111111111111111,
              "#46039f"
             ],
             [
              0.2222222222222222,
              "#7201a8"
             ],
             [
              0.3333333333333333,
              "#9c179e"
             ],
             [
              0.4444444444444444,
              "#bd3786"
             ],
             [
              0.5555555555555556,
              "#d8576b"
             ],
             [
              0.6666666666666666,
              "#ed7953"
             ],
             [
              0.7777777777777778,
              "#fb9f3a"
             ],
             [
              0.8888888888888888,
              "#fdca26"
             ],
             [
              1,
              "#f0f921"
             ]
            ],
            "type": "heatmapgl"
           }
          ],
          "histogram": [
           {
            "marker": {
             "pattern": {
              "fillmode": "overlay",
              "size": 10,
              "solidity": 0.2
             }
            },
            "type": "histogram"
           }
          ],
          "histogram2d": [
           {
            "colorbar": {
             "outlinewidth": 0,
             "ticks": ""
            },
            "colorscale": [
             [
              0,
              "#0d0887"
             ],
             [
              0.1111111111111111,
              "#46039f"
             ],
             [
              0.2222222222222222,
              "#7201a8"
             ],
             [
              0.3333333333333333,
              "#9c179e"
             ],
             [
              0.4444444444444444,
              "#bd3786"
             ],
             [
              0.5555555555555556,
              "#d8576b"
             ],
             [
              0.6666666666666666,
              "#ed7953"
             ],
             [
              0.7777777777777778,
              "#fb9f3a"
             ],
             [
              0.8888888888888888,
              "#fdca26"
             ],
             [
              1,
              "#f0f921"
             ]
            ],
            "type": "histogram2d"
           }
          ],
          "histogram2dcontour": [
           {
            "colorbar": {
             "outlinewidth": 0,
             "ticks": ""
            },
            "colorscale": [
             [
              0,
              "#0d0887"
             ],
             [
              0.1111111111111111,
              "#46039f"
             ],
             [
              0.2222222222222222,
              "#7201a8"
             ],
             [
              0.3333333333333333,
              "#9c179e"
             ],
             [
              0.4444444444444444,
              "#bd3786"
             ],
             [
              0.5555555555555556,
              "#d8576b"
             ],
             [
              0.6666666666666666,
              "#ed7953"
             ],
             [
              0.7777777777777778,
              "#fb9f3a"
             ],
             [
              0.8888888888888888,
              "#fdca26"
             ],
             [
              1,
              "#f0f921"
             ]
            ],
            "type": "histogram2dcontour"
           }
          ],
          "mesh3d": [
           {
            "colorbar": {
             "outlinewidth": 0,
             "ticks": ""
            },
            "type": "mesh3d"
           }
          ],
          "parcoords": [
           {
            "line": {
             "colorbar": {
              "outlinewidth": 0,
              "ticks": ""
             }
            },
            "type": "parcoords"
           }
          ],
          "pie": [
           {
            "automargin": true,
            "type": "pie"
           }
          ],
          "scatter": [
           {
            "fillpattern": {
             "fillmode": "overlay",
             "size": 10,
             "solidity": 0.2
            },
            "type": "scatter"
           }
          ],
          "scatter3d": [
           {
            "line": {
             "colorbar": {
              "outlinewidth": 0,
              "ticks": ""
             }
            },
            "marker": {
             "colorbar": {
              "outlinewidth": 0,
              "ticks": ""
             }
            },
            "type": "scatter3d"
           }
          ],
          "scattercarpet": [
           {
            "marker": {
             "colorbar": {
              "outlinewidth": 0,
              "ticks": ""
             }
            },
            "type": "scattercarpet"
           }
          ],
          "scattergeo": [
           {
            "marker": {
             "colorbar": {
              "outlinewidth": 0,
              "ticks": ""
             }
            },
            "type": "scattergeo"
           }
          ],
          "scattergl": [
           {
            "marker": {
             "colorbar": {
              "outlinewidth": 0,
              "ticks": ""
             }
            },
            "type": "scattergl"
           }
          ],
          "scattermapbox": [
           {
            "marker": {
             "colorbar": {
              "outlinewidth": 0,
              "ticks": ""
             }
            },
            "type": "scattermapbox"
           }
          ],
          "scatterpolar": [
           {
            "marker": {
             "colorbar": {
              "outlinewidth": 0,
              "ticks": ""
             }
            },
            "type": "scatterpolar"
           }
          ],
          "scatterpolargl": [
           {
            "marker": {
             "colorbar": {
              "outlinewidth": 0,
              "ticks": ""
             }
            },
            "type": "scatterpolargl"
           }
          ],
          "scatterternary": [
           {
            "marker": {
             "colorbar": {
              "outlinewidth": 0,
              "ticks": ""
             }
            },
            "type": "scatterternary"
           }
          ],
          "surface": [
           {
            "colorbar": {
             "outlinewidth": 0,
             "ticks": ""
            },
            "colorscale": [
             [
              0,
              "#0d0887"
             ],
             [
              0.1111111111111111,
              "#46039f"
             ],
             [
              0.2222222222222222,
              "#7201a8"
             ],
             [
              0.3333333333333333,
              "#9c179e"
             ],
             [
              0.4444444444444444,
              "#bd3786"
             ],
             [
              0.5555555555555556,
              "#d8576b"
             ],
             [
              0.6666666666666666,
              "#ed7953"
             ],
             [
              0.7777777777777778,
              "#fb9f3a"
             ],
             [
              0.8888888888888888,
              "#fdca26"
             ],
             [
              1,
              "#f0f921"
             ]
            ],
            "type": "surface"
           }
          ],
          "table": [
           {
            "cells": {
             "fill": {
              "color": "#EBF0F8"
             },
             "line": {
              "color": "white"
             }
            },
            "header": {
             "fill": {
              "color": "#C8D4E3"
             },
             "line": {
              "color": "white"
             }
            },
            "type": "table"
           }
          ]
         },
         "layout": {
          "annotationdefaults": {
           "arrowcolor": "#2a3f5f",
           "arrowhead": 0,
           "arrowwidth": 1
          },
          "autotypenumbers": "strict",
          "coloraxis": {
           "colorbar": {
            "outlinewidth": 0,
            "ticks": ""
           }
          },
          "colorscale": {
           "diverging": [
            [
             0,
             "#8e0152"
            ],
            [
             0.1,
             "#c51b7d"
            ],
            [
             0.2,
             "#de77ae"
            ],
            [
             0.3,
             "#f1b6da"
            ],
            [
             0.4,
             "#fde0ef"
            ],
            [
             0.5,
             "#f7f7f7"
            ],
            [
             0.6,
             "#e6f5d0"
            ],
            [
             0.7,
             "#b8e186"
            ],
            [
             0.8,
             "#7fbc41"
            ],
            [
             0.9,
             "#4d9221"
            ],
            [
             1,
             "#276419"
            ]
           ],
           "sequential": [
            [
             0,
             "#0d0887"
            ],
            [
             0.1111111111111111,
             "#46039f"
            ],
            [
             0.2222222222222222,
             "#7201a8"
            ],
            [
             0.3333333333333333,
             "#9c179e"
            ],
            [
             0.4444444444444444,
             "#bd3786"
            ],
            [
             0.5555555555555556,
             "#d8576b"
            ],
            [
             0.6666666666666666,
             "#ed7953"
            ],
            [
             0.7777777777777778,
             "#fb9f3a"
            ],
            [
             0.8888888888888888,
             "#fdca26"
            ],
            [
             1,
             "#f0f921"
            ]
           ],
           "sequentialminus": [
            [
             0,
             "#0d0887"
            ],
            [
             0.1111111111111111,
             "#46039f"
            ],
            [
             0.2222222222222222,
             "#7201a8"
            ],
            [
             0.3333333333333333,
             "#9c179e"
            ],
            [
             0.4444444444444444,
             "#bd3786"
            ],
            [
             0.5555555555555556,
             "#d8576b"
            ],
            [
             0.6666666666666666,
             "#ed7953"
            ],
            [
             0.7777777777777778,
             "#fb9f3a"
            ],
            [
             0.8888888888888888,
             "#fdca26"
            ],
            [
             1,
             "#f0f921"
            ]
           ]
          },
          "colorway": [
           "#636efa",
           "#EF553B",
           "#00cc96",
           "#ab63fa",
           "#FFA15A",
           "#19d3f3",
           "#FF6692",
           "#B6E880",
           "#FF97FF",
           "#FECB52"
          ],
          "font": {
           "color": "#2a3f5f"
          },
          "geo": {
           "bgcolor": "white",
           "lakecolor": "white",
           "landcolor": "#E5ECF6",
           "showlakes": true,
           "showland": true,
           "subunitcolor": "white"
          },
          "hoverlabel": {
           "align": "left"
          },
          "hovermode": "closest",
          "mapbox": {
           "style": "light"
          },
          "paper_bgcolor": "white",
          "plot_bgcolor": "#E5ECF6",
          "polar": {
           "angularaxis": {
            "gridcolor": "white",
            "linecolor": "white",
            "ticks": ""
           },
           "bgcolor": "#E5ECF6",
           "radialaxis": {
            "gridcolor": "white",
            "linecolor": "white",
            "ticks": ""
           }
          },
          "scene": {
           "xaxis": {
            "backgroundcolor": "#E5ECF6",
            "gridcolor": "white",
            "gridwidth": 2,
            "linecolor": "white",
            "showbackground": true,
            "ticks": "",
            "zerolinecolor": "white"
           },
           "yaxis": {
            "backgroundcolor": "#E5ECF6",
            "gridcolor": "white",
            "gridwidth": 2,
            "linecolor": "white",
            "showbackground": true,
            "ticks": "",
            "zerolinecolor": "white"
           },
           "zaxis": {
            "backgroundcolor": "#E5ECF6",
            "gridcolor": "white",
            "gridwidth": 2,
            "linecolor": "white",
            "showbackground": true,
            "ticks": "",
            "zerolinecolor": "white"
           }
          },
          "shapedefaults": {
           "line": {
            "color": "#2a3f5f"
           }
          },
          "ternary": {
           "aaxis": {
            "gridcolor": "white",
            "linecolor": "white",
            "ticks": ""
           },
           "baxis": {
            "gridcolor": "white",
            "linecolor": "white",
            "ticks": ""
           },
           "bgcolor": "#E5ECF6",
           "caxis": {
            "gridcolor": "white",
            "linecolor": "white",
            "ticks": ""
           }
          },
          "title": {
           "x": 0.05
          },
          "xaxis": {
           "automargin": true,
           "gridcolor": "white",
           "linecolor": "white",
           "ticks": "",
           "title": {
            "standoff": 15
           },
           "zerolinecolor": "white",
           "zerolinewidth": 2
          },
          "yaxis": {
           "automargin": true,
           "gridcolor": "white",
           "linecolor": "white",
           "ticks": "",
           "title": {
            "standoff": 15
           },
           "zerolinecolor": "white",
           "zerolinewidth": 2
          }
         }
        },
        "title": {
         "text": "Average Weekday Input by Stations - Specifying Residence/Business Area"
        },
        "xaxis": {
         "anchor": "y",
         "domain": [
          0,
          1
         ],
         "title": {
          "text": "Hour"
         }
        },
        "yaxis": {
         "anchor": "x",
         "domain": [
          0,
          1
         ],
         "title": {
          "text": "Passengers Count"
         }
        }
       }
      }
     },
     "metadata": {},
     "output_type": "display_data"
    }
   ],
   "source": [
    "df_weekday = df[df['weekday'] == 1].groupby(['hour','origin'])['passenger_cnt'].agg('mean').reset_index()\n",
    "\n",
    "# Comment this line to plot all stations\n",
    "df_weekday_plot = df_weekday[df_weekday['origin'].isin(['Zhongxiao_Fuxing', 'Taipei_City_Hall', 'Xinpu', 'Yongan_Market'])] \n",
    "df_weekday_plot['Area'] = ['Business', 'Residence', 'Residence','Business'] * 21\n",
    "\n",
    "fig = px.line(df_weekday_plot, x=\"hour\", y=\"passenger_cnt\", \n",
    "              color='Area', line_group=\"origin\", \n",
    "              title='Average Weekday Input by Stations - Specifying Residence/Business Area',\n",
    "              labels={\n",
    "                        \"passenger_cnt\": \"Passengers Count\",\n",
    "                        \"hour\": \"Hour\",\n",
    "                    },)\n",
    "fig.show()"
   ]
  },
  {
   "cell_type": "markdown",
   "metadata": {},
   "source": [
    "## Modeling"
   ]
  },
  {
   "cell_type": "markdown",
   "metadata": {},
   "source": [
    "### Task 5: PCA & K-Means"
   ]
  },
  {
   "cell_type": "markdown",
   "metadata": {},
   "source": [
    "#### Filter weekdays data"
   ]
  },
  {
   "cell_type": "code",
   "execution_count": 11,
   "metadata": {},
   "outputs": [
    {
     "data": {
      "text/html": [
       "<div>\n",
       "<style scoped>\n",
       "    .dataframe tbody tr th:only-of-type {\n",
       "        vertical-align: middle;\n",
       "    }\n",
       "\n",
       "    .dataframe tbody tr th {\n",
       "        vertical-align: top;\n",
       "    }\n",
       "\n",
       "    .dataframe thead th {\n",
       "        text-align: right;\n",
       "    }\n",
       "</style>\n",
       "<table border=\"1\" class=\"dataframe\">\n",
       "  <thead>\n",
       "    <tr style=\"text-align: right;\">\n",
       "      <th></th>\n",
       "      <th>date</th>\n",
       "      <th>hour</th>\n",
       "      <th>origin</th>\n",
       "      <th>destination</th>\n",
       "      <th>passenger_cnt</th>\n",
       "      <th>datetime</th>\n",
       "      <th>dayOfWeek</th>\n",
       "      <th>weekday</th>\n",
       "    </tr>\n",
       "  </thead>\n",
       "  <tbody>\n",
       "    <tr>\n",
       "      <th>0</th>\n",
       "      <td>2023-06-01</td>\n",
       "      <td>0</td>\n",
       "      <td>Songshan_Airport</td>\n",
       "      <td>Songshan_Airport</td>\n",
       "      <td>0</td>\n",
       "      <td>2023-06-01 00:00:00</td>\n",
       "      <td>Thursday</td>\n",
       "      <td>1</td>\n",
       "    </tr>\n",
       "    <tr>\n",
       "      <th>1</th>\n",
       "      <td>2023-06-01</td>\n",
       "      <td>0</td>\n",
       "      <td>Songshan_Airport</td>\n",
       "      <td>Zhongshan_Junior_High_School</td>\n",
       "      <td>0</td>\n",
       "      <td>2023-06-01 00:00:00</td>\n",
       "      <td>Thursday</td>\n",
       "      <td>1</td>\n",
       "    </tr>\n",
       "    <tr>\n",
       "      <th>2</th>\n",
       "      <td>2023-06-01</td>\n",
       "      <td>0</td>\n",
       "      <td>Songshan_Airport</td>\n",
       "      <td>Nanjing_Fuxing</td>\n",
       "      <td>0</td>\n",
       "      <td>2023-06-01 00:00:00</td>\n",
       "      <td>Thursday</td>\n",
       "      <td>1</td>\n",
       "    </tr>\n",
       "    <tr>\n",
       "      <th>3</th>\n",
       "      <td>2023-06-01</td>\n",
       "      <td>0</td>\n",
       "      <td>Songshan_Airport</td>\n",
       "      <td>Zhongxiao_Fuxing</td>\n",
       "      <td>0</td>\n",
       "      <td>2023-06-01 00:00:00</td>\n",
       "      <td>Thursday</td>\n",
       "      <td>1</td>\n",
       "    </tr>\n",
       "    <tr>\n",
       "      <th>4</th>\n",
       "      <td>2023-06-01</td>\n",
       "      <td>0</td>\n",
       "      <td>Songshan_Airport</td>\n",
       "      <td>Daan</td>\n",
       "      <td>1</td>\n",
       "      <td>2023-06-01 00:00:00</td>\n",
       "      <td>Thursday</td>\n",
       "      <td>1</td>\n",
       "    </tr>\n",
       "    <tr>\n",
       "      <th>...</th>\n",
       "      <td>...</td>\n",
       "      <td>...</td>\n",
       "      <td>...</td>\n",
       "      <td>...</td>\n",
       "      <td>...</td>\n",
       "      <td>...</td>\n",
       "      <td>...</td>\n",
       "      <td>...</td>\n",
       "    </tr>\n",
       "    <tr>\n",
       "      <th>8096755</th>\n",
       "      <td>2023-06-30</td>\n",
       "      <td>23</td>\n",
       "      <td>New_Taipei_Industrial_Park</td>\n",
       "      <td>St.lgnatius_High_School</td>\n",
       "      <td>0</td>\n",
       "      <td>2023-06-30 23:00:00</td>\n",
       "      <td>Friday</td>\n",
       "      <td>1</td>\n",
       "    </tr>\n",
       "    <tr>\n",
       "      <th>8096756</th>\n",
       "      <td>2023-06-30</td>\n",
       "      <td>23</td>\n",
       "      <td>New_Taipei_Industrial_Park</td>\n",
       "      <td>Sanhe_Junior_High_School</td>\n",
       "      <td>0</td>\n",
       "      <td>2023-06-30 23:00:00</td>\n",
       "      <td>Friday</td>\n",
       "      <td>1</td>\n",
       "    </tr>\n",
       "    <tr>\n",
       "      <th>8096757</th>\n",
       "      <td>2023-06-30</td>\n",
       "      <td>23</td>\n",
       "      <td>New_Taipei_Industrial_Park</td>\n",
       "      <td>Sanchong_Elementary_School</td>\n",
       "      <td>0</td>\n",
       "      <td>2023-06-30 23:00:00</td>\n",
       "      <td>Friday</td>\n",
       "      <td>1</td>\n",
       "    </tr>\n",
       "    <tr>\n",
       "      <th>8096758</th>\n",
       "      <td>2023-06-30</td>\n",
       "      <td>23</td>\n",
       "      <td>New_Taipei_Industrial_Park</td>\n",
       "      <td>Huilong</td>\n",
       "      <td>0</td>\n",
       "      <td>2023-06-30 23:00:00</td>\n",
       "      <td>Friday</td>\n",
       "      <td>1</td>\n",
       "    </tr>\n",
       "    <tr>\n",
       "      <th>8096759</th>\n",
       "      <td>2023-06-30</td>\n",
       "      <td>23</td>\n",
       "      <td>New_Taipei_Industrial_Park</td>\n",
       "      <td>Danfeng</td>\n",
       "      <td>0</td>\n",
       "      <td>2023-06-30 23:00:00</td>\n",
       "      <td>Friday</td>\n",
       "      <td>1</td>\n",
       "    </tr>\n",
       "  </tbody>\n",
       "</table>\n",
       "<p>5519976 rows × 8 columns</p>\n",
       "</div>"
      ],
      "text/plain": [
       "               date  hour                      origin  \\\n",
       "0        2023-06-01     0            Songshan_Airport   \n",
       "1        2023-06-01     0            Songshan_Airport   \n",
       "2        2023-06-01     0            Songshan_Airport   \n",
       "3        2023-06-01     0            Songshan_Airport   \n",
       "4        2023-06-01     0            Songshan_Airport   \n",
       "...             ...   ...                         ...   \n",
       "8096755  2023-06-30    23  New_Taipei_Industrial_Park   \n",
       "8096756  2023-06-30    23  New_Taipei_Industrial_Park   \n",
       "8096757  2023-06-30    23  New_Taipei_Industrial_Park   \n",
       "8096758  2023-06-30    23  New_Taipei_Industrial_Park   \n",
       "8096759  2023-06-30    23  New_Taipei_Industrial_Park   \n",
       "\n",
       "                          destination  passenger_cnt            datetime  \\\n",
       "0                    Songshan_Airport              0 2023-06-01 00:00:00   \n",
       "1        Zhongshan_Junior_High_School              0 2023-06-01 00:00:00   \n",
       "2                      Nanjing_Fuxing              0 2023-06-01 00:00:00   \n",
       "3                    Zhongxiao_Fuxing              0 2023-06-01 00:00:00   \n",
       "4                                Daan              1 2023-06-01 00:00:00   \n",
       "...                               ...            ...                 ...   \n",
       "8096755       St.lgnatius_High_School              0 2023-06-30 23:00:00   \n",
       "8096756      Sanhe_Junior_High_School              0 2023-06-30 23:00:00   \n",
       "8096757    Sanchong_Elementary_School              0 2023-06-30 23:00:00   \n",
       "8096758                       Huilong              0 2023-06-30 23:00:00   \n",
       "8096759                       Danfeng              0 2023-06-30 23:00:00   \n",
       "\n",
       "        dayOfWeek  weekday  \n",
       "0        Thursday        1  \n",
       "1        Thursday        1  \n",
       "2        Thursday        1  \n",
       "3        Thursday        1  \n",
       "4        Thursday        1  \n",
       "...           ...      ...  \n",
       "8096755    Friday        1  \n",
       "8096756    Friday        1  \n",
       "8096757    Friday        1  \n",
       "8096758    Friday        1  \n",
       "8096759    Friday        1  \n",
       "\n",
       "[5519976 rows x 8 columns]"
      ]
     },
     "execution_count": 11,
     "metadata": {},
     "output_type": "execute_result"
    }
   ],
   "source": [
    "df_weekday = df[df['weekday'] == 1]\n",
    "df_weekday"
   ]
  },
  {
   "cell_type": "code",
   "execution_count": 12,
   "metadata": {},
   "outputs": [],
   "source": [
    "def create_Y_for_origin_hour(\n",
    "    data, N, M, origin_mapper, hour_mapper, origin_key=\"origin\", hour_key=\"hour\"\n",
    "):  # Function to create a dense utility matrix\n",
    "    data = data.groupby(['origin', 'hour'])['passenger_cnt'].mean().reset_index()\n",
    "    Y = np.zeros((N, M))\n",
    "    Y.fill(np.nan)\n",
    "    for index, val in data.iterrows():\n",
    "        n = origin_mapper[val[origin_key]]\n",
    "        m = hour_mapper[val[hour_key]]\n",
    "        Y[n, m] = val[\"passenger_cnt\"]\n",
    "\n",
    "    return Y"
   ]
  },
  {
   "cell_type": "code",
   "execution_count": 13,
   "metadata": {},
   "outputs": [
    {
     "data": {
      "text/html": [
       "<div>\n",
       "<style scoped>\n",
       "    .dataframe tbody tr th:only-of-type {\n",
       "        vertical-align: middle;\n",
       "    }\n",
       "\n",
       "    .dataframe tbody tr th {\n",
       "        vertical-align: top;\n",
       "    }\n",
       "\n",
       "    .dataframe thead th {\n",
       "        text-align: right;\n",
       "    }\n",
       "</style>\n",
       "<table border=\"1\" class=\"dataframe\">\n",
       "  <thead>\n",
       "    <tr style=\"text-align: right;\">\n",
       "      <th></th>\n",
       "      <th>0</th>\n",
       "      <th>1</th>\n",
       "      <th>5</th>\n",
       "      <th>6</th>\n",
       "      <th>7</th>\n",
       "      <th>8</th>\n",
       "      <th>9</th>\n",
       "      <th>10</th>\n",
       "      <th>11</th>\n",
       "      <th>12</th>\n",
       "      <th>...</th>\n",
       "      <th>14</th>\n",
       "      <th>15</th>\n",
       "      <th>16</th>\n",
       "      <th>17</th>\n",
       "      <th>18</th>\n",
       "      <th>19</th>\n",
       "      <th>20</th>\n",
       "      <th>21</th>\n",
       "      <th>22</th>\n",
       "      <th>23</th>\n",
       "    </tr>\n",
       "  </thead>\n",
       "  <tbody>\n",
       "    <tr>\n",
       "      <th>Banxin</th>\n",
       "      <td>0.00</td>\n",
       "      <td>0.0</td>\n",
       "      <td>0.0</td>\n",
       "      <td>0.02</td>\n",
       "      <td>0.09</td>\n",
       "      <td>0.15</td>\n",
       "      <td>0.09</td>\n",
       "      <td>0.04</td>\n",
       "      <td>0.04</td>\n",
       "      <td>0.04</td>\n",
       "      <td>...</td>\n",
       "      <td>0.03</td>\n",
       "      <td>0.04</td>\n",
       "      <td>0.05</td>\n",
       "      <td>0.07</td>\n",
       "      <td>0.12</td>\n",
       "      <td>0.07</td>\n",
       "      <td>0.04</td>\n",
       "      <td>0.03</td>\n",
       "      <td>0.03</td>\n",
       "      <td>0.01</td>\n",
       "    </tr>\n",
       "    <tr>\n",
       "      <th>Beimen</th>\n",
       "      <td>0.01</td>\n",
       "      <td>0.0</td>\n",
       "      <td>0.0</td>\n",
       "      <td>0.01</td>\n",
       "      <td>0.05</td>\n",
       "      <td>0.11</td>\n",
       "      <td>0.05</td>\n",
       "      <td>0.03</td>\n",
       "      <td>0.04</td>\n",
       "      <td>0.04</td>\n",
       "      <td>...</td>\n",
       "      <td>0.05</td>\n",
       "      <td>0.05</td>\n",
       "      <td>0.06</td>\n",
       "      <td>0.10</td>\n",
       "      <td>0.14</td>\n",
       "      <td>0.09</td>\n",
       "      <td>0.05</td>\n",
       "      <td>0.04</td>\n",
       "      <td>0.03</td>\n",
       "      <td>0.01</td>\n",
       "    </tr>\n",
       "    <tr>\n",
       "      <th>Beitou</th>\n",
       "      <td>0.00</td>\n",
       "      <td>0.0</td>\n",
       "      <td>0.0</td>\n",
       "      <td>0.03</td>\n",
       "      <td>0.10</td>\n",
       "      <td>0.15</td>\n",
       "      <td>0.08</td>\n",
       "      <td>0.06</td>\n",
       "      <td>0.05</td>\n",
       "      <td>0.05</td>\n",
       "      <td>...</td>\n",
       "      <td>0.05</td>\n",
       "      <td>0.04</td>\n",
       "      <td>0.05</td>\n",
       "      <td>0.07</td>\n",
       "      <td>0.08</td>\n",
       "      <td>0.04</td>\n",
       "      <td>0.03</td>\n",
       "      <td>0.03</td>\n",
       "      <td>0.02</td>\n",
       "      <td>0.01</td>\n",
       "    </tr>\n",
       "    <tr>\n",
       "      <th>Cailiao</th>\n",
       "      <td>0.00</td>\n",
       "      <td>0.0</td>\n",
       "      <td>0.0</td>\n",
       "      <td>0.03</td>\n",
       "      <td>0.13</td>\n",
       "      <td>0.23</td>\n",
       "      <td>0.11</td>\n",
       "      <td>0.05</td>\n",
       "      <td>0.04</td>\n",
       "      <td>0.04</td>\n",
       "      <td>...</td>\n",
       "      <td>0.03</td>\n",
       "      <td>0.03</td>\n",
       "      <td>0.04</td>\n",
       "      <td>0.06</td>\n",
       "      <td>0.06</td>\n",
       "      <td>0.03</td>\n",
       "      <td>0.02</td>\n",
       "      <td>0.02</td>\n",
       "      <td>0.02</td>\n",
       "      <td>0.01</td>\n",
       "    </tr>\n",
       "    <tr>\n",
       "      <th>Chiang_Kai-Shek_Memorial_Hall</th>\n",
       "      <td>0.00</td>\n",
       "      <td>0.0</td>\n",
       "      <td>0.0</td>\n",
       "      <td>0.01</td>\n",
       "      <td>0.03</td>\n",
       "      <td>0.06</td>\n",
       "      <td>0.04</td>\n",
       "      <td>0.03</td>\n",
       "      <td>0.04</td>\n",
       "      <td>0.06</td>\n",
       "      <td>...</td>\n",
       "      <td>0.05</td>\n",
       "      <td>0.05</td>\n",
       "      <td>0.08</td>\n",
       "      <td>0.15</td>\n",
       "      <td>0.15</td>\n",
       "      <td>0.07</td>\n",
       "      <td>0.04</td>\n",
       "      <td>0.05</td>\n",
       "      <td>0.04</td>\n",
       "      <td>0.01</td>\n",
       "    </tr>\n",
       "    <tr>\n",
       "      <th>...</th>\n",
       "      <td>...</td>\n",
       "      <td>...</td>\n",
       "      <td>...</td>\n",
       "      <td>...</td>\n",
       "      <td>...</td>\n",
       "      <td>...</td>\n",
       "      <td>...</td>\n",
       "      <td>...</td>\n",
       "      <td>...</td>\n",
       "      <td>...</td>\n",
       "      <td>...</td>\n",
       "      <td>...</td>\n",
       "      <td>...</td>\n",
       "      <td>...</td>\n",
       "      <td>...</td>\n",
       "      <td>...</td>\n",
       "      <td>...</td>\n",
       "      <td>...</td>\n",
       "      <td>...</td>\n",
       "      <td>...</td>\n",
       "      <td>...</td>\n",
       "    </tr>\n",
       "    <tr>\n",
       "      <th>Zhongxiao_Fuxing</th>\n",
       "      <td>0.01</td>\n",
       "      <td>0.0</td>\n",
       "      <td>0.0</td>\n",
       "      <td>0.00</td>\n",
       "      <td>0.02</td>\n",
       "      <td>0.03</td>\n",
       "      <td>0.02</td>\n",
       "      <td>0.02</td>\n",
       "      <td>0.03</td>\n",
       "      <td>0.04</td>\n",
       "      <td>...</td>\n",
       "      <td>0.05</td>\n",
       "      <td>0.06</td>\n",
       "      <td>0.07</td>\n",
       "      <td>0.09</td>\n",
       "      <td>0.12</td>\n",
       "      <td>0.10</td>\n",
       "      <td>0.09</td>\n",
       "      <td>0.09</td>\n",
       "      <td>0.07</td>\n",
       "      <td>0.03</td>\n",
       "    </tr>\n",
       "    <tr>\n",
       "      <th>Zhongxiao_Xinsheng</th>\n",
       "      <td>0.01</td>\n",
       "      <td>0.0</td>\n",
       "      <td>0.0</td>\n",
       "      <td>0.01</td>\n",
       "      <td>0.02</td>\n",
       "      <td>0.05</td>\n",
       "      <td>0.03</td>\n",
       "      <td>0.03</td>\n",
       "      <td>0.03</td>\n",
       "      <td>0.04</td>\n",
       "      <td>...</td>\n",
       "      <td>0.05</td>\n",
       "      <td>0.05</td>\n",
       "      <td>0.07</td>\n",
       "      <td>0.11</td>\n",
       "      <td>0.16</td>\n",
       "      <td>0.10</td>\n",
       "      <td>0.07</td>\n",
       "      <td>0.07</td>\n",
       "      <td>0.05</td>\n",
       "      <td>0.02</td>\n",
       "    </tr>\n",
       "    <tr>\n",
       "      <th>Zhongyi</th>\n",
       "      <td>0.00</td>\n",
       "      <td>0.0</td>\n",
       "      <td>0.0</td>\n",
       "      <td>0.02</td>\n",
       "      <td>0.07</td>\n",
       "      <td>0.09</td>\n",
       "      <td>0.05</td>\n",
       "      <td>0.04</td>\n",
       "      <td>0.05</td>\n",
       "      <td>0.05</td>\n",
       "      <td>...</td>\n",
       "      <td>0.04</td>\n",
       "      <td>0.04</td>\n",
       "      <td>0.06</td>\n",
       "      <td>0.10</td>\n",
       "      <td>0.14</td>\n",
       "      <td>0.10</td>\n",
       "      <td>0.05</td>\n",
       "      <td>0.02</td>\n",
       "      <td>0.01</td>\n",
       "      <td>0.01</td>\n",
       "    </tr>\n",
       "    <tr>\n",
       "      <th>Zhongyuan</th>\n",
       "      <td>0.00</td>\n",
       "      <td>0.0</td>\n",
       "      <td>0.0</td>\n",
       "      <td>0.01</td>\n",
       "      <td>0.04</td>\n",
       "      <td>0.08</td>\n",
       "      <td>0.04</td>\n",
       "      <td>0.03</td>\n",
       "      <td>0.02</td>\n",
       "      <td>0.03</td>\n",
       "      <td>...</td>\n",
       "      <td>0.02</td>\n",
       "      <td>0.02</td>\n",
       "      <td>0.03</td>\n",
       "      <td>0.08</td>\n",
       "      <td>0.28</td>\n",
       "      <td>0.17</td>\n",
       "      <td>0.05</td>\n",
       "      <td>0.03</td>\n",
       "      <td>0.02</td>\n",
       "      <td>0.01</td>\n",
       "    </tr>\n",
       "    <tr>\n",
       "      <th>Zhuwei</th>\n",
       "      <td>0.00</td>\n",
       "      <td>0.0</td>\n",
       "      <td>0.0</td>\n",
       "      <td>0.03</td>\n",
       "      <td>0.12</td>\n",
       "      <td>0.15</td>\n",
       "      <td>0.09</td>\n",
       "      <td>0.06</td>\n",
       "      <td>0.06</td>\n",
       "      <td>0.05</td>\n",
       "      <td>...</td>\n",
       "      <td>0.05</td>\n",
       "      <td>0.04</td>\n",
       "      <td>0.05</td>\n",
       "      <td>0.07</td>\n",
       "      <td>0.07</td>\n",
       "      <td>0.05</td>\n",
       "      <td>0.03</td>\n",
       "      <td>0.02</td>\n",
       "      <td>0.02</td>\n",
       "      <td>0.01</td>\n",
       "    </tr>\n",
       "  </tbody>\n",
       "</table>\n",
       "<p>116 rows × 21 columns</p>\n",
       "</div>"
      ],
      "text/plain": [
       "                                 0    1    5     6     7     8     9     10  \\\n",
       "Banxin                         0.00  0.0  0.0  0.02  0.09  0.15  0.09  0.04   \n",
       "Beimen                         0.01  0.0  0.0  0.01  0.05  0.11  0.05  0.03   \n",
       "Beitou                         0.00  0.0  0.0  0.03  0.10  0.15  0.08  0.06   \n",
       "Cailiao                        0.00  0.0  0.0  0.03  0.13  0.23  0.11  0.05   \n",
       "Chiang_Kai-Shek_Memorial_Hall  0.00  0.0  0.0  0.01  0.03  0.06  0.04  0.03   \n",
       "...                             ...  ...  ...   ...   ...   ...   ...   ...   \n",
       "Zhongxiao_Fuxing               0.01  0.0  0.0  0.00  0.02  0.03  0.02  0.02   \n",
       "Zhongxiao_Xinsheng             0.01  0.0  0.0  0.01  0.02  0.05  0.03  0.03   \n",
       "Zhongyi                        0.00  0.0  0.0  0.02  0.07  0.09  0.05  0.04   \n",
       "Zhongyuan                      0.00  0.0  0.0  0.01  0.04  0.08  0.04  0.03   \n",
       "Zhuwei                         0.00  0.0  0.0  0.03  0.12  0.15  0.09  0.06   \n",
       "\n",
       "                                 11    12  ...    14    15    16    17    18  \\\n",
       "Banxin                         0.04  0.04  ...  0.03  0.04  0.05  0.07  0.12   \n",
       "Beimen                         0.04  0.04  ...  0.05  0.05  0.06  0.10  0.14   \n",
       "Beitou                         0.05  0.05  ...  0.05  0.04  0.05  0.07  0.08   \n",
       "Cailiao                        0.04  0.04  ...  0.03  0.03  0.04  0.06  0.06   \n",
       "Chiang_Kai-Shek_Memorial_Hall  0.04  0.06  ...  0.05  0.05  0.08  0.15  0.15   \n",
       "...                             ...   ...  ...   ...   ...   ...   ...   ...   \n",
       "Zhongxiao_Fuxing               0.03  0.04  ...  0.05  0.06  0.07  0.09  0.12   \n",
       "Zhongxiao_Xinsheng             0.03  0.04  ...  0.05  0.05  0.07  0.11  0.16   \n",
       "Zhongyi                        0.05  0.05  ...  0.04  0.04  0.06  0.10  0.14   \n",
       "Zhongyuan                      0.02  0.03  ...  0.02  0.02  0.03  0.08  0.28   \n",
       "Zhuwei                         0.06  0.05  ...  0.05  0.04  0.05  0.07  0.07   \n",
       "\n",
       "                                 19    20    21    22    23  \n",
       "Banxin                         0.07  0.04  0.03  0.03  0.01  \n",
       "Beimen                         0.09  0.05  0.04  0.03  0.01  \n",
       "Beitou                         0.04  0.03  0.03  0.02  0.01  \n",
       "Cailiao                        0.03  0.02  0.02  0.02  0.01  \n",
       "Chiang_Kai-Shek_Memorial_Hall  0.07  0.04  0.05  0.04  0.01  \n",
       "...                             ...   ...   ...   ...   ...  \n",
       "Zhongxiao_Fuxing               0.10  0.09  0.09  0.07  0.03  \n",
       "Zhongxiao_Xinsheng             0.10  0.07  0.07  0.05  0.02  \n",
       "Zhongyi                        0.10  0.05  0.02  0.01  0.01  \n",
       "Zhongyuan                      0.17  0.05  0.03  0.02  0.01  \n",
       "Zhuwei                         0.05  0.03  0.02  0.02  0.01  \n",
       "\n",
       "[116 rows x 21 columns]"
      ]
     },
     "execution_count": 13,
     "metadata": {},
     "output_type": "execute_result"
    }
   ],
   "source": [
    "# origin v.s. hour\n",
    "\n",
    "N = len(df_weekday['origin'].unique())\n",
    "M = len(df_weekday['hour'].unique())\n",
    "origin_mapper = dict(zip(np.unique(df_weekday['origin']), list(range(N))))\n",
    "hour_mapper = dict(zip(np.unique(df_weekday['hour']), list(range(M))))\n",
    "origin_inverse_mapper = dict(zip(list(range(N)), np.unique(df_weekday['origin'])))\n",
    "dest_inverse_mapper = dict(zip(list(range(M)), np.unique(df_weekday['hour'])))\n",
    "\n",
    "utility_mat = create_Y_for_origin_hour(df_weekday,  N, M, origin_mapper, hour_mapper)\n",
    "utility_mat = utility_mat / utility_mat.sum(axis=1)[:,None]\n",
    "\n",
    "pd.DataFrame(utility_mat.round(2), index=origin_mapper.keys(), columns=hour_mapper.keys())"
   ]
  },
  {
   "cell_type": "markdown",
   "metadata": {},
   "source": [
    "#### PCA & KMeans"
   ]
  },
  {
   "cell_type": "markdown",
   "metadata": {},
   "source": [
    "Decide a proper `n_components` by looking at the cumulative explained variance ratio."
   ]
  },
  {
   "cell_type": "code",
   "execution_count": 14,
   "metadata": {},
   "outputs": [
    {
     "data": {
      "image/png": "[encoded data removed]",
      "text/plain": [
       "<Figure size 800x600 with 1 Axes>"
      ]
     },
     "metadata": {},
     "output_type": "display_data"
    }
   ],
   "source": [
    "X = utility_mat\n",
    "n_components = 21\n",
    "\n",
    "\n",
    "X = StandardScaler().fit_transform(X)\n",
    "\n",
    "pca = PCA(n_components=n_components, whiten=True, random_state=0)\n",
    "pca.fit(X)\n",
    "\n",
    "plt.figure(figsize=(8, 6))\n",
    "plt.plot(range(1, n_components+1), np.cumsum(pca.explained_variance_ratio_))\n",
    "plt.xticks(range(1, n_components+1, 20))\n",
    "plt.xlabel(\"number of components\")\n",
    "plt.ylabel(\"cumulative explained variance ratio\")\n",
    "plt.grid();\n",
    "plt.show()\n"
   ]
  },
  {
   "cell_type": "code",
   "execution_count": 17,
   "metadata": {},
   "outputs": [
    {
     "data": {
      "text/html": [
       "<style>#sk-container-id-1 {\n",
       "  /* Definition of color scheme common for light and dark mode */\n",
       "  --sklearn-color-text: black;\n",
       "  --sklearn-color-line: gray;\n",
       "  /* Definition of color scheme for unfitted estimators */\n",
       "  --sklearn-color-unfitted-level-0: #fff5e6;\n",
       "  --sklearn-color-unfitted-level-1: #f6e4d2;\n",
       "  --sklearn-color-unfitted-level-2: #ffe0b3;\n",
       "  --sklearn-color-unfitted-level-3: chocolate;\n",
       "  /* Definition of color scheme for fitted estimators */\n",
       "  --sklearn-color-fitted-level-0: #f0f8ff;\n",
       "  --sklearn-color-fitted-level-1: #d4ebff;\n",
       "  --sklearn-color-fitted-level-2: #b3dbfd;\n",
       "  --sklearn-color-fitted-level-3: cornflowerblue;\n",
       "\n",
       "  /* Specific color for light theme */\n",
       "  --sklearn-color-text-on-default-background: var(--sg-text-color, var(--theme-code-foreground, var(--jp-content-font-color1, black)));\n",
       "  --sklearn-color-background: var(--sg-background-color, var(--theme-background, var(--jp-layout-color0, white)));\n",
       "  --sklearn-color-border-box: var(--sg-text-color, var(--theme-code-foreground, var(--jp-content-font-color1, black)));\n",
       "  --sklearn-color-icon: #696969;\n",
       "\n",
       "  @media (prefers-color-scheme: dark) {\n",
       "    /* Redefinition of color scheme for dark theme */\n",
       "    --sklearn-color-text-on-default-background: var(--sg-text-color, var(--theme-code-foreground, var(--jp-content-font-color1, white)));\n",
       "    --sklearn-color-background: var(--sg-background-color, var(--theme-background, var(--jp-layout-color0, #111)));\n",
       "    --sklearn-color-border-box: var(--sg-text-color, var(--theme-code-foreground, var(--jp-content-font-color1, white)));\n",
       "    --sklearn-color-icon: #878787;\n",
       "  }\n",
       "}\n",
       "\n",
       "#sk-container-id-1 {\n",
       "  color: var(--sklearn-color-text);\n",
       "}\n",
       "\n",
       "#sk-container-id-1 pre {\n",
       "  padding: 0;\n",
       "}\n",
       "\n",
       "#sk-container-id-1 input.sk-hidden--visually {\n",
       "  border: 0;\n",
       "  clip: rect(1px 1px 1px 1px);\n",
       "  clip: rect(1px, 1px, 1px, 1px);\n",
       "  height: 1px;\n",
       "  margin: -1px;\n",
       "  overflow: hidden;\n",
       "  padding: 0;\n",
       "  position: absolute;\n",
       "  width: 1px;\n",
       "}\n",
       "\n",
       "#sk-container-id-1 div.sk-dashed-wrapped {\n",
       "  border: 1px dashed var(--sklearn-color-line);\n",
       "  margin: 0 0.4em 0.5em 0.4em;\n",
       "  box-sizing: border-box;\n",
       "  padding-bottom: 0.4em;\n",
       "  background-color: var(--sklearn-color-background);\n",
       "}\n",
       "\n",
       "#sk-container-id-1 div.sk-container {\n",
       "  /* jupyter's `normalize.less` sets `[hidden] { display: none; }`\n",
       "     but bootstrap.min.css set `[hidden] { display: none !important; }`\n",
       "     so we also need the `!important` here to be able to override the\n",
       "     default hidden behavior on the sphinx rendered scikit-learn.org.\n",
       "     See: https://github.com/scikit-learn/scikit-learn/issues/21755 */\n",
       "  display: inline-block !important;\n",
       "  position: relative;\n",
       "}\n",
       "\n",
       "#sk-container-id-1 div.sk-text-repr-fallback {\n",
       "  display: none;\n",
       "}\n",
       "\n",
       "div.sk-parallel-item,\n",
       "div.sk-serial,\n",
       "div.sk-item {\n",
       "  /* draw centered vertical line to link estimators */\n",
       "  background-image: linear-gradient(var(--sklearn-color-text-on-default-background), var(--sklearn-color-text-on-default-background));\n",
       "  background-size: 2px 100%;\n",
       "  background-repeat: no-repeat;\n",
       "  background-position: center center;\n",
       "}\n",
       "\n",
       "/* Parallel-specific style estimator block */\n",
       "\n",
       "#sk-container-id-1 div.sk-parallel-item::after {\n",
       "  content: \"\";\n",
       "  width: 100%;\n",
       "  border-bottom: 2px solid var(--sklearn-color-text-on-default-background);\n",
       "  flex-grow: 1;\n",
       "}\n",
       "\n",
       "#sk-container-id-1 div.sk-parallel {\n",
       "  display: flex;\n",
       "  align-items: stretch;\n",
       "  justify-content: center;\n",
       "  background-color: var(--sklearn-color-background);\n",
       "  position: relative;\n",
       "}\n",
       "\n",
       "#sk-container-id-1 div.sk-parallel-item {\n",
       "  display: flex;\n",
       "  flex-direction: column;\n",
       "}\n",
       "\n",
       "#sk-container-id-1 div.sk-parallel-item:first-child::after {\n",
       "  align-self: flex-end;\n",
       "  width: 50%;\n",
       "}\n",
       "\n",
       "#sk-container-id-1 div.sk-parallel-item:last-child::after {\n",
       "  align-self: flex-start;\n",
       "  width: 50%;\n",
       "}\n",
       "\n",
       "#sk-container-id-1 div.sk-parallel-item:only-child::after {\n",
       "  width: 0;\n",
       "}\n",
       "\n",
       "/* Serial-specific style estimator block */\n",
       "\n",
       "#sk-container-id-1 div.sk-serial {\n",
       "  display: flex;\n",
       "  flex-direction: column;\n",
       "  align-items: center;\n",
       "  background-color: var(--sklearn-color-background);\n",
       "  padding-right: 1em;\n",
       "  padding-left: 1em;\n",
       "}\n",
       "\n",
       "\n",
       "/* Toggleable style: style used for estimator/Pipeline/ColumnTransformer box that is\n",
       "clickable and can be expanded/collapsed.\n",
       "- Pipeline and ColumnTransformer use this feature and define the default style\n",
       "- Estimators will overwrite some part of the style using the `sk-estimator` class\n",
       "*/\n",
       "\n",
       "/* Pipeline and ColumnTransformer style (default) */\n",
       "\n",
       "#sk-container-id-1 div.sk-toggleable {\n",
       "  /* Default theme specific background. It is overwritten whether we have a\n",
       "  specific estimator or a Pipeline/ColumnTransformer */\n",
       "  background-color: var(--sklearn-color-background);\n",
       "}\n",
       "\n",
       "/* Toggleable label */\n",
       "#sk-container-id-1 label.sk-toggleable__label {\n",
       "  cursor: pointer;\n",
       "  display: block;\n",
       "  width: 100%;\n",
       "  margin-bottom: 0;\n",
       "  padding: 0.5em;\n",
       "  box-sizing: border-box;\n",
       "  text-align: center;\n",
       "}\n",
       "\n",
       "#sk-container-id-1 label.sk-toggleable__label-arrow:before {\n",
       "  /* Arrow on the left of the label */\n",
       "  content: \"▸\";\n",
       "  float: left;\n",
       "  margin-right: 0.25em;\n",
       "  color: var(--sklearn-color-icon);\n",
       "}\n",
       "\n",
       "#sk-container-id-1 label.sk-toggleable__label-arrow:hover:before {\n",
       "  color: var(--sklearn-color-text);\n",
       "}\n",
       "\n",
       "/* Toggleable content - dropdown */\n",
       "\n",
       "#sk-container-id-1 div.sk-toggleable__content {\n",
       "  max-height: 0;\n",
       "  max-width: 0;\n",
       "  overflow: hidden;\n",
       "  text-align: left;\n",
       "  /* unfitted */\n",
       "  background-color: var(--sklearn-color-unfitted-level-0);\n",
       "}\n",
       "\n",
       "#sk-container-id-1 div.sk-toggleable__content.fitted {\n",
       "  /* fitted */\n",
       "  background-color: var(--sklearn-color-fitted-level-0);\n",
       "}\n",
       "\n",
       "#sk-container-id-1 div.sk-toggleable__content pre {\n",
       "  margin: 0.2em;\n",
       "  border-radius: 0.25em;\n",
       "  color: var(--sklearn-color-text);\n",
       "  /* unfitted */\n",
       "  background-color: var(--sklearn-color-unfitted-level-0);\n",
       "}\n",
       "\n",
       "#sk-container-id-1 div.sk-toggleable__content.fitted pre {\n",
       "  /* unfitted */\n",
       "  background-color: var(--sklearn-color-fitted-level-0);\n",
       "}\n",
       "\n",
       "#sk-container-id-1 input.sk-toggleable__control:checked~div.sk-toggleable__content {\n",
       "  /* Expand drop-down */\n",
       "  max-height: 200px;\n",
       "  max-width: 100%;\n",
       "  overflow: auto;\n",
       "}\n",
       "\n",
       "#sk-container-id-1 input.sk-toggleable__control:checked~label.sk-toggleable__label-arrow:before {\n",
       "  content: \"▾\";\n",
       "}\n",
       "\n",
       "/* Pipeline/ColumnTransformer-specific style */\n",
       "\n",
       "#sk-container-id-1 div.sk-label input.sk-toggleable__control:checked~label.sk-toggleable__label {\n",
       "  color: var(--sklearn-color-text);\n",
       "  background-color: var(--sklearn-color-unfitted-level-2);\n",
       "}\n",
       "\n",
       "#sk-container-id-1 div.sk-label.fitted input.sk-toggleable__control:checked~label.sk-toggleable__label {\n",
       "  background-color: var(--sklearn-color-fitted-level-2);\n",
       "}\n",
       "\n",
       "/* Estimator-specific style */\n",
       "\n",
       "/* Colorize estimator box */\n",
       "#sk-container-id-1 div.sk-estimator input.sk-toggleable__control:checked~label.sk-toggleable__label {\n",
       "  /* unfitted */\n",
       "  background-color: var(--sklearn-color-unfitted-level-2);\n",
       "}\n",
       "\n",
       "#sk-container-id-1 div.sk-estimator.fitted input.sk-toggleable__control:checked~label.sk-toggleable__label {\n",
       "  /* fitted */\n",
       "  background-color: var(--sklearn-color-fitted-level-2);\n",
       "}\n",
       "\n",
       "#sk-container-id-1 div.sk-label label.sk-toggleable__label,\n",
       "#sk-container-id-1 div.sk-label label {\n",
       "  /* The background is the default theme color */\n",
       "  color: var(--sklearn-color-text-on-default-background);\n",
       "}\n",
       "\n",
       "/* On hover, darken the color of the background */\n",
       "#sk-container-id-1 div.sk-label:hover label.sk-toggleable__label {\n",
       "  color: var(--sklearn-color-text);\n",
       "  background-color: var(--sklearn-color-unfitted-level-2);\n",
       "}\n",
       "\n",
       "/* Label box, darken color on hover, fitted */\n",
       "#sk-container-id-1 div.sk-label.fitted:hover label.sk-toggleable__label.fitted {\n",
       "  color: var(--sklearn-color-text);\n",
       "  background-color: var(--sklearn-color-fitted-level-2);\n",
       "}\n",
       "\n",
       "/* Estimator label */\n",
       "\n",
       "#sk-container-id-1 div.sk-label label {\n",
       "  font-family: monospace;\n",
       "  font-weight: bold;\n",
       "  display: inline-block;\n",
       "  line-height: 1.2em;\n",
       "}\n",
       "\n",
       "#sk-container-id-1 div.sk-label-container {\n",
       "  text-align: center;\n",
       "}\n",
       "\n",
       "/* Estimator-specific */\n",
       "#sk-container-id-1 div.sk-estimator {\n",
       "  font-family: monospace;\n",
       "  border: 1px dotted var(--sklearn-color-border-box);\n",
       "  border-radius: 0.25em;\n",
       "  box-sizing: border-box;\n",
       "  margin-bottom: 0.5em;\n",
       "  /* unfitted */\n",
       "  background-color: var(--sklearn-color-unfitted-level-0);\n",
       "}\n",
       "\n",
       "#sk-container-id-1 div.sk-estimator.fitted {\n",
       "  /* fitted */\n",
       "  background-color: var(--sklearn-color-fitted-level-0);\n",
       "}\n",
       "\n",
       "/* on hover */\n",
       "#sk-container-id-1 div.sk-estimator:hover {\n",
       "  /* unfitted */\n",
       "  background-color: var(--sklearn-color-unfitted-level-2);\n",
       "}\n",
       "\n",
       "#sk-container-id-1 div.sk-estimator.fitted:hover {\n",
       "  /* fitted */\n",
       "  background-color: var(--sklearn-color-fitted-level-2);\n",
       "}\n",
       "\n",
       "/* Specification for estimator info (e.g. \"i\" and \"?\") */\n",
       "\n",
       "/* Common style for \"i\" and \"?\" */\n",
       "\n",
       ".sk-estimator-doc-link,\n",
       "a:link.sk-estimator-doc-link,\n",
       "a:visited.sk-estimator-doc-link {\n",
       "  float: right;\n",
       "  font-size: smaller;\n",
       "  line-height: 1em;\n",
       "  font-family: monospace;\n",
       "  background-color: var(--sklearn-color-background);\n",
       "  border-radius: 1em;\n",
       "  height: 1em;\n",
       "  width: 1em;\n",
       "  text-decoration: none !important;\n",
       "  margin-left: 1ex;\n",
       "  /* unfitted */\n",
       "  border: var(--sklearn-color-unfitted-level-1) 1pt solid;\n",
       "  color: var(--sklearn-color-unfitted-level-1);\n",
       "}\n",
       "\n",
       ".sk-estimator-doc-link.fitted,\n",
       "a:link.sk-estimator-doc-link.fitted,\n",
       "a:visited.sk-estimator-doc-link.fitted {\n",
       "  /* fitted */\n",
       "  border: var(--sklearn-color-fitted-level-1) 1pt solid;\n",
       "  color: var(--sklearn-color-fitted-level-1);\n",
       "}\n",
       "\n",
       "/* On hover */\n",
       "div.sk-estimator:hover .sk-estimator-doc-link:hover,\n",
       ".sk-estimator-doc-link:hover,\n",
       "div.sk-label-container:hover .sk-estimator-doc-link:hover,\n",
       ".sk-estimator-doc-link:hover {\n",
       "  /* unfitted */\n",
       "  background-color: var(--sklearn-color-unfitted-level-3);\n",
       "  color: var(--sklearn-color-background);\n",
       "  text-decoration: none;\n",
       "}\n",
       "\n",
       "div.sk-estimator.fitted:hover .sk-estimator-doc-link.fitted:hover,\n",
       ".sk-estimator-doc-link.fitted:hover,\n",
       "div.sk-label-container:hover .sk-estimator-doc-link.fitted:hover,\n",
       ".sk-estimator-doc-link.fitted:hover {\n",
       "  /* fitted */\n",
       "  background-color: var(--sklearn-color-fitted-level-3);\n",
       "  color: var(--sklearn-color-background);\n",
       "  text-decoration: none;\n",
       "}\n",
       "\n",
       "/* Span, style for the box shown on hovering the info icon */\n",
       ".sk-estimator-doc-link span {\n",
       "  display: none;\n",
       "  z-index: 9999;\n",
       "  position: relative;\n",
       "  font-weight: normal;\n",
       "  right: .2ex;\n",
       "  padding: .5ex;\n",
       "  margin: .5ex;\n",
       "  width: min-content;\n",
       "  min-width: 20ex;\n",
       "  max-width: 50ex;\n",
       "  color: var(--sklearn-color-text);\n",
       "  box-shadow: 2pt 2pt 4pt #999;\n",
       "  /* unfitted */\n",
       "  background: var(--sklearn-color-unfitted-level-0);\n",
       "  border: .5pt solid var(--sklearn-color-unfitted-level-3);\n",
       "}\n",
       "\n",
       ".sk-estimator-doc-link.fitted span {\n",
       "  /* fitted */\n",
       "  background: var(--sklearn-color-fitted-level-0);\n",
       "  border: var(--sklearn-color-fitted-level-3);\n",
       "}\n",
       "\n",
       ".sk-estimator-doc-link:hover span {\n",
       "  display: block;\n",
       "}\n",
       "\n",
       "/* \"?\"-specific style due to the `<a>` HTML tag */\n",
       "\n",
       "#sk-container-id-1 a.estimator_doc_link {\n",
       "  float: right;\n",
       "  font-size: 1rem;\n",
       "  line-height: 1em;\n",
       "  font-family: monospace;\n",
       "  background-color: var(--sklearn-color-background);\n",
       "  border-radius: 1rem;\n",
       "  height: 1rem;\n",
       "  width: 1rem;\n",
       "  text-decoration: none;\n",
       "  /* unfitted */\n",
       "  color: var(--sklearn-color-unfitted-level-1);\n",
       "  border: var(--sklearn-color-unfitted-level-1) 1pt solid;\n",
       "}\n",
       "\n",
       "#sk-container-id-1 a.estimator_doc_link.fitted {\n",
       "  /* fitted */\n",
       "  border: var(--sklearn-color-fitted-level-1) 1pt solid;\n",
       "  color: var(--sklearn-color-fitted-level-1);\n",
       "}\n",
       "\n",
       "/* On hover */\n",
       "#sk-container-id-1 a.estimator_doc_link:hover {\n",
       "  /* unfitted */\n",
       "  background-color: var(--sklearn-color-unfitted-level-3);\n",
       "  color: var(--sklearn-color-background);\n",
       "  text-decoration: none;\n",
       "}\n",
       "\n",
       "#sk-container-id-1 a.estimator_doc_link.fitted:hover {\n",
       "  /* fitted */\n",
       "  background-color: var(--sklearn-color-fitted-level-3);\n",
       "}\n",
       "</style><div id=\"sk-container-id-1\" class=\"sk-top-container\"><div class=\"sk-text-repr-fallback\"><pre>PCA(n_components=3)</pre><b>In a Jupyter environment, please rerun this cell to show the HTML representation or trust the notebook. <br />On GitHub, the HTML representation is unable to render, please try loading this page with nbviewer.org.</b></div><div class=\"sk-container\" hidden><div class=\"sk-item\"><div class=\"sk-estimator fitted sk-toggleable\"><input class=\"sk-toggleable__control sk-hidden--visually\" id=\"sk-estimator-id-1\" type=\"checkbox\" checked><label for=\"sk-estimator-id-1\" class=\"sk-toggleable__label fitted sk-toggleable__label-arrow fitted\">&nbsp;&nbsp;PCA<a class=\"sk-estimator-doc-link fitted\" rel=\"noreferrer\" target=\"_blank\" href=\"https://scikit-learn.org/1.4/modules/generated/sklearn.decomposition.PCA.html\">?<span>Documentation for PCA</span></a><span class=\"sk-estimator-doc-link fitted\">i<span>Fitted</span></span></label><div class=\"sk-toggleable__content fitted\"><pre>PCA(n_components=3)</pre></div> </div></div></div></div>"
      ],
      "text/plain": [
       "PCA(n_components=3)"
      ]
     },
     "execution_count": 17,
     "metadata": {},
     "output_type": "execute_result"
    }
   ],
   "source": [
    "n_components = 3\n",
    "pca = PCA(n_components=n_components)\n",
    "\n",
    "X_tran = StandardScaler().fit_transform(X)\n",
    "pca.fit(X_tran)"
   ]
  },
  {
   "cell_type": "markdown",
   "metadata": {},
   "source": [
    "When looking at the $W$ matrix below, we can identify that :\n",
    "- PC_1 is night hours\n",
    "- PC_2 is noon hours\n",
    "- PC_3 is morning hours"
   ]
  },
  {
   "cell_type": "code",
   "execution_count": 18,
   "metadata": {},
   "outputs": [
    {
     "data": {
      "text/html": [
       "<style type=\"text/css\">\n",
       "#T_83ebb_row0_col0 {\n",
       "  background-color: #75b4d8;\n",
       "  color: #000000;\n",
       "}\n",
       "#T_83ebb_row0_col1 {\n",
       "  background-color: #c7dbef;\n",
       "  color: #000000;\n",
       "}\n",
       "#T_83ebb_row0_col2, #T_83ebb_row0_col3, #T_83ebb_row0_col4, #T_83ebb_row0_col5, #T_83ebb_row0_col6, #T_83ebb_row0_col7, #T_83ebb_row0_col8, #T_83ebb_row0_col10, #T_83ebb_row1_col0, #T_83ebb_row1_col1, #T_83ebb_row1_col16, #T_83ebb_row1_col17, #T_83ebb_row1_col18, #T_83ebb_row1_col19, #T_83ebb_row1_col20, #T_83ebb_row2_col9, #T_83ebb_row2_col11, #T_83ebb_row2_col12, #T_83ebb_row2_col13, #T_83ebb_row2_col14, #T_83ebb_row2_col15 {\n",
       "  background-color: #f7fbff;\n",
       "  color: #000000;\n",
       "}\n",
       "#T_83ebb_row0_col9 {\n",
       "  background-color: #ecf4fb;\n",
       "  color: #000000;\n",
       "}\n",
       "#T_83ebb_row0_col11 {\n",
       "  background-color: #deebf7;\n",
       "  color: #000000;\n",
       "}\n",
       "#T_83ebb_row0_col12 {\n",
       "  background-color: #7fb9da;\n",
       "  color: #000000;\n",
       "}\n",
       "#T_83ebb_row0_col13 {\n",
       "  background-color: #2b7bba;\n",
       "  color: #f1f1f1;\n",
       "}\n",
       "#T_83ebb_row0_col14, #T_83ebb_row0_col15, #T_83ebb_row0_col16, #T_83ebb_row0_col17, #T_83ebb_row0_col18, #T_83ebb_row1_col7, #T_83ebb_row1_col8, #T_83ebb_row1_col9, #T_83ebb_row1_col10, #T_83ebb_row1_col11, #T_83ebb_row1_col12, #T_83ebb_row1_col13, #T_83ebb_row2_col0, #T_83ebb_row2_col1, #T_83ebb_row2_col2, #T_83ebb_row2_col3, #T_83ebb_row2_col4, #T_83ebb_row2_col5, #T_83ebb_row2_col6, #T_83ebb_row2_col19, #T_83ebb_row2_col20 {\n",
       "  background-color: #08306b;\n",
       "  color: #f1f1f1;\n",
       "}\n",
       "#T_83ebb_row0_col19 {\n",
       "  background-color: #1764ab;\n",
       "  color: #f1f1f1;\n",
       "}\n",
       "#T_83ebb_row0_col20 {\n",
       "  background-color: #5aa2cf;\n",
       "  color: #f1f1f1;\n",
       "}\n",
       "#T_83ebb_row1_col2 {\n",
       "  background-color: #2070b4;\n",
       "  color: #f1f1f1;\n",
       "}\n",
       "#T_83ebb_row1_col3 {\n",
       "  background-color: #58a1cf;\n",
       "  color: #f1f1f1;\n",
       "}\n",
       "#T_83ebb_row1_col4 {\n",
       "  background-color: #63a8d3;\n",
       "  color: #f1f1f1;\n",
       "}\n",
       "#T_83ebb_row1_col5 {\n",
       "  background-color: #6aaed6;\n",
       "  color: #f1f1f1;\n",
       "}\n",
       "#T_83ebb_row1_col6 {\n",
       "  background-color: #4191c6;\n",
       "  color: #f1f1f1;\n",
       "}\n",
       "#T_83ebb_row1_col14 {\n",
       "  background-color: #08509b;\n",
       "  color: #f1f1f1;\n",
       "}\n",
       "#T_83ebb_row1_col15 {\n",
       "  background-color: #d4e4f4;\n",
       "  color: #000000;\n",
       "}\n",
       "#T_83ebb_row2_col7 {\n",
       "  background-color: #083c7d;\n",
       "  color: #f1f1f1;\n",
       "}\n",
       "#T_83ebb_row2_col8 {\n",
       "  background-color: #a9cfe5;\n",
       "  color: #000000;\n",
       "}\n",
       "#T_83ebb_row2_col10 {\n",
       "  background-color: #ccdff1;\n",
       "  color: #000000;\n",
       "}\n",
       "#T_83ebb_row2_col16 {\n",
       "  background-color: #e6f0f9;\n",
       "  color: #000000;\n",
       "}\n",
       "#T_83ebb_row2_col17 {\n",
       "  background-color: #84bcdb;\n",
       "  color: #000000;\n",
       "}\n",
       "#T_83ebb_row2_col18 {\n",
       "  background-color: #125da6;\n",
       "  color: #f1f1f1;\n",
       "}\n",
       "</style>\n",
       "<table id=\"T_83ebb_\">\n",
       "  <thead>\n",
       "    <tr>\n",
       "      <th class=\"blank level0\" >&nbsp;</th>\n",
       "      <th class=\"col_heading level0 col0\" >0</th>\n",
       "      <th class=\"col_heading level0 col1\" >1</th>\n",
       "      <th class=\"col_heading level0 col2\" >5</th>\n",
       "      <th class=\"col_heading level0 col3\" >6</th>\n",
       "      <th class=\"col_heading level0 col4\" >7</th>\n",
       "      <th class=\"col_heading level0 col5\" >8</th>\n",
       "      <th class=\"col_heading level0 col6\" >9</th>\n",
       "      <th class=\"col_heading level0 col7\" >10</th>\n",
       "      <th class=\"col_heading level0 col8\" >11</th>\n",
       "      <th class=\"col_heading level0 col9\" >12</th>\n",
       "      <th class=\"col_heading level0 col10\" >13</th>\n",
       "      <th class=\"col_heading level0 col11\" >14</th>\n",
       "      <th class=\"col_heading level0 col12\" >15</th>\n",
       "      <th class=\"col_heading level0 col13\" >16</th>\n",
       "      <th class=\"col_heading level0 col14\" >17</th>\n",
       "      <th class=\"col_heading level0 col15\" >18</th>\n",
       "      <th class=\"col_heading level0 col16\" >19</th>\n",
       "      <th class=\"col_heading level0 col17\" >20</th>\n",
       "      <th class=\"col_heading level0 col18\" >21</th>\n",
       "      <th class=\"col_heading level0 col19\" >22</th>\n",
       "      <th class=\"col_heading level0 col20\" >23</th>\n",
       "    </tr>\n",
       "  </thead>\n",
       "  <tbody>\n",
       "    <tr>\n",
       "      <th id=\"T_83ebb_level0_row0\" class=\"row_heading level0 row0\" >PC_1</th>\n",
       "      <td id=\"T_83ebb_row0_col0\" class=\"data row0 col0\" >0.22</td>\n",
       "      <td id=\"T_83ebb_row0_col1\" class=\"data row0 col1\" >0.18</td>\n",
       "      <td id=\"T_83ebb_row0_col2\" class=\"data row0 col2\" >-0.04</td>\n",
       "      <td id=\"T_83ebb_row0_col3\" class=\"data row0 col3\" >-0.26</td>\n",
       "      <td id=\"T_83ebb_row0_col4\" class=\"data row0 col4\" >-0.28</td>\n",
       "      <td id=\"T_83ebb_row0_col5\" class=\"data row0 col5\" >-0.28</td>\n",
       "      <td id=\"T_83ebb_row0_col6\" class=\"data row0 col6\" >-0.29</td>\n",
       "      <td id=\"T_83ebb_row0_col7\" class=\"data row0 col7\" >-0.28</td>\n",
       "      <td id=\"T_83ebb_row0_col8\" class=\"data row0 col8\" >-0.21</td>\n",
       "      <td id=\"T_83ebb_row0_col9\" class=\"data row0 col9\" >-0.09</td>\n",
       "      <td id=\"T_83ebb_row0_col10\" class=\"data row0 col10\" >-0.07</td>\n",
       "      <td id=\"T_83ebb_row0_col11\" class=\"data row0 col11\" >0.08</td>\n",
       "      <td id=\"T_83ebb_row0_col12\" class=\"data row0 col12\" >0.15</td>\n",
       "      <td id=\"T_83ebb_row0_col13\" class=\"data row0 col13\" >0.15</td>\n",
       "      <td id=\"T_83ebb_row0_col14\" class=\"data row0 col14\" >0.22</td>\n",
       "      <td id=\"T_83ebb_row0_col15\" class=\"data row0 col15\" >0.23</td>\n",
       "      <td id=\"T_83ebb_row0_col16\" class=\"data row0 col16\" >0.24</td>\n",
       "      <td id=\"T_83ebb_row0_col17\" class=\"data row0 col17\" >0.28</td>\n",
       "      <td id=\"T_83ebb_row0_col18\" class=\"data row0 col18\" >0.27</td>\n",
       "      <td id=\"T_83ebb_row0_col19\" class=\"data row0 col19\" >0.25</td>\n",
       "      <td id=\"T_83ebb_row0_col20\" class=\"data row0 col20\" >0.23</td>\n",
       "    </tr>\n",
       "    <tr>\n",
       "      <th id=\"T_83ebb_level0_row1\" class=\"row_heading level0 row1\" >PC_2</th>\n",
       "      <td id=\"T_83ebb_row1_col0\" class=\"data row1 col0\" >0.04</td>\n",
       "      <td id=\"T_83ebb_row1_col1\" class=\"data row1 col1\" >0.14</td>\n",
       "      <td id=\"T_83ebb_row1_col2\" class=\"data row1 col2\" >0.05</td>\n",
       "      <td id=\"T_83ebb_row1_col3\" class=\"data row1 col3\" >-0.01</td>\n",
       "      <td id=\"T_83ebb_row1_col4\" class=\"data row1 col4\" >-0.06</td>\n",
       "      <td id=\"T_83ebb_row1_col5\" class=\"data row1 col5\" >-0.07</td>\n",
       "      <td id=\"T_83ebb_row1_col6\" class=\"data row1 col6\" >-0.02</td>\n",
       "      <td id=\"T_83ebb_row1_col7\" class=\"data row1 col7\" >0.12</td>\n",
       "      <td id=\"T_83ebb_row1_col8\" class=\"data row1 col8\" >0.29</td>\n",
       "      <td id=\"T_83ebb_row1_col9\" class=\"data row1 col9\" >0.41</td>\n",
       "      <td id=\"T_83ebb_row1_col10\" class=\"data row1 col10\" >0.43</td>\n",
       "      <td id=\"T_83ebb_row1_col11\" class=\"data row1 col11\" >0.42</td>\n",
       "      <td id=\"T_83ebb_row1_col12\" class=\"data row1 col12\" >0.37</td>\n",
       "      <td id=\"T_83ebb_row1_col13\" class=\"data row1 col13\" >0.31</td>\n",
       "      <td id=\"T_83ebb_row1_col14\" class=\"data row1 col14\" >0.15</td>\n",
       "      <td id=\"T_83ebb_row1_col15\" class=\"data row1 col15\" >-0.19</td>\n",
       "      <td id=\"T_83ebb_row1_col16\" class=\"data row1 col16\" >-0.21</td>\n",
       "      <td id=\"T_83ebb_row1_col17\" class=\"data row1 col17\" >-0.06</td>\n",
       "      <td id=\"T_83ebb_row1_col18\" class=\"data row1 col18\" >0.04</td>\n",
       "      <td id=\"T_83ebb_row1_col19\" class=\"data row1 col19\" >0.05</td>\n",
       "      <td id=\"T_83ebb_row1_col20\" class=\"data row1 col20\" >0.02</td>\n",
       "    </tr>\n",
       "    <tr>\n",
       "      <th id=\"T_83ebb_level0_row2\" class=\"row_heading level0 row2\" >PC_3</th>\n",
       "      <td id=\"T_83ebb_row2_col0\" class=\"data row2 col0\" >0.42</td>\n",
       "      <td id=\"T_83ebb_row2_col1\" class=\"data row2 col1\" >0.30</td>\n",
       "      <td id=\"T_83ebb_row2_col2\" class=\"data row2 col2\" >0.08</td>\n",
       "      <td id=\"T_83ebb_row2_col3\" class=\"data row2 col3\" >0.19</td>\n",
       "      <td id=\"T_83ebb_row2_col4\" class=\"data row2 col4\" >0.14</td>\n",
       "      <td id=\"T_83ebb_row2_col5\" class=\"data row2 col5\" >0.14</td>\n",
       "      <td id=\"T_83ebb_row2_col6\" class=\"data row2 col6\" >0.14</td>\n",
       "      <td id=\"T_83ebb_row2_col7\" class=\"data row2 col7\" >0.10</td>\n",
       "      <td id=\"T_83ebb_row2_col8\" class=\"data row2 col8\" >-0.04</td>\n",
       "      <td id=\"T_83ebb_row2_col9\" class=\"data row2 col9\" >-0.12</td>\n",
       "      <td id=\"T_83ebb_row2_col10\" class=\"data row2 col10\" >0.04</td>\n",
       "      <td id=\"T_83ebb_row2_col11\" class=\"data row2 col11\" >0.03</td>\n",
       "      <td id=\"T_83ebb_row2_col12\" class=\"data row2 col12\" >-0.03</td>\n",
       "      <td id=\"T_83ebb_row2_col13\" class=\"data row2 col13\" >-0.25</td>\n",
       "      <td id=\"T_83ebb_row2_col14\" class=\"data row2 col14\" >-0.35</td>\n",
       "      <td id=\"T_83ebb_row2_col15\" class=\"data row2 col15\" >-0.28</td>\n",
       "      <td id=\"T_83ebb_row2_col16\" class=\"data row2 col16\" >-0.17</td>\n",
       "      <td id=\"T_83ebb_row2_col17\" class=\"data row2 col17\" >0.09</td>\n",
       "      <td id=\"T_83ebb_row2_col18\" class=\"data row2 col18\" >0.23</td>\n",
       "      <td id=\"T_83ebb_row2_col19\" class=\"data row2 col19\" >0.30</td>\n",
       "      <td id=\"T_83ebb_row2_col20\" class=\"data row2 col20\" >0.40</td>\n",
       "    </tr>\n",
       "  </tbody>\n",
       "</table>\n"
      ],
      "text/plain": [
       "<pandas.io.formats.style.Styler at 0x30663b6d0>"
      ]
     },
     "execution_count": 18,
     "metadata": {},
     "output_type": "execute_result"
    }
   ],
   "source": [
    "pd.set_option('precision', 2)\n",
    "\n",
    "W = pca.components_\n",
    "W_df = pd.DataFrame(W, columns=hour_mapper.keys(), index=[f'PC_{i}' for i in range(1,n_components+1)])\n",
    "W_df.round(2).style.background_gradient(cmap='Blues')"
   ]
  },
  {
   "cell_type": "code",
   "execution_count": 19,
   "metadata": {},
   "outputs": [
    {
     "data": {
      "text/html": [
       "<style type=\"text/css\">\n",
       "#T_6d55c_row0_col0 {\n",
       "  background-color: #cfe1f2;\n",
       "  color: #000000;\n",
       "}\n",
       "#T_6d55c_row0_col1, #T_6d55c_row1_col1, #T_6d55c_row2_col2, #T_6d55c_row3_col2 {\n",
       "  background-color: #f7fbff;\n",
       "  color: #000000;\n",
       "}\n",
       "#T_6d55c_row0_col2, #T_6d55c_row1_col2, #T_6d55c_row2_col0, #T_6d55c_row3_col0 {\n",
       "  background-color: #08306b;\n",
       "  color: #f1f1f1;\n",
       "}\n",
       "#T_6d55c_row1_col0 {\n",
       "  background-color: #abd0e6;\n",
       "  color: #000000;\n",
       "}\n",
       "#T_6d55c_row2_col1 {\n",
       "  background-color: #1b69af;\n",
       "  color: #f1f1f1;\n",
       "}\n",
       "#T_6d55c_row3_col1 {\n",
       "  background-color: #1a68ae;\n",
       "  color: #f1f1f1;\n",
       "}\n",
       "</style>\n",
       "<table id=\"T_6d55c_\">\n",
       "  <thead>\n",
       "    <tr>\n",
       "      <th class=\"blank level0\" >&nbsp;</th>\n",
       "      <th class=\"col_heading level0 col0\" >Morning</th>\n",
       "      <th class=\"col_heading level0 col1\" >Noon</th>\n",
       "      <th class=\"col_heading level0 col2\" >Night</th>\n",
       "    </tr>\n",
       "  </thead>\n",
       "  <tbody>\n",
       "    <tr>\n",
       "      <th id=\"T_6d55c_level0_row0\" class=\"row_heading level0 row0\" >Zhongxiao_Fuxing</th>\n",
       "      <td id=\"T_6d55c_row0_col0\" class=\"data row0 col0\" >2.84</td>\n",
       "      <td id=\"T_6d55c_row0_col1\" class=\"data row0 col1\" >1.77</td>\n",
       "      <td id=\"T_6d55c_row0_col2\" class=\"data row0 col2\" >6.95</td>\n",
       "    </tr>\n",
       "    <tr>\n",
       "      <th id=\"T_6d55c_level0_row1\" class=\"row_heading level0 row1\" >Taipei_City_Hall</th>\n",
       "      <td id=\"T_6d55c_row1_col0\" class=\"data row1 col0\" >1.38</td>\n",
       "      <td id=\"T_6d55c_row1_col1\" class=\"data row1 col1\" >-1.04</td>\n",
       "      <td id=\"T_6d55c_row1_col2\" class=\"data row1 col2\" >6.19</td>\n",
       "    </tr>\n",
       "    <tr>\n",
       "      <th id=\"T_6d55c_level0_row2\" class=\"row_heading level0 row2\" >Xinpu</th>\n",
       "      <td id=\"T_6d55c_row2_col0\" class=\"data row2 col0\" >0.68</td>\n",
       "      <td id=\"T_6d55c_row2_col1\" class=\"data row2 col1\" >-0.22</td>\n",
       "      <td id=\"T_6d55c_row2_col2\" class=\"data row2 col2\" >-3.44</td>\n",
       "    </tr>\n",
       "    <tr>\n",
       "      <th id=\"T_6d55c_level0_row3\" class=\"row_heading level0 row3\" >Yongan_Market</th>\n",
       "      <td id=\"T_6d55c_row3_col0\" class=\"data row3 col0\" >0.73</td>\n",
       "      <td id=\"T_6d55c_row3_col1\" class=\"data row3 col1\" >-0.32</td>\n",
       "      <td id=\"T_6d55c_row3_col2\" class=\"data row3 col2\" >-4.14</td>\n",
       "    </tr>\n",
       "  </tbody>\n",
       "</table>\n"
      ],
      "text/plain": [
       "<pandas.io.formats.style.Styler at 0x306684190>"
      ]
     },
     "execution_count": 19,
     "metadata": {},
     "output_type": "execute_result"
    }
   ],
   "source": [
    "Z = pca.fit_transform(X)\n",
    "\n",
    "Z_df = pd.DataFrame(Z, index=origin_mapper.keys(), columns=['Night', 'Noon', 'Morning'])[['Morning', 'Noon', 'Night']]\n",
    "Z_df = Z_df.loc[['Zhongxiao_Fuxing', 'Taipei_City_Hall', 'Xinpu', 'Yongan_Market'], :]\n",
    "Z_df.style.background_gradient(cmap='Blues', axis=1)"
   ]
  },
  {
   "cell_type": "code",
   "execution_count": 20,
   "metadata": {},
   "outputs": [],
   "source": [
    "X_trans = Z @ W\n",
    "\n",
    "kmeans = KMeans(n_clusters=3)\n",
    "kmeans.fit(Z)\n",
    "clust_labels = kmeans.labels_\n",
    "\n",
    "clust_df = pd.DataFrame(X_trans, index=origin_mapper.keys(), columns=hour_mapper.keys())\n",
    "clust_df['labels'] = clust_labels"
   ]
  },
  {
   "cell_type": "code",
   "execution_count": 21,
   "metadata": {},
   "outputs": [
    {
     "data": {
      "text/html": [
       "<div>\n",
       "<style scoped>\n",
       "    .dataframe tbody tr th:only-of-type {\n",
       "        vertical-align: middle;\n",
       "    }\n",
       "\n",
       "    .dataframe tbody tr th {\n",
       "        vertical-align: top;\n",
       "    }\n",
       "\n",
       "    .dataframe thead th {\n",
       "        text-align: right;\n",
       "    }\n",
       "</style>\n",
       "<table border=\"1\" class=\"dataframe\">\n",
       "  <thead>\n",
       "    <tr style=\"text-align: right;\">\n",
       "      <th></th>\n",
       "      <th>0</th>\n",
       "      <th>1</th>\n",
       "      <th>5</th>\n",
       "      <th>6</th>\n",
       "      <th>7</th>\n",
       "      <th>8</th>\n",
       "      <th>9</th>\n",
       "      <th>10</th>\n",
       "      <th>11</th>\n",
       "      <th>12</th>\n",
       "      <th>...</th>\n",
       "      <th>15</th>\n",
       "      <th>16</th>\n",
       "      <th>17</th>\n",
       "      <th>18</th>\n",
       "      <th>19</th>\n",
       "      <th>20</th>\n",
       "      <th>21</th>\n",
       "      <th>22</th>\n",
       "      <th>23</th>\n",
       "      <th>labels</th>\n",
       "    </tr>\n",
       "  </thead>\n",
       "  <tbody>\n",
       "    <tr>\n",
       "      <th>Banxin</th>\n",
       "      <td>-0.15</td>\n",
       "      <td>-0.32</td>\n",
       "      <td>-0.04</td>\n",
       "      <td>0.22</td>\n",
       "      <td>0.31</td>\n",
       "      <td>0.33</td>\n",
       "      <td>0.24</td>\n",
       "      <td>-0.02</td>\n",
       "      <td>-0.39</td>\n",
       "      <td>-0.67</td>\n",
       "      <td>...</td>\n",
       "      <td>-0.74</td>\n",
       "      <td>-0.68</td>\n",
       "      <td>-0.47</td>\n",
       "      <td>0.14</td>\n",
       "      <td>0.18</td>\n",
       "      <td>-0.06</td>\n",
       "      <td>-0.22</td>\n",
       "      <td>-0.21</td>\n",
       "      <td>-0.12</td>\n",
       "      <td>1</td>\n",
       "    </tr>\n",
       "    <tr>\n",
       "      <th>Beimen</th>\n",
       "      <td>0.75</td>\n",
       "      <td>0.69</td>\n",
       "      <td>-0.03</td>\n",
       "      <td>-0.60</td>\n",
       "      <td>-0.72</td>\n",
       "      <td>-0.72</td>\n",
       "      <td>-0.69</td>\n",
       "      <td>-0.56</td>\n",
       "      <td>-0.28</td>\n",
       "      <td>0.08</td>\n",
       "      <td>...</td>\n",
       "      <td>0.68</td>\n",
       "      <td>0.55</td>\n",
       "      <td>0.56</td>\n",
       "      <td>0.32</td>\n",
       "      <td>0.36</td>\n",
       "      <td>0.70</td>\n",
       "      <td>0.81</td>\n",
       "      <td>0.80</td>\n",
       "      <td>0.75</td>\n",
       "      <td>2</td>\n",
       "    </tr>\n",
       "    <tr>\n",
       "      <th>Beitou</th>\n",
       "      <td>-0.57</td>\n",
       "      <td>-0.24</td>\n",
       "      <td>0.18</td>\n",
       "      <td>0.61</td>\n",
       "      <td>0.59</td>\n",
       "      <td>0.56</td>\n",
       "      <td>0.68</td>\n",
       "      <td>0.93</td>\n",
       "      <td>1.12</td>\n",
       "      <td>1.05</td>\n",
       "      <td>...</td>\n",
       "      <td>0.35</td>\n",
       "      <td>0.27</td>\n",
       "      <td>-0.20</td>\n",
       "      <td>-0.93</td>\n",
       "      <td>-1.00</td>\n",
       "      <td>-0.87</td>\n",
       "      <td>-0.65</td>\n",
       "      <td>-0.60</td>\n",
       "      <td>-0.64</td>\n",
       "      <td>1</td>\n",
       "    </tr>\n",
       "    <tr>\n",
       "      <th>Cailiao</th>\n",
       "      <td>-0.39</td>\n",
       "      <td>-0.46</td>\n",
       "      <td>0.15</td>\n",
       "      <td>1.02</td>\n",
       "      <td>1.10</td>\n",
       "      <td>1.10</td>\n",
       "      <td>1.06</td>\n",
       "      <td>0.85</td>\n",
       "      <td>0.34</td>\n",
       "      <td>-0.23</td>\n",
       "      <td>...</td>\n",
       "      <td>-0.87</td>\n",
       "      <td>-1.01</td>\n",
       "      <td>-1.17</td>\n",
       "      <td>-0.80</td>\n",
       "      <td>-0.71</td>\n",
       "      <td>-0.77</td>\n",
       "      <td>-0.72</td>\n",
       "      <td>-0.60</td>\n",
       "      <td>-0.42</td>\n",
       "      <td>1</td>\n",
       "    </tr>\n",
       "    <tr>\n",
       "      <th>Chiang_Kai-Shek_Memorial_Hall</th>\n",
       "      <td>-0.13</td>\n",
       "      <td>0.23</td>\n",
       "      <td>-0.17</td>\n",
       "      <td>-1.20</td>\n",
       "      <td>-1.25</td>\n",
       "      <td>-1.28</td>\n",
       "      <td>-1.16</td>\n",
       "      <td>-0.72</td>\n",
       "      <td>0.17</td>\n",
       "      <td>0.96</td>\n",
       "      <td>...</td>\n",
       "      <td>1.35</td>\n",
       "      <td>1.69</td>\n",
       "      <td>1.73</td>\n",
       "      <td>0.80</td>\n",
       "      <td>0.56</td>\n",
       "      <td>0.49</td>\n",
       "      <td>0.42</td>\n",
       "      <td>0.23</td>\n",
       "      <td>-0.12</td>\n",
       "      <td>2</td>\n",
       "    </tr>\n",
       "    <tr>\n",
       "      <th>...</th>\n",
       "      <td>...</td>\n",
       "      <td>...</td>\n",
       "      <td>...</td>\n",
       "      <td>...</td>\n",
       "      <td>...</td>\n",
       "      <td>...</td>\n",
       "      <td>...</td>\n",
       "      <td>...</td>\n",
       "      <td>...</td>\n",
       "      <td>...</td>\n",
       "      <td>...</td>\n",
       "      <td>...</td>\n",
       "      <td>...</td>\n",
       "      <td>...</td>\n",
       "      <td>...</td>\n",
       "      <td>...</td>\n",
       "      <td>...</td>\n",
       "      <td>...</td>\n",
       "      <td>...</td>\n",
       "      <td>...</td>\n",
       "      <td>...</td>\n",
       "    </tr>\n",
       "    <tr>\n",
       "      <th>Zhongxiao_Fuxing</th>\n",
       "      <td>2.79</td>\n",
       "      <td>2.36</td>\n",
       "      <td>0.02</td>\n",
       "      <td>-1.28</td>\n",
       "      <td>-1.68</td>\n",
       "      <td>-1.66</td>\n",
       "      <td>-1.64</td>\n",
       "      <td>-1.43</td>\n",
       "      <td>-1.01</td>\n",
       "      <td>-0.25</td>\n",
       "      <td>...</td>\n",
       "      <td>1.59</td>\n",
       "      <td>0.85</td>\n",
       "      <td>0.81</td>\n",
       "      <td>0.46</td>\n",
       "      <td>0.80</td>\n",
       "      <td>2.12</td>\n",
       "      <td>2.59</td>\n",
       "      <td>2.71</td>\n",
       "      <td>2.78</td>\n",
       "      <td>0</td>\n",
       "    </tr>\n",
       "    <tr>\n",
       "      <th>Zhongxiao_Xinsheng</th>\n",
       "      <td>1.45</td>\n",
       "      <td>1.26</td>\n",
       "      <td>-0.11</td>\n",
       "      <td>-1.20</td>\n",
       "      <td>-1.40</td>\n",
       "      <td>-1.40</td>\n",
       "      <td>-1.39</td>\n",
       "      <td>-1.22</td>\n",
       "      <td>-0.79</td>\n",
       "      <td>-0.14</td>\n",
       "      <td>...</td>\n",
       "      <td>1.08</td>\n",
       "      <td>0.88</td>\n",
       "      <td>1.03</td>\n",
       "      <td>0.80</td>\n",
       "      <td>0.90</td>\n",
       "      <td>1.44</td>\n",
       "      <td>1.57</td>\n",
       "      <td>1.54</td>\n",
       "      <td>1.47</td>\n",
       "      <td>0</td>\n",
       "    </tr>\n",
       "    <tr>\n",
       "      <th>Zhongyi</th>\n",
       "      <td>-0.82</td>\n",
       "      <td>-0.55</td>\n",
       "      <td>-0.13</td>\n",
       "      <td>-0.36</td>\n",
       "      <td>-0.27</td>\n",
       "      <td>-0.28</td>\n",
       "      <td>-0.25</td>\n",
       "      <td>-0.12</td>\n",
       "      <td>0.19</td>\n",
       "      <td>0.39</td>\n",
       "      <td>...</td>\n",
       "      <td>0.17</td>\n",
       "      <td>0.60</td>\n",
       "      <td>0.72</td>\n",
       "      <td>0.46</td>\n",
       "      <td>0.24</td>\n",
       "      <td>-0.23</td>\n",
       "      <td>-0.45</td>\n",
       "      <td>-0.59</td>\n",
       "      <td>-0.80</td>\n",
       "      <td>2</td>\n",
       "    </tr>\n",
       "    <tr>\n",
       "      <th>Zhongyuan</th>\n",
       "      <td>-0.66</td>\n",
       "      <td>-1.03</td>\n",
       "      <td>-0.53</td>\n",
       "      <td>-1.00</td>\n",
       "      <td>-0.68</td>\n",
       "      <td>-0.62</td>\n",
       "      <td>-0.91</td>\n",
       "      <td>-1.53</td>\n",
       "      <td>-1.99</td>\n",
       "      <td>-2.10</td>\n",
       "      <td>...</td>\n",
       "      <td>-1.55</td>\n",
       "      <td>-0.71</td>\n",
       "      <td>0.51</td>\n",
       "      <td>2.25</td>\n",
       "      <td>2.10</td>\n",
       "      <td>0.78</td>\n",
       "      <td>-0.12</td>\n",
       "      <td>-0.40</td>\n",
       "      <td>-0.47</td>\n",
       "      <td>0</td>\n",
       "    </tr>\n",
       "    <tr>\n",
       "      <th>Zhuwei</th>\n",
       "      <td>-0.23</td>\n",
       "      <td>0.03</td>\n",
       "      <td>0.25</td>\n",
       "      <td>0.74</td>\n",
       "      <td>0.67</td>\n",
       "      <td>0.64</td>\n",
       "      <td>0.77</td>\n",
       "      <td>1.02</td>\n",
       "      <td>1.15</td>\n",
       "      <td>1.04</td>\n",
       "      <td>...</td>\n",
       "      <td>0.41</td>\n",
       "      <td>0.15</td>\n",
       "      <td>-0.42</td>\n",
       "      <td>-1.17</td>\n",
       "      <td>-1.17</td>\n",
       "      <td>-0.79</td>\n",
       "      <td>-0.46</td>\n",
       "      <td>-0.34</td>\n",
       "      <td>-0.32</td>\n",
       "      <td>1</td>\n",
       "    </tr>\n",
       "  </tbody>\n",
       "</table>\n",
       "<p>116 rows × 22 columns</p>\n",
       "</div>"
      ],
      "text/plain": [
       "                                  0     1     5     6     7     8     9    10  \\\n",
       "Banxin                        -0.15 -0.32 -0.04  0.22  0.31  0.33  0.24 -0.02   \n",
       "Beimen                         0.75  0.69 -0.03 -0.60 -0.72 -0.72 -0.69 -0.56   \n",
       "Beitou                        -0.57 -0.24  0.18  0.61  0.59  0.56  0.68  0.93   \n",
       "Cailiao                       -0.39 -0.46  0.15  1.02  1.10  1.10  1.06  0.85   \n",
       "Chiang_Kai-Shek_Memorial_Hall -0.13  0.23 -0.17 -1.20 -1.25 -1.28 -1.16 -0.72   \n",
       "...                             ...   ...   ...   ...   ...   ...   ...   ...   \n",
       "Zhongxiao_Fuxing               2.79  2.36  0.02 -1.28 -1.68 -1.66 -1.64 -1.43   \n",
       "Zhongxiao_Xinsheng             1.45  1.26 -0.11 -1.20 -1.40 -1.40 -1.39 -1.22   \n",
       "Zhongyi                       -0.82 -0.55 -0.13 -0.36 -0.27 -0.28 -0.25 -0.12   \n",
       "Zhongyuan                     -0.66 -1.03 -0.53 -1.00 -0.68 -0.62 -0.91 -1.53   \n",
       "Zhuwei                        -0.23  0.03  0.25  0.74  0.67  0.64  0.77  1.02   \n",
       "\n",
       "                                 11    12  ...    15    16    17    18    19  \\\n",
       "Banxin                        -0.39 -0.67  ... -0.74 -0.68 -0.47  0.14  0.18   \n",
       "Beimen                        -0.28  0.08  ...  0.68  0.55  0.56  0.32  0.36   \n",
       "Beitou                         1.12  1.05  ...  0.35  0.27 -0.20 -0.93 -1.00   \n",
       "Cailiao                        0.34 -0.23  ... -0.87 -1.01 -1.17 -0.80 -0.71   \n",
       "Chiang_Kai-Shek_Memorial_Hall  0.17  0.96  ...  1.35  1.69  1.73  0.80  0.56   \n",
       "...                             ...   ...  ...   ...   ...   ...   ...   ...   \n",
       "Zhongxiao_Fuxing              -1.01 -0.25  ...  1.59  0.85  0.81  0.46  0.80   \n",
       "Zhongxiao_Xinsheng            -0.79 -0.14  ...  1.08  0.88  1.03  0.80  0.90   \n",
       "Zhongyi                        0.19  0.39  ...  0.17  0.60  0.72  0.46  0.24   \n",
       "Zhongyuan                     -1.99 -2.10  ... -1.55 -0.71  0.51  2.25  2.10   \n",
       "Zhuwei                         1.15  1.04  ...  0.41  0.15 -0.42 -1.17 -1.17   \n",
       "\n",
       "                                 20    21    22    23  labels  \n",
       "Banxin                        -0.06 -0.22 -0.21 -0.12       1  \n",
       "Beimen                         0.70  0.81  0.80  0.75       2  \n",
       "Beitou                        -0.87 -0.65 -0.60 -0.64       1  \n",
       "Cailiao                       -0.77 -0.72 -0.60 -0.42       1  \n",
       "Chiang_Kai-Shek_Memorial_Hall  0.49  0.42  0.23 -0.12       2  \n",
       "...                             ...   ...   ...   ...     ...  \n",
       "Zhongxiao_Fuxing               2.12  2.59  2.71  2.78       0  \n",
       "Zhongxiao_Xinsheng             1.44  1.57  1.54  1.47       0  \n",
       "Zhongyi                       -0.23 -0.45 -0.59 -0.80       2  \n",
       "Zhongyuan                      0.78 -0.12 -0.40 -0.47       0  \n",
       "Zhuwei                        -0.79 -0.46 -0.34 -0.32       1  \n",
       "\n",
       "[116 rows x 22 columns]"
      ]
     },
     "execution_count": 21,
     "metadata": {},
     "output_type": "execute_result"
    }
   ],
   "source": [
    "clust_df"
   ]
  },
  {
   "cell_type": "markdown",
   "metadata": {},
   "source": [
    "#### Viz"
   ]
  },
  {
   "cell_type": "code",
   "execution_count": 22,
   "metadata": {},
   "outputs": [
    {
     "data": {
      "application/vnd.plotly.v1+json": {
       "config": {
        "plotlyServerURL": "https://plot.ly"
       },
       "data": [
        {
         "customdata": [
          [
           "Banxin"
          ],
          [
           "Beitou"
          ],
          [
           "Cailiao"
          ],
          [
           "Dahu_Park"
          ],
          [
           "Danfeng"
          ],
          [
           "Dingpu"
          ],
          [
           "Dingxi"
          ],
          [
           "Donghu"
          ],
          [
           "Far_Eastern_Hospital"
          ],
          [
           "Fuxinggang"
          ],
          [
           "Fuzhong"
          ],
          [
           "Haishan"
          ],
          [
           "Hongshulin"
          ],
          [
           "Houshanpi"
          ],
          [
           "Huilong"
          ],
          [
           "Huzhou"
          ],
          [
           "Jiangzicui"
          ],
          [
           "Jingan"
          ],
          [
           "Jingmei"
          ],
          [
           "Jingping"
          ],
          [
           "Linguang"
          ],
          [
           "Liuzhangli"
          ],
          [
           "Luzhou"
          ],
          [
           "Muzha"
          ],
          [
           "Nanshijiao"
          ],
          [
           "Neihu"
          ],
          [
           "Qilian"
          ],
          [
           "Qiyan"
          ],
          [
           "Qizhang"
          ],
          [
           "Sanchong"
          ],
          [
           "Sanchong_Elementary_School"
          ],
          [
           "Sanhe_Junior_High_School"
          ],
          [
           "Sanmin_Senior_High_School"
          ],
          [
           "St.lgnatius_High_School"
          ],
          [
           "Taipei_Bridge"
          ],
          [
           "Taipei_Nangang_Exhibition_Center"
          ],
          [
           "Tamsui"
          ],
          [
           "Touqianzhuang"
          ],
          [
           "Tucheng"
          ],
          [
           "Wanfang_Community"
          ],
          [
           "Wanfang_Hospital"
          ],
          [
           "Wanlong"
          ],
          [
           "Wende"
          ],
          [
           "Xindian"
          ],
          [
           "Xindian_District_Office"
          ],
          [
           "Xingfu"
          ],
          [
           "Xinhai"
          ],
          [
           "Xinpu"
          ],
          [
           "Xinzhuang"
          ],
          [
           "Xiulang_Bridge"
          ],
          [
           "Yongan_Market"
          ],
          [
           "Yongning"
          ],
          [
           "Zhonghe"
          ],
          [
           "Zhuwei"
          ]
         ],
         "hovertemplate": "label=1<br>Night=%{x}<br>Noon=%{y}<br>Morning=%{z}<br>origin=%{customdata[0]}<extra></extra>",
         "legendgroup": "1",
         "marker": {
          "color": "#636efa",
          "opacity": 0.7,
          "size": 5,
          "symbol": "circle"
         },
         "mode": "markers",
         "name": "1",
         "scene": "scene",
         "showlegend": true,
         "type": "scatter3d",
         "x": [
          -0.6550175615674498,
          -2.5815831501263284,
          -3.238160661372605,
          -3.369797933752919,
          -4.898375104252217,
          -2.766273681623184,
          -3.7215810114093633,
          -3.5048820200852258,
          -3.7961834497135767,
          -3.218316591621904,
          -2.259089281595278,
          -4.676517368089678,
          -3.1060130017818053,
          -1.3597943331062041,
          -4.636258327063536,
          -2.2702894795616317,
          -3.244867608258033,
          -4.48619609751731,
          -1.6728633466892446,
          -1.7996249275474676,
          -3.6564179825165115,
          -0.022750389426076233,
          -5.750799493959249,
          -2.806720223040754,
          -5.041006846632706,
          -2.2843016647466845,
          -3.6947054843755023,
          -2.0364893181898647,
          -2.389710222877121,
          -1.4674773143680753,
          -4.534859907360443,
          -5.004754250017728,
          -4.837589411157859,
          -4.369117326867161,
          -1.0531041337023488,
          -0.2750516425927003,
          -1.5445572707579807,
          -1.6097719479803578,
          -4.1399776450395604,
          -4.118283422434772,
          -2.7050605058929382,
          -3.311010471965273,
          -0.8676752049283332,
          -3.628828820286114,
          -3.625510412694376,
          -2.442547477012601,
          -4.5482099506405484,
          -3.437449158959924,
          -2.2894643326768085,
          -4.242375506605014,
          -4.137079221438395,
          -3.602265492505134,
          -1.111739129387805,
          -2.5366047150055233
         ],
         "y": [
          -1.7532163352908114,
          1.977389664650695,
          -1.009733122686379,
          0.5358990280576982,
          -1.9045776073181984,
          -3.87563011179383,
          0.4326764376377019,
          -0.7767064420310156,
          -0.4711099066290769,
          0.17205944362415343,
          0.5472575398300723,
          -0.874826275930356,
          0.9344966518920822,
          0.9835421518306519,
          -1.6135453309135015,
          0.05515102372040248,
          -0.759916513413071,
          -0.6407433241837026,
          1.6276337845926756,
          -0.7128049071272079,
          0.8265277598932487,
          -0.9964616899208344,
          -1.7440923131635242,
          1.8825279301915376,
          -1.0422600117564735,
          0.5670860132933239,
          1.034150785896834,
          -0.63316909966012,
          0.8825004017047124,
          -1.4400123832113596,
          -1.0183888467505802,
          -1.3034828481575886,
          -1.003300395238913,
          -0.706003818621232,
          0.27155915551445386,
          -1.944345948053733,
          1.146451582754877,
          -1.884826256939844,
          -0.1453636092275065,
          -1.1316668349183037,
          1.5613618191716268,
          0.2389132776655424,
          -0.376569626929059,
          0.7137168875899098,
          0.6273677258721384,
          -2.7177233779368906,
          -0.8426367532340354,
          -0.22248243799341222,
          -2.188769857572582,
          -0.12902301569159075,
          -0.32355547083502173,
          -0.5774851256001542,
          0.1116208008438937,
          2.1884900280876805
         ],
         "z": [
          0.164309172075945,
          -0.1921195444277302,
          0.8747820666799832,
          -0.33126971621470386,
          0.787554214455458,
          -0.5515677952598942,
          0.8896952707087731,
          -0.6634764881902135,
          -0.08376206130449919,
          0.048069516699003674,
          1.485685561138728,
          0.4673450472664549,
          -0.11403303578653708,
          -0.11416256548981453,
          0.45600383907116177,
          -0.9721512700309148,
          0.9130113133198927,
          0.3537790439302557,
          -0.12230606585641757,
          0.6702889860848382,
          0.31784540182956655,
          0.7375133622588286,
          0.9406611746537074,
          -1.998211389354482,
          1.1291690215602446,
          0.19923681106836283,
          1.4196770530846072,
          -0.5087120059816652,
          -0.2748995959723346,
          1.5457097913193159,
          1.4544024901457009,
          0.785613475839841,
          0.6091266417083171,
          0.8148032330629221,
          3.30324628450652,
          -2.1182308940512353,
          0.2624948978867865,
          0.09427684882034225,
          0.4614029109323804,
          0.059667658051185415,
          -1.2014829697049327,
          0.3833207988105407,
          -2.291613943938591,
          -0.2003745776500939,
          -0.2869922650862458,
          0.9151433895981284,
          0.36111116362622325,
          0.6798222478705003,
          2.1609502897760073,
          0.6079484062848646,
          0.7321163286537046,
          -0.24663517259212714,
          0.5531160722966034,
          0.5753351493924166
         ]
        },
        {
         "customdata": [
          [
           "Beimen"
          ],
          [
           "Chiang_Kai-Shek_Memorial_Hall"
          ],
          [
           "Daan_Park"
          ],
          [
           "Dapinglin"
          ],
          [
           "Dazhi"
          ],
          [
           "Dongmen"
          ],
          [
           "Fu_Jen_University"
          ],
          [
           "Gongguan"
          ],
          [
           "Guandu"
          ],
          [
           "Guting"
          ],
          [
           "Kunyang"
          ],
          [
           "Longshan_Temple"
          ],
          [
           "Mingde"
          ],
          [
           "NTU_Hospital"
          ],
          [
           "Nangang"
          ],
          [
           "Shandao_Temple"
          ],
          [
           "Shilin"
          ],
          [
           "Shipai"
          ],
          [
           "Shisizhang"
          ],
          [
           "Shuanglian"
          ],
          [
           "Songshan_Airport"
          ],
          [
           "Taipei_Main_Station"
          ],
          [
           "Taipei_Zoo"
          ],
          [
           "Taipower_Building"
          ],
          [
           "Technology_Building"
          ],
          [
           "Xiaobitan"
          ],
          [
           "Xiaonanmen"
          ],
          [
           "Xinbeitou"
          ],
          [
           "Yongchun"
          ],
          [
           "Yuanshan"
          ],
          [
           "Zhishan"
          ],
          [
           "Zhongyi"
          ]
         ],
         "hovertemplate": "label=2<br>Night=%{x}<br>Noon=%{y}<br>Morning=%{z}<br>origin=%{customdata[0]}<extra></extra>",
         "legendgroup": "2",
         "marker": {
          "color": "#EF553B",
          "opacity": 0.7,
          "size": 5,
          "symbol": "circle"
         },
         "mode": "markers",
         "name": "2",
         "scene": "scene",
         "showlegend": true,
         "type": "scatter3d",
         "x": [
          2.541762362285429,
          2.9281989050576933,
          1.518999998577189,
          -0.5363504673925108,
          1.2748355246595198,
          3.336969202230983,
          0.7303485726791591,
          4.04037726320722,
          0.3869455029277517,
          2.0740243379428343,
          0.7632458203419882,
          -0.7043293952083849,
          -2.0522908321894513,
          2.504744834645579,
          0.18378620014773253,
          3.7044909824016785,
          1.6466133267201555,
          -0.21847254242598196,
          -0.7450519683468179,
          3.5685250964685875,
          1.4998565128335886,
          2.3088824776137247,
          0.818605828737523,
          2.2044423627327236,
          1.5644898550771067,
          -0.03372662408239653,
          2.0891838750661575,
          1.0060026090192384,
          0.5346991793154836,
          -0.2625888023105115,
          0.8406154235404231,
          -0.077309271688836
         ],
         "y": [
          0.8657532757155678,
          2.3678717714340256,
          2.299745926288998,
          -0.12567309293139295,
          1.5109946004229078,
          2.511107625845401,
          2.3709859500167605,
          2.614965378891587,
          0.7355200177875676,
          1.231425711197204,
          -0.8796870128394118,
          3.2861819186714256,
          2.7270063482585662,
          6.015696399214811,
          0.19634077118626586,
          2.3817077691393713,
          2.9783922566570626,
          3.2893971775099673,
          1.7402791834240474,
          3.1280897204151614,
          3.641328215458852,
          2.4356006532622985,
          5.712627880027334,
          0.8206639435037496,
          -0.06700036355482142,
          2.424752831437066,
          2.1398149573081615,
          4.181659741348511,
          0.6595483300429063,
          1.858298429621135,
          -0.023049785416273543,
          0.3567868378224533
         ],
         "z": [
          0.365592942693537,
          -2.0927173034140423,
          -1.0231443418319366,
          -1.0951220612118704,
          -0.7221411544109217,
          0.1750601307645057,
          -0.1609746601855465,
          1.6364527247369716,
          -1.8386439540671582,
          -0.016217408627210144,
          -2.127984026412825,
          0.7614746903228203,
          -1.5932304244017017,
          -2.2397612236871787,
          -0.3733220169367209,
          -1.540190732651203,
          -0.5871999073322024,
          -0.9576802516004802,
          -1.8952640237262108,
          1.3471895562711949,
          -1.2165049536636707,
          1.567808660744548,
          -3.167429514848227,
          0.2742280121163995,
          -0.2597630675180154,
          -1.0769598335131814,
          -3.1233470456010726,
          -2.218155504691543,
          -0.6836393848003985,
          0.3668247137929735,
          0.304147968773141,
          -1.960902484205689
         ]
        },
        {
         "customdata": [
          [
           "Daan"
          ],
          [
           "Gangqian"
          ],
          [
           "Jiannan_Rd."
          ],
          [
           "Jiantan"
          ],
          [
           "Minquan_W._Rd."
          ],
          [
           "Nangang_Software_Park"
          ],
          [
           "Nanjing_Fuxing"
          ],
          [
           "Nanjing_Sanmin"
          ],
          [
           "New_Taipei_Industrial_Park"
          ],
          [
           "Qiaohe"
          ],
          [
           "Songjiang_Nanjing"
          ],
          [
           "Songshan"
          ],
          [
           "Sun_Yat-Sen_Memorial_Hall"
          ],
          [
           "Taipei_101/World_Trade_Center"
          ],
          [
           "Taipei_Arena"
          ],
          [
           "Taipei_City_Hall"
          ],
          [
           "Xiangshan"
          ],
          [
           "Xianse_Temple"
          ],
          [
           "Xihu"
          ],
          [
           "Ximen"
          ],
          [
           "Xingtian_Temple"
          ],
          [
           "Xinpu_Minsheng"
          ],
          [
           "Xinyi_Anhe"
          ],
          [
           "Zhongshan"
          ],
          [
           "Zhongshan_Elementary_School"
          ],
          [
           "Zhongshan_Junior_High_School"
          ],
          [
           "Zhongxiao_Dunhua"
          ],
          [
           "Zhongxiao_Fuxing"
          ],
          [
           "Zhongxiao_Xinsheng"
          ],
          [
           "Zhongyuan"
          ]
         ],
         "hovertemplate": "label=0<br>Night=%{x}<br>Noon=%{y}<br>Morning=%{z}<br>origin=%{customdata[0]}<extra></extra>",
         "legendgroup": "0",
         "marker": {
          "color": "#00cc96",
          "opacity": 0.7,
          "size": 5,
          "symbol": "circle"
         },
         "mode": "markers",
         "name": "0",
         "scene": "scene",
         "showlegend": true,
         "type": "scatter3d",
         "x": [
          3.9393588532473345,
          3.6572069786383823,
          5.126618988866393,
          3.258594150664379,
          3.3101847623132254,
          4.231831653225488,
          5.109505669064403,
          2.6134179376937823,
          3.2381366314629765,
          4.113495635697344,
          5.290666630324187,
          2.436688727556996,
          5.380670871316005,
          6.007238296190485,
          4.452638889768565,
          6.189358614364578,
          3.022547567967433,
          1.5380060175176704,
          4.128883095723705,
          4.7782814937115585,
          3.677180452755397,
          1.5381121582464312,
          4.18460268394411,
          7.560742816699137,
          2.9546993141149667,
          1.2988392043934947,
          7.484191250440711,
          6.950208273721703,
          5.096151307053474,
          2.3763661575083113
         ],
         "y": [
          -0.07206186203422535,
          -4.497391291729455,
          -0.630704453722229,
          1.4430035168935174,
          0.42899252516481096,
          -5.08967612732847,
          -1.979230814825967,
          -1.3979600285065825,
          -4.841712431834201,
          -4.96960681520106,
          -1.134547112752544,
          -3.230241164932989,
          -0.09268047113316737,
          -1.7058100415823436,
          -2.161791413378678,
          -1.0393127085177087,
          -2.9938956965797434,
          -4.640779249298349,
          -4.480751322628688,
          2.259551165116136,
          -0.08959518985369781,
          -0.48148530217414764,
          -1.7251199492677771,
          0.8716779864135072,
          -0.6424290440514919,
          -1.5859647057147261,
          -0.8264597646926131,
          1.7716548517661677,
          0.9682210197945688,
          -5.374977766161134
         ],
         "z": [
          -1.1454054782737835,
          -1.645147349260321,
          1.6203088901466616,
          2.6137761884742527,
          0.18774023021791267,
          -2.9095566135012967,
          0.28203620809655555,
          -1.183643943610174,
          -0.9252291089715388,
          -2.6440724587309314,
          -0.6127145135159652,
          1.8785954991325526,
          1.6391750934642624,
          0.2781493127260521,
          -1.465822688001611,
          1.3847194777963998,
          -0.09194141383260462,
          -1.7265946839091784,
          -2.1390904640866073,
          3.6363625370440174,
          -0.4215353022992001,
          2.1411946577759733,
          1.1812418093295671,
          3.200071231273679,
          1.7074853813678184,
          -0.2615402697169643,
          3.465612159117931,
          2.838816540965999,
          0.676286109521219,
          -2.3299947371934393
         ]
        }
       ],
       "layout": {
        "height": 500,
        "legend": {
         "title": {
          "text": "label"
         },
         "tracegroupgap": 0
        },
        "margin": {
         "b": 0,
         "l": 0,
         "r": 0,
         "t": 0
        },
        "scene": {
         "domain": {
          "x": [
           0,
           1
          ],
          "y": [
           0,
           1
          ]
         },
         "xaxis": {
          "title": {
           "text": "Night"
          }
         },
         "yaxis": {
          "title": {
           "text": "Noon"
          }
         },
         "zaxis": {
          "title": {
           "text": "Morning"
          }
         }
        },
        "template": {
         "data": {
          "bar": [
           {
            "error_x": {
             "color": "#2a3f5f"
            },
            "error_y": {
             "color": "#2a3f5f"
            },
            "marker": {
             "line": {
              "color": "#E5ECF6",
              "width": 0.5
             },
             "pattern": {
              "fillmode": "overlay",
              "size": 10,
              "solidity": 0.2
             }
            },
            "type": "bar"
           }
          ],
          "barpolar": [
           {
            "marker": {
             "line": {
              "color": "#E5ECF6",
              "width": 0.5
             },
             "pattern": {
              "fillmode": "overlay",
              "size": 10,
              "solidity": 0.2
             }
            },
            "type": "barpolar"
           }
          ],
          "carpet": [
           {
            "aaxis": {
             "endlinecolor": "#2a3f5f",
             "gridcolor": "white",
             "linecolor": "white",
             "minorgridcolor": "white",
             "startlinecolor": "#2a3f5f"
            },
            "baxis": {
             "endlinecolor": "#2a3f5f",
             "gridcolor": "white",
             "linecolor": "white",
             "minorgridcolor": "white",
             "startlinecolor": "#2a3f5f"
            },
            "type": "carpet"
           }
          ],
          "choropleth": [
           {
            "colorbar": {
             "outlinewidth": 0,
             "ticks": ""
            },
            "type": "choropleth"
           }
          ],
          "contour": [
           {
            "colorbar": {
             "outlinewidth": 0,
             "ticks": ""
            },
            "colorscale": [
             [
              0,
              "#0d0887"
             ],
             [
              0.1111111111111111,
              "#46039f"
             ],
             [
              0.2222222222222222,
              "#7201a8"
             ],
             [
              0.3333333333333333,
              "#9c179e"
             ],
             [
              0.4444444444444444,
              "#bd3786"
             ],
             [
              0.5555555555555556,
              "#d8576b"
             ],
             [
              0.6666666666666666,
              "#ed7953"
             ],
             [
              0.7777777777777778,
              "#fb9f3a"
             ],
             [
              0.8888888888888888,
              "#fdca26"
             ],
             [
              1,
              "#f0f921"
             ]
            ],
            "type": "contour"
           }
          ],
          "contourcarpet": [
           {
            "colorbar": {
             "outlinewidth": 0,
             "ticks": ""
            },
            "type": "contourcarpet"
           }
          ],
          "heatmap": [
           {
            "colorbar": {
             "outlinewidth": 0,
             "ticks": ""
            },
            "colorscale": [
             [
              0,
              "#0d0887"
             ],
             [
              0.1111111111111111,
              "#46039f"
             ],
             [
              0.2222222222222222,
              "#7201a8"
             ],
             [
              0.3333333333333333,
              "#9c179e"
             ],
             [
              0.4444444444444444,
              "#bd3786"
             ],
             [
              0.5555555555555556,
              "#d8576b"
             ],
             [
              0.6666666666666666,
              "#ed7953"
             ],
             [
              0.7777777777777778,
              "#fb9f3a"
             ],
             [
              0.8888888888888888,
              "#fdca26"
             ],
             [
              1,
              "#f0f921"
             ]
            ],
            "type": "heatmap"
           }
          ],
          "heatmapgl": [
           {
            "colorbar": {
             "outlinewidth": 0,
             "ticks": ""
            },
            "colorscale": [
             [
              0,
              "#0d0887"
             ],
             [
              0.1111111111111111,
              "#46039f"
             ],
             [
              0.2222222222222222,
              "#7201a8"
             ],
             [
              0.3333333333333333,
              "#9c179e"
             ],
             [
              0.4444444444444444,
              "#bd3786"
             ],
             [
              0.5555555555555556,
              "#d8576b"
             ],
             [
              0.6666666666666666,
              "#ed7953"
             ],
             [
              0.7777777777777778,
              "#fb9f3a"
             ],
             [
              0.8888888888888888,
              "#fdca26"
             ],
             [
              1,
              "#f0f921"
             ]
            ],
            "type": "heatmapgl"
           }
          ],
          "histogram": [
           {
            "marker": {
             "pattern": {
              "fillmode": "overlay",
              "size": 10,
              "solidity": 0.2
             }
            },
            "type": "histogram"
           }
          ],
          "histogram2d": [
           {
            "colorbar": {
             "outlinewidth": 0,
             "ticks": ""
            },
            "colorscale": [
             [
              0,
              "#0d0887"
             ],
             [
              0.1111111111111111,
              "#46039f"
             ],
             [
              0.2222222222222222,
              "#7201a8"
             ],
             [
              0.3333333333333333,
              "#9c179e"
             ],
             [
              0.4444444444444444,
              "#bd3786"
             ],
             [
              0.5555555555555556,
              "#d8576b"
             ],
             [
              0.6666666666666666,
              "#ed7953"
             ],
             [
              0.7777777777777778,
              "#fb9f3a"
             ],
             [
              0.8888888888888888,
              "#fdca26"
             ],
             [
              1,
              "#f0f921"
             ]
            ],
            "type": "histogram2d"
           }
          ],
          "histogram2dcontour": [
           {
            "colorbar": {
             "outlinewidth": 0,
             "ticks": ""
            },
            "colorscale": [
             [
              0,
              "#0d0887"
             ],
             [
              0.1111111111111111,
              "#46039f"
             ],
             [
              0.2222222222222222,
              "#7201a8"
             ],
             [
              0.3333333333333333,
              "#9c179e"
             ],
             [
              0.4444444444444444,
              "#bd3786"
             ],
             [
              0.5555555555555556,
              "#d8576b"
             ],
             [
              0.6666666666666666,
              "#ed7953"
             ],
             [
              0.7777777777777778,
              "#fb9f3a"
             ],
             [
              0.8888888888888888,
              "#fdca26"
             ],
             [
              1,
              "#f0f921"
             ]
            ],
            "type": "histogram2dcontour"
           }
          ],
          "mesh3d": [
           {
            "colorbar": {
             "outlinewidth": 0,
             "ticks": ""
            },
            "type": "mesh3d"
           }
          ],
          "parcoords": [
           {
            "line": {
             "colorbar": {
              "outlinewidth": 0,
              "ticks": ""
             }
            },
            "type": "parcoords"
           }
          ],
          "pie": [
           {
            "automargin": true,
            "type": "pie"
           }
          ],
          "scatter": [
           {
            "fillpattern": {
             "fillmode": "overlay",
             "size": 10,
             "solidity": 0.2
            },
            "type": "scatter"
           }
          ],
          "scatter3d": [
           {
            "line": {
             "colorbar": {
              "outlinewidth": 0,
              "ticks": ""
             }
            },
            "marker": {
             "colorbar": {
              "outlinewidth": 0,
              "ticks": ""
             }
            },
            "type": "scatter3d"
           }
          ],
          "scattercarpet": [
           {
            "marker": {
             "colorbar": {
              "outlinewidth": 0,
              "ticks": ""
             }
            },
            "type": "scattercarpet"
           }
          ],
          "scattergeo": [
           {
            "marker": {
             "colorbar": {
              "outlinewidth": 0,
              "ticks": ""
             }
            },
            "type": "scattergeo"
           }
          ],
          "scattergl": [
           {
            "marker": {
             "colorbar": {
              "outlinewidth": 0,
              "ticks": ""
             }
            },
            "type": "scattergl"
           }
          ],
          "scattermapbox": [
           {
            "marker": {
             "colorbar": {
              "outlinewidth": 0,
              "ticks": ""
             }
            },
            "type": "scattermapbox"
           }
          ],
          "scatterpolar": [
           {
            "marker": {
             "colorbar": {
              "outlinewidth": 0,
              "ticks": ""
             }
            },
            "type": "scatterpolar"
           }
          ],
          "scatterpolargl": [
           {
            "marker": {
             "colorbar": {
              "outlinewidth": 0,
              "ticks": ""
             }
            },
            "type": "scatterpolargl"
           }
          ],
          "scatterternary": [
           {
            "marker": {
             "colorbar": {
              "outlinewidth": 0,
              "ticks": ""
             }
            },
            "type": "scatterternary"
           }
          ],
          "surface": [
           {
            "colorbar": {
             "outlinewidth": 0,
             "ticks": ""
            },
            "colorscale": [
             [
              0,
              "#0d0887"
             ],
             [
              0.1111111111111111,
              "#46039f"
             ],
             [
              0.2222222222222222,
              "#7201a8"
             ],
             [
              0.3333333333333333,
              "#9c179e"
             ],
             [
              0.4444444444444444,
              "#bd3786"
             ],
             [
              0.5555555555555556,
              "#d8576b"
             ],
             [
              0.6666666666666666,
              "#ed7953"
             ],
             [
              0.7777777777777778,
              "#fb9f3a"
             ],
             [
              0.8888888888888888,
              "#fdca26"
             ],
             [
              1,
              "#f0f921"
             ]
            ],
            "type": "surface"
           }
          ],
          "table": [
           {
            "cells": {
             "fill": {
              "color": "#EBF0F8"
             },
             "line": {
              "color": "white"
             }
            },
            "header": {
             "fill": {
              "color": "#C8D4E3"
             },
             "line": {
              "color": "white"
             }
            },
            "type": "table"
           }
          ]
         },
         "layout": {
          "annotationdefaults": {
           "arrowcolor": "#2a3f5f",
           "arrowhead": 0,
           "arrowwidth": 1
          },
          "autotypenumbers": "strict",
          "coloraxis": {
           "colorbar": {
            "outlinewidth": 0,
            "ticks": ""
           }
          },
          "colorscale": {
           "diverging": [
            [
             0,
             "#8e0152"
            ],
            [
             0.1,
             "#c51b7d"
            ],
            [
             0.2,
             "#de77ae"
            ],
            [
             0.3,
             "#f1b6da"
            ],
            [
             0.4,
             "#fde0ef"
            ],
            [
             0.5,
             "#f7f7f7"
            ],
            [
             0.6,
             "#e6f5d0"
            ],
            [
             0.7,
             "#b8e186"
            ],
            [
             0.8,
             "#7fbc41"
            ],
            [
             0.9,
             "#4d9221"
            ],
            [
             1,
             "#276419"
            ]
           ],
           "sequential": [
            [
             0,
             "#0d0887"
            ],
            [
             0.1111111111111111,
             "#46039f"
            ],
            [
             0.2222222222222222,
             "#7201a8"
            ],
            [
             0.3333333333333333,
             "#9c179e"
            ],
            [
             0.4444444444444444,
             "#bd3786"
            ],
            [
             0.5555555555555556,
             "#d8576b"
            ],
            [
             0.6666666666666666,
             "#ed7953"
            ],
            [
             0.7777777777777778,
             "#fb9f3a"
            ],
            [
             0.8888888888888888,
             "#fdca26"
            ],
            [
             1,
             "#f0f921"
            ]
           ],
           "sequentialminus": [
            [
             0,
             "#0d0887"
            ],
            [
             0.1111111111111111,
             "#46039f"
            ],
            [
             0.2222222222222222,
             "#7201a8"
            ],
            [
             0.3333333333333333,
             "#9c179e"
            ],
            [
             0.4444444444444444,
             "#bd3786"
            ],
            [
             0.5555555555555556,
             "#d8576b"
            ],
            [
             0.6666666666666666,
             "#ed7953"
            ],
            [
             0.7777777777777778,
             "#fb9f3a"
            ],
            [
             0.8888888888888888,
             "#fdca26"
            ],
            [
             1,
             "#f0f921"
            ]
           ]
          },
          "colorway": [
           "#636efa",
           "#EF553B",
           "#00cc96",
           "#ab63fa",
           "#FFA15A",
           "#19d3f3",
           "#FF6692",
           "#B6E880",
           "#FF97FF",
           "#FECB52"
          ],
          "font": {
           "color": "#2a3f5f"
          },
          "geo": {
           "bgcolor": "white",
           "lakecolor": "white",
           "landcolor": "#E5ECF6",
           "showlakes": true,
           "showland": true,
           "subunitcolor": "white"
          },
          "hoverlabel": {
           "align": "left"
          },
          "hovermode": "closest",
          "mapbox": {
           "style": "light"
          },
          "paper_bgcolor": "white",
          "plot_bgcolor": "#E5ECF6",
          "polar": {
           "angularaxis": {
            "gridcolor": "white",
            "linecolor": "white",
            "ticks": ""
           },
           "bgcolor": "#E5ECF6",
           "radialaxis": {
            "gridcolor": "white",
            "linecolor": "white",
            "ticks": ""
           }
          },
          "scene": {
           "xaxis": {
            "backgroundcolor": "#E5ECF6",
            "gridcolor": "white",
            "gridwidth": 2,
            "linecolor": "white",
            "showbackground": true,
            "ticks": "",
            "zerolinecolor": "white"
           },
           "yaxis": {
            "backgroundcolor": "#E5ECF6",
            "gridcolor": "white",
            "gridwidth": 2,
            "linecolor": "white",
            "showbackground": true,
            "ticks": "",
            "zerolinecolor": "white"
           },
           "zaxis": {
            "backgroundcolor": "#E5ECF6",
            "gridcolor": "white",
            "gridwidth": 2,
            "linecolor": "white",
            "showbackground": true,
            "ticks": "",
            "zerolinecolor": "white"
           }
          },
          "shapedefaults": {
           "line": {
            "color": "#2a3f5f"
           }
          },
          "ternary": {
           "aaxis": {
            "gridcolor": "white",
            "linecolor": "white",
            "ticks": ""
           },
           "baxis": {
            "gridcolor": "white",
            "linecolor": "white",
            "ticks": ""
           },
           "bgcolor": "#E5ECF6",
           "caxis": {
            "gridcolor": "white",
            "linecolor": "white",
            "ticks": ""
           }
          },
          "title": {
           "x": 0.05
          },
          "xaxis": {
           "automargin": true,
           "gridcolor": "white",
           "linecolor": "white",
           "ticks": "",
           "title": {
            "standoff": 15
           },
           "zerolinecolor": "white",
           "zerolinewidth": 2
          },
          "yaxis": {
           "automargin": true,
           "gridcolor": "white",
           "linecolor": "white",
           "ticks": "",
           "title": {
            "standoff": 15
           },
           "zerolinecolor": "white",
           "zerolinewidth": 2
          }
         }
        },
        "width": 700
       }
      }
     },
     "metadata": {},
     "output_type": "display_data"
    }
   ],
   "source": [
    "def visualizing_results(Z, label):\n",
    "    pca_df = pd.DataFrame(Z, columns=['PC1', 'PC2', 'PC3'], index=origin_mapper.keys()).reset_index()\n",
    "    pca_df['label'] = label\n",
    "    pca_df['label'] = pca_df['label'].astype(str)\n",
    "\n",
    "    fig = px.scatter_3d(pca_df, x='PC1', y='PC2', z='PC3', \n",
    "                     color='label', \n",
    "                     hover_data={\"origin\": (pca_df['index'])},\n",
    "                     labels={\n",
    "                        \"PC1\": \"Night\",\n",
    "                        \"PC2\": \"Noon\",\n",
    "                        \"PC3\": \"Morning\",\n",
    "                    },\n",
    "                     opacity=0.7,\n",
    "                    size_max=1,\n",
    "                     width = 700, height = 500\n",
    "                     ).update_layout(margin=dict(l=0, r=0, b=0, t=0)\n",
    "                    ).update_traces(marker_size = 5)\n",
    "    \n",
    "    fig.show()\n",
    "\n",
    "\n",
    "visualizing_results(Z, kmeans.labels_)\n"
   ]
  },
  {
   "cell_type": "code",
   "execution_count": 24,
   "metadata": {},
   "outputs": [
    {
     "data": {
      "application/vnd.plotly.v1+json": {
       "config": {
        "plotlyServerURL": "https://plot.ly"
       },
       "data": [
        {
         "hovertemplate": "Cluster=1<br>origin=Banxin<br>Hour=%{x}<br>Passengers Count=%{y}<extra></extra>",
         "legendgroup": "1",
         "line": {
          "color": "#636efa",
          "dash": "solid"
         },
         "marker": {
          "symbol": "circle"
         },
         "mode": "lines",
         "name": "1",
         "showlegend": true,
         "type": "scattergl",
         "x": [
          0,
          1,
          5,
          6,
          7,
          8,
          9,
          10,
          11,
          12,
          13,
          14,
          15,
          16,
          17,
          18,
          19,
          20,
          21,
          22,
          23
         ],
         "xaxis": "x",
         "y": [
          0.04766107678729038,
          0,
          0,
          0.2669902912621359,
          1.118270079435128,
          1.8901147396293028,
          1.1081200353045013,
          0.5578111209179171,
          0.46999117387466904,
          0.45189761694616065,
          0.5211827007943513,
          0.3879082082965578,
          0.44483671668137686,
          0.5670785525154457,
          0.9399823477493381,
          1.503089143865843,
          0.8578993821712269,
          0.5132391879964695,
          0.42321270962047663,
          0.3340688437775816,
          0.16990291262135923
         ],
         "yaxis": "y"
        },
        {
         "hovertemplate": "Cluster=1<br>origin=Beitou<br>Hour=%{x}<br>Passengers Count=%{y}<extra></extra>",
         "legendgroup": "1",
         "line": {
          "color": "#636efa",
          "dash": "solid"
         },
         "marker": {
          "symbol": "circle"
         },
         "mode": "lines",
         "name": "1",
         "showlegend": false,
         "type": "scattergl",
         "x": [
          0,
          1,
          5,
          6,
          7,
          8,
          9,
          10,
          11,
          12,
          13,
          14,
          15,
          16,
          17,
          18,
          19,
          20,
          21,
          22,
          23
         ],
         "xaxis": "x",
         "y": [
          0.4082082965578111,
          0.016328331862312445,
          0.003971756398940865,
          4.3362753751103265,
          16.411738746690204,
          24.30803177405119,
          12.993821712268314,
          9.07413945278023,
          8.628420123565755,
          8.281112091791703,
          8.232127096204765,
          7.3225948808473085,
          6.477934686672551,
          8.386584289496911,
          10.687555163283319,
          12.39585172109444,
          6.991173874669021,
          4.751103265666372,
          3.965578111209179,
          2.4894086496028245,
          1.0723742277140336
         ],
         "yaxis": "y"
        },
        {
         "hovertemplate": "Cluster=1<br>origin=Cailiao<br>Hour=%{x}<br>Passengers Count=%{y}<extra></extra>",
         "legendgroup": "1",
         "line": {
          "color": "#636efa",
          "dash": "solid"
         },
         "marker": {
          "symbol": "circle"
         },
         "mode": "lines",
         "name": "1",
         "showlegend": false,
         "type": "scattergl",
         "x": [
          0,
          1,
          5,
          6,
          7,
          8,
          9,
          10,
          11,
          12,
          13,
          14,
          15,
          16,
          17,
          18,
          19,
          20,
          21,
          22,
          23
         ],
         "xaxis": "x",
         "y": [
          0.23962930273609886,
          0.020741394527802295,
          0.00176522506619594,
          2.3067078552515445,
          10.53883495145631,
          19.426743159752867,
          9.053398058252426,
          4.541041482789056,
          3.6668137687555165,
          3.4955869373345103,
          3.3477493380406003,
          2.8075904677846424,
          2.442188879082083,
          3.4567519858781997,
          5.270962047661077,
          5.256840247131509,
          2.8415710503089144,
          1.7612533097969991,
          1.6654898499558695,
          1.296116504854369,
          0.5697263901147396
         ],
         "yaxis": "y"
        },
        {
         "hovertemplate": "Cluster=1<br>origin=Dahu_Park<br>Hour=%{x}<br>Passengers Count=%{y}<extra></extra>",
         "legendgroup": "1",
         "line": {
          "color": "#636efa",
          "dash": "solid"
         },
         "marker": {
          "symbol": "circle"
         },
         "mode": "lines",
         "name": "1",
         "showlegend": false,
         "type": "scattergl",
         "x": [
          0,
          1,
          5,
          6,
          7,
          8,
          9,
          10,
          11,
          12,
          13,
          14,
          15,
          16,
          17,
          18,
          19,
          20,
          21,
          22,
          23
         ],
         "xaxis": "x",
         "y": [
          0.05648720211827008,
          0.00088261253309797,
          0.00088261253309797,
          0.47749338040600176,
          3.3080317740511913,
          6.62621359223301,
          3.383495145631068,
          1.7096204766107679,
          1.5361871138570167,
          1.3901147396293028,
          1.410856134157105,
          1.2405119152691968,
          1.1835834068843778,
          1.4841129744042365,
          1.6553398058252426,
          1.8367166813768756,
          1.1090026478375994,
          0.6262135922330098,
          0.5988526037069727,
          0.4355692850838482,
          0.14563106796116504
         ],
         "yaxis": "y"
        },
        {
         "hovertemplate": "Cluster=1<br>origin=Danfeng<br>Hour=%{x}<br>Passengers Count=%{y}<extra></extra>",
         "legendgroup": "1",
         "line": {
          "color": "#636efa",
          "dash": "solid"
         },
         "marker": {
          "symbol": "circle"
         },
         "mode": "lines",
         "name": "1",
         "showlegend": false,
         "type": "scattergl",
         "x": [
          0,
          1,
          5,
          6,
          7,
          8,
          9,
          10,
          11,
          12,
          13,
          14,
          15,
          16,
          17,
          18,
          19,
          20,
          21,
          22,
          23
         ],
         "xaxis": "x",
         "y": [
          0.176522506619594,
          0.003089143865842895,
          0.001323918799646955,
          1.9947043248014122,
          11.829214474845543,
          21.076787290379524,
          9.727714033539277,
          4.931156222418358,
          3.848631950573698,
          3.2021182700794353,
          3.1615180935569285,
          2.4315975286849074,
          1.9289496910856134,
          2.1204766107678727,
          3.3393645189761694,
          4.16946160635481,
          2.294351279788173,
          1.267431597528685,
          1.1253309796999118,
          0.9139452780229479,
          0.45719329214474846
         ],
         "yaxis": "y"
        },
        {
         "hovertemplate": "Cluster=1<br>origin=Dingpu<br>Hour=%{x}<br>Passengers Count=%{y}<extra></extra>",
         "legendgroup": "1",
         "line": {
          "color": "#636efa",
          "dash": "solid"
         },
         "marker": {
          "symbol": "circle"
         },
         "mode": "lines",
         "name": "1",
         "showlegend": false,
         "type": "scattergl",
         "x": [
          0,
          1,
          5,
          6,
          7,
          8,
          9,
          10,
          11,
          12,
          13,
          14,
          15,
          16,
          17,
          18,
          19,
          20,
          21,
          22,
          23
         ],
         "xaxis": "x",
         "y": [
          0.11738746690203,
          0.003089143865842895,
          0.00176522506619594,
          2.0247131509267433,
          8.784201235657546,
          16.78243601059135,
          6.8777581641659316,
          3.6990291262135924,
          2.7259488084730803,
          2.511473962930274,
          2.4814651368049425,
          1.9249779346866724,
          1.6937334510150044,
          2.0825242718446604,
          5.251103265666372,
          9.852603706972639,
          5.558693733451015,
          1.970873786407767,
          1.1813768755516327,
          0.6924095322153575,
          0.39849955869373344
         ],
         "yaxis": "y"
        },
        {
         "hovertemplate": "Cluster=1<br>origin=Dingxi<br>Hour=%{x}<br>Passengers Count=%{y}<extra></extra>",
         "legendgroup": "1",
         "line": {
          "color": "#636efa",
          "dash": "solid"
         },
         "marker": {
          "symbol": "circle"
         },
         "mode": "lines",
         "name": "1",
         "showlegend": false,
         "type": "scattergl",
         "x": [
          0,
          1,
          5,
          6,
          7,
          8,
          9,
          10,
          11,
          12,
          13,
          14,
          15,
          16,
          17,
          18,
          19,
          20,
          21,
          22,
          23
         ],
         "xaxis": "x",
         "y": [
          0.8609885260370698,
          0.011915269196822596,
          0.00264783759929391,
          7.085613415710503,
          29.256398940864962,
          62.187996469549866,
          33.68270079435128,
          18.203442188879084,
          14.715357458075905,
          13.571491615180935,
          14.042365401588702,
          11.346425419240953,
          9.312003530450133,
          10.266548984995588,
          13.603265666372463,
          14.73080317740512,
          9.796557811120918,
          6.8755516328331865,
          6.850838481906443,
          5.519417475728155,
          2.5538393645189763
         ],
         "yaxis": "y"
        },
        {
         "hovertemplate": "Cluster=1<br>origin=Donghu<br>Hour=%{x}<br>Passengers Count=%{y}<extra></extra>",
         "legendgroup": "1",
         "line": {
          "color": "#636efa",
          "dash": "solid"
         },
         "marker": {
          "symbol": "circle"
         },
         "mode": "lines",
         "name": "1",
         "showlegend": false,
         "type": "scattergl",
         "x": [
          0,
          1,
          5,
          6,
          7,
          8,
          9,
          10,
          11,
          12,
          13,
          14,
          15,
          16,
          17,
          18,
          19,
          20,
          21,
          22,
          23
         ],
         "xaxis": "x",
         "y": [
          0.1059135039717564,
          0.00176522506619594,
          0.00529567519858782,
          1.3424536628420123,
          8.652691968225948,
          16.940864960282436,
          8.449249779346866,
          3.997793468667255,
          3.641659311562224,
          3.165931156222418,
          3.0335392762577227,
          2.284642541924095,
          1.940864960282436,
          4.99558693733451,
          4.554721977052074,
          4.5926743159752865,
          2.4558693733451014,
          1.5114739629302736,
          1.5436893203883495,
          0.9651368049426302,
          0.3406884377758164
         ],
         "yaxis": "y"
        },
        {
         "hovertemplate": "Cluster=1<br>origin=Far_Eastern_Hospital<br>Hour=%{x}<br>Passengers Count=%{y}<extra></extra>",
         "legendgroup": "1",
         "line": {
          "color": "#636efa",
          "dash": "solid"
         },
         "marker": {
          "symbol": "circle"
         },
         "mode": "lines",
         "name": "1",
         "showlegend": false,
         "type": "scattergl",
         "x": [
          0,
          1,
          5,
          6,
          7,
          8,
          9,
          10,
          11,
          12,
          13,
          14,
          15,
          16,
          17,
          18,
          19,
          20,
          21,
          22,
          23
         ],
         "xaxis": "x",
         "y": [
          0.4077669902912621,
          0.00353045013239188,
          0.001323918799646955,
          5.725507502206531,
          24.414827890556047,
          46.11209179170344,
          21.55781112091792,
          12.395410414827891,
          10.388790820829655,
          9.55648720211827,
          8.690644307149162,
          7.477493380406002,
          7.503089143865843,
          8.554280670785525,
          11.588702559576346,
          13.133274492497794,
          9.031332744924978,
          4.932480141218005,
          3.7687555163283317,
          2.3406884377758166,
          1.1535745807590467
         ],
         "yaxis": "y"
        },
        {
         "hovertemplate": "Cluster=1<br>origin=Fuxinggang<br>Hour=%{x}<br>Passengers Count=%{y}<extra></extra>",
         "legendgroup": "1",
         "line": {
          "color": "#636efa",
          "dash": "solid"
         },
         "marker": {
          "symbol": "circle"
         },
         "mode": "lines",
         "name": "1",
         "showlegend": false,
         "type": "scattergl",
         "x": [
          0,
          1,
          5,
          6,
          7,
          8,
          9,
          10,
          11,
          12,
          13,
          14,
          15,
          16,
          17,
          18,
          19,
          20,
          21,
          22,
          23
         ],
         "xaxis": "x",
         "y": [
          0.08914386584289496,
          0.002206531332744925,
          0.00088261253309797,
          1.1588702559576345,
          4.361871138570168,
          6.003530450132392,
          2.8962930273609886,
          1.7709620476610768,
          1.6668137687555162,
          1.615180935569285,
          1.5547219770520742,
          1.3177405119152692,
          1.1862312444836716,
          1.4527802294792587,
          2.3415710503089144,
          2.88261253309797,
          1.3406884377758164,
          0.8164165931156222,
          0.6195939982347749,
          0.4567519858781995,
          0.2612533097969991
         ],
         "yaxis": "y"
        },
        {
         "hovertemplate": "Cluster=1<br>origin=Fuzhong<br>Hour=%{x}<br>Passengers Count=%{y}<extra></extra>",
         "legendgroup": "1",
         "line": {
          "color": "#636efa",
          "dash": "solid"
         },
         "marker": {
          "symbol": "circle"
         },
         "mode": "lines",
         "name": "1",
         "showlegend": false,
         "type": "scattergl",
         "x": [
          0,
          1,
          5,
          6,
          7,
          8,
          9,
          10,
          11,
          12,
          13,
          14,
          15,
          16,
          17,
          18,
          19,
          20,
          21,
          22,
          23
         ],
         "xaxis": "x",
         "y": [
          1.087378640776699,
          0.02030008826125331,
          0.00529567519858782,
          5.680935569285084,
          23.93998234774934,
          48.8918799646955,
          24.46160635481024,
          14.872021182700795,
          11.954545454545455,
          11.418358340688437,
          11.68270079435128,
          10.195057369814652,
          8.86142983230362,
          9.832744924977934,
          13.38217122683142,
          13.146954986760813,
          9.542365401588702,
          7.6743159752868495,
          8.970873786407767,
          7.339805825242719,
          3.1522506619593997
         ],
         "yaxis": "y"
        },
        {
         "hovertemplate": "Cluster=1<br>origin=Haishan<br>Hour=%{x}<br>Passengers Count=%{y}<extra></extra>",
         "legendgroup": "1",
         "line": {
          "color": "#636efa",
          "dash": "solid"
         },
         "marker": {
          "symbol": "circle"
         },
         "mode": "lines",
         "name": "1",
         "showlegend": false,
         "type": "scattergl",
         "x": [
          0,
          1,
          5,
          6,
          7,
          8,
          9,
          10,
          11,
          12,
          13,
          14,
          15,
          16,
          17,
          18,
          19,
          20,
          21,
          22,
          23
         ],
         "xaxis": "x",
         "y": [
          0.30229479258605474,
          0.003971756398940865,
          0.003089143865842895,
          5.2462488967343335,
          22.627537511032656,
          46.75860547219771,
          20.45233892321271,
          11.045013239187996,
          8.677846425419242,
          7.7091791703442185,
          7.77405119152692,
          6.045895851721094,
          4.803177405119152,
          7.473521624007061,
          7.998676081200353,
          7.87378640776699,
          5.031332744924978,
          3.1579876434245366,
          2.916151809355693,
          2.294351279788173,
          1.0220653133274493
         ],
         "yaxis": "y"
        },
        {
         "hovertemplate": "Cluster=1<br>origin=Hongshulin<br>Hour=%{x}<br>Passengers Count=%{y}<extra></extra>",
         "legendgroup": "1",
         "line": {
          "color": "#636efa",
          "dash": "solid"
         },
         "marker": {
          "symbol": "circle"
         },
         "mode": "lines",
         "name": "1",
         "showlegend": false,
         "type": "scattergl",
         "x": [
          0,
          1,
          5,
          6,
          7,
          8,
          9,
          10,
          11,
          12,
          13,
          14,
          15,
          16,
          17,
          18,
          19,
          20,
          21,
          22,
          23
         ],
         "xaxis": "x",
         "y": [
          0.2563989408649603,
          0.01323918799646955,
          0.001323918799646955,
          2.1818181818181817,
          12.429390997352163,
          21.611650485436893,
          10.366284201235658,
          6.260370697263901,
          5.710944395410415,
          5.441747572815534,
          5.438217122683142,
          4.508826125330979,
          4.127537511032656,
          4.784642541924096,
          6.6743159752868495,
          8.326566637246248,
          4.646954986760812,
          2.4541041482789057,
          1.8097969991173875,
          1.409973521624007,
          0.7616946160635482
         ],
         "yaxis": "y"
        },
        {
         "hovertemplate": "Cluster=1<br>origin=Houshanpi<br>Hour=%{x}<br>Passengers Count=%{y}<extra></extra>",
         "legendgroup": "1",
         "line": {
          "color": "#636efa",
          "dash": "solid"
         },
         "marker": {
          "symbol": "circle"
         },
         "mode": "lines",
         "name": "1",
         "showlegend": false,
         "type": "scattergl",
         "x": [
          0,
          1,
          5,
          6,
          7,
          8,
          9,
          10,
          11,
          12,
          13,
          14,
          15,
          16,
          17,
          18,
          19,
          20,
          21,
          22,
          23
         ],
         "xaxis": "x",
         "y": [
          0.5185348631950574,
          0.00529567519858782,
          0.001323918799646955,
          2.740953221535746,
          10.631067961165048,
          21.57413945278023,
          11.80891438658429,
          7.567519858781995,
          7.296557811120918,
          6.834510150044131,
          7.037069726390115,
          6.007502206531333,
          5.665931156222419,
          7.022065313327449,
          9.750220653133274,
          13.557369814651368,
          8.995145631067961,
          5.203442188879082,
          4.324360105913504,
          3.150485436893204,
          1.5441306266548984
         ],
         "yaxis": "y"
        },
        {
         "hovertemplate": "Cluster=1<br>origin=Huilong<br>Hour=%{x}<br>Passengers Count=%{y}<extra></extra>",
         "legendgroup": "1",
         "line": {
          "color": "#636efa",
          "dash": "solid"
         },
         "marker": {
          "symbol": "circle"
         },
         "mode": "lines",
         "name": "1",
         "showlegend": false,
         "type": "scattergl",
         "x": [
          0,
          1,
          5,
          6,
          7,
          8,
          9,
          10,
          11,
          12,
          13,
          14,
          15,
          16,
          17,
          18,
          19,
          20,
          21,
          22,
          23
         ],
         "xaxis": "x",
         "y": [
          0.17740511915269197,
          0.003089143865842895,
          0.002206531332744925,
          2.4907325684024713,
          14.346866725507502,
          24.640776699029125,
          10.454986760812004,
          5.049426301853487,
          4.101941747572815,
          3.7197705207413945,
          3.8150926743159754,
          2.901147396293027,
          2.654015887025596,
          3.3503971756398943,
          4.356134157105031,
          4.593115622241836,
          2.4514563106796117,
          1.3755516328331863,
          1.2233009708737863,
          1.0097087378640777,
          0.45366284201235657
         ],
         "yaxis": "y"
        },
        {
         "hovertemplate": "Cluster=1<br>origin=Huzhou<br>Hour=%{x}<br>Passengers Count=%{y}<extra></extra>",
         "legendgroup": "1",
         "line": {
          "color": "#636efa",
          "dash": "solid"
         },
         "marker": {
          "symbol": "circle"
         },
         "mode": "lines",
         "name": "1",
         "showlegend": false,
         "type": "scattergl",
         "x": [
          0,
          1,
          5,
          6,
          7,
          8,
          9,
          10,
          11,
          12,
          13,
          14,
          15,
          16,
          17,
          18,
          19,
          20,
          21,
          22,
          23
         ],
         "xaxis": "x",
         "y": [
          0.1500441306266549,
          0.003089143865842895,
          0.00088261253309797,
          1.2519858781994704,
          6.96072374227714,
          14.148720211827008,
          7.200353045013239,
          3.595322153574581,
          3.5564872021182703,
          3.491615180935569,
          3.5975286849073256,
          2.80008826125331,
          2.500882612533098,
          3.6297440423654015,
          5.974404236540159,
          6.87819947043248,
          4.0609002647837595,
          2.1204766107678727,
          1.7100617828773168,
          1.029126213592233,
          0.39452780229479256
         ],
         "yaxis": "y"
        },
        {
         "hovertemplate": "Cluster=1<br>origin=Jiangzicui<br>Hour=%{x}<br>Passengers Count=%{y}<extra></extra>",
         "legendgroup": "1",
         "line": {
          "color": "#636efa",
          "dash": "solid"
         },
         "marker": {
          "symbol": "circle"
         },
         "mode": "lines",
         "name": "1",
         "showlegend": false,
         "type": "scattergl",
         "x": [
          0,
          1,
          5,
          6,
          7,
          8,
          9,
          10,
          11,
          12,
          13,
          14,
          15,
          16,
          17,
          18,
          19,
          20,
          21,
          22,
          23
         ],
         "xaxis": "x",
         "y": [
          0.6681376875551632,
          0.01323918799646955,
          0.005736981465136805,
          5.51721094439541,
          24.71270962047661,
          48.63239187996469,
          23.58208296557811,
          12.362753751103266,
          9.750220653133274,
          9.247131509267431,
          9.951015004413062,
          8.119152691968226,
          6.6902030008826125,
          7.381729920564872,
          9.806707855251545,
          14.420123565754634,
          9.816857899382171,
          6.22594880847308,
          5.662400706090026,
          3.970432480141218,
          1.7462488967343337
         ],
         "yaxis": "y"
        },
        {
         "hovertemplate": "Cluster=1<br>origin=Jingan<br>Hour=%{x}<br>Passengers Count=%{y}<extra></extra>",
         "legendgroup": "1",
         "line": {
          "color": "#636efa",
          "dash": "solid"
         },
         "marker": {
          "symbol": "circle"
         },
         "mode": "lines",
         "name": "1",
         "showlegend": false,
         "type": "scattergl",
         "x": [
          0,
          1,
          5,
          6,
          7,
          8,
          9,
          10,
          11,
          12,
          13,
          14,
          15,
          16,
          17,
          18,
          19,
          20,
          21,
          22,
          23
         ],
         "xaxis": "x",
         "y": [
          0.3737864077669903,
          0.003089143865842895,
          0,
          4.762577228596646,
          24.218446601941746,
          48.76434245366284,
          24.7396293027361,
          13.09135039717564,
          10.289496910856133,
          9.081641659311563,
          9.322153574580758,
          7.338923212709621,
          5.954104148278906,
          6.19991173874669,
          8.690203000882612,
          11.232568402471315,
          8.350838481906443,
          4.250661959399824,
          3.288172992056487,
          2.3702559576345985,
          1.1006178287731685
         ],
         "yaxis": "y"
        },
        {
         "hovertemplate": "Cluster=1<br>origin=Jingmei<br>Hour=%{x}<br>Passengers Count=%{y}<extra></extra>",
         "legendgroup": "1",
         "line": {
          "color": "#636efa",
          "dash": "solid"
         },
         "marker": {
          "symbol": "circle"
         },
         "mode": "lines",
         "name": "1",
         "showlegend": false,
         "type": "scattergl",
         "x": [
          0,
          1,
          5,
          6,
          7,
          8,
          9,
          10,
          11,
          12,
          13,
          14,
          15,
          16,
          17,
          18,
          19,
          20,
          21,
          22,
          23
         ],
         "xaxis": "x",
         "y": [
          0.3843777581641659,
          0.00794351279788173,
          0.001323918799646955,
          2.5750220653133273,
          10.497352162400706,
          19.66637246248897,
          11.038393645189762,
          7.075022065313328,
          6.977934686672551,
          6.684907325684025,
          6.420564872021183,
          5.526478375992939,
          5.117828773168579,
          7.006619593998235,
          9.354810238305383,
          9.90423654015887,
          6.396293027360988,
          4.373345101500441,
          4.559135039717564,
          3.1067961165048543,
          1.2639011473962931
         ],
         "yaxis": "y"
        },
        {
         "hovertemplate": "Cluster=1<br>origin=Jingping<br>Hour=%{x}<br>Passengers Count=%{y}<extra></extra>",
         "legendgroup": "1",
         "line": {
          "color": "#636efa",
          "dash": "solid"
         },
         "marker": {
          "symbol": "circle"
         },
         "mode": "lines",
         "name": "1",
         "showlegend": false,
         "type": "scattergl",
         "x": [
          0,
          1,
          5,
          6,
          7,
          8,
          9,
          10,
          11,
          12,
          13,
          14,
          15,
          16,
          17,
          18,
          19,
          20,
          21,
          22,
          23
         ],
         "xaxis": "x",
         "y": [
          0.07413945278022947,
          0.00176522506619594,
          0,
          0.352603706972639,
          1.6553398058252426,
          3.1615180935569285,
          1.619152691968226,
          0.9037952338923213,
          0.7691968225948809,
          0.6941747572815534,
          0.7771403353927626,
          0.6804942630185349,
          0.6222418358340689,
          0.5754633715798765,
          0.9240953221535746,
          1.560017652250662,
          1.3349514563106797,
          0.5728155339805825,
          0.4333627537511033,
          0.3212709620476611,
          0.17387466902030008
         ],
         "yaxis": "y"
        },
        {
         "hovertemplate": "Cluster=1<br>origin=Linguang<br>Hour=%{x}<br>Passengers Count=%{y}<extra></extra>",
         "legendgroup": "1",
         "line": {
          "color": "#636efa",
          "dash": "solid"
         },
         "marker": {
          "symbol": "circle"
         },
         "mode": "lines",
         "name": "1",
         "showlegend": false,
         "type": "scattergl",
         "x": [
          0,
          1,
          5,
          6,
          7,
          8,
          9,
          10,
          11,
          12,
          13,
          14,
          15,
          16,
          17,
          18,
          19,
          20,
          21,
          22,
          23
         ],
         "xaxis": "x",
         "y": [
          0.10723742277140336,
          0,
          0.00088261253309797,
          0.9015887025595763,
          4.146513680494263,
          7.593115622241836,
          4.2537511032656665,
          2.259046778464254,
          2.049426301853486,
          1.8014121800529568,
          1.8746690203000882,
          1.6288614298323036,
          1.4642541924095323,
          1.409532215357458,
          1.9165931156222418,
          2.1941747572815533,
          1.4929390997352163,
          0.9051191526919682,
          0.882171226831421,
          0.5454545454545454,
          0.25154457193292146
         ],
         "yaxis": "y"
        },
        {
         "hovertemplate": "Cluster=1<br>origin=Liuzhangli<br>Hour=%{x}<br>Passengers Count=%{y}<extra></extra>",
         "legendgroup": "1",
         "line": {
          "color": "#636efa",
          "dash": "solid"
         },
         "marker": {
          "symbol": "circle"
         },
         "mode": "lines",
         "name": "1",
         "showlegend": false,
         "type": "scattergl",
         "x": [
          0,
          1,
          5,
          6,
          7,
          8,
          9,
          10,
          11,
          12,
          13,
          14,
          15,
          16,
          17,
          18,
          19,
          20,
          21,
          22,
          23
         ],
         "xaxis": "x",
         "y": [
          0.6350397175639894,
          0.012797881729920565,
          0,
          1.532215357458076,
          7.251985878199471,
          15.03927625772286,
          8.124007060900265,
          4.422330097087379,
          3.8671668137687556,
          3.7802294792586055,
          4.1244483671668135,
          3.4955869373345103,
          3.351721094439541,
          4.275816416593115,
          6.996469549867608,
          10.903353927625773,
          7.851279788172992,
          3.8627537511032655,
          3.2842012356575463,
          2.5939982347749337,
          1.2625772285966461
         ],
         "yaxis": "y"
        },
        {
         "hovertemplate": "Cluster=1<br>origin=Luzhou<br>Hour=%{x}<br>Passengers Count=%{y}<extra></extra>",
         "legendgroup": "1",
         "line": {
          "color": "#636efa",
          "dash": "solid"
         },
         "marker": {
          "symbol": "circle"
         },
         "mode": "lines",
         "name": "1",
         "showlegend": false,
         "type": "scattergl",
         "x": [
          0,
          1,
          5,
          6,
          7,
          8,
          9,
          10,
          11,
          12,
          13,
          14,
          15,
          16,
          17,
          18,
          19,
          20,
          21,
          22,
          23
         ],
         "xaxis": "x",
         "y": [
          0.21315092674315975,
          0.000441306266548985,
          0.00088261253309797,
          3.819947043248014,
          20.10017652250662,
          35.5864960282436,
          16.627978817299205,
          8.406001765225065,
          6,
          5.405119152691968,
          5.3067078552515445,
          3.889673433362754,
          3.1963812886142984,
          3.2691968225948806,
          3.968667255075022,
          4.555163283318623,
          2.8927625772285968,
          1.674315975286849,
          1.5383936451897617,
          1.3353927625772286,
          0.5697263901147396
         ],
         "yaxis": "y"
        },
        {
         "hovertemplate": "Cluster=1<br>origin=Muzha<br>Hour=%{x}<br>Passengers Count=%{y}<extra></extra>",
         "legendgroup": "1",
         "line": {
          "color": "#636efa",
          "dash": "solid"
         },
         "marker": {
          "symbol": "circle"
         },
         "mode": "lines",
         "name": "1",
         "showlegend": false,
         "type": "scattergl",
         "x": [
          0,
          1,
          5,
          6,
          7,
          8,
          9,
          10,
          11,
          12,
          13,
          14,
          15,
          16,
          17,
          18,
          19,
          20,
          21,
          22,
          23
         ],
         "xaxis": "x",
         "y": [
          0.0498676081200353,
          0,
          0,
          0.7237422771403353,
          2.8980582524271843,
          6.255516328331862,
          3.5039717563989408,
          2.234333627537511,
          1.8371579876434245,
          1.969991173874669,
          1.8053839364518975,
          1.4015887025595763,
          1.349955869373345,
          3.275816416593116,
          2.947043248014122,
          2.6262135922330097,
          1.4536628420123565,
          0.8067078552515445,
          0.589143865842895,
          0.4002647837599294,
          0.11827007943512798
         ],
         "yaxis": "y"
        },
        {
         "hovertemplate": "Cluster=1<br>origin=Nanshijiao<br>Hour=%{x}<br>Passengers Count=%{y}<extra></extra>",
         "legendgroup": "1",
         "line": {
          "color": "#636efa",
          "dash": "solid"
         },
         "marker": {
          "symbol": "circle"
         },
         "mode": "lines",
         "name": "1",
         "showlegend": false,
         "type": "scattergl",
         "x": [
          0,
          1,
          5,
          6,
          7,
          8,
          9,
          10,
          11,
          12,
          13,
          14,
          15,
          16,
          17,
          18,
          19,
          20,
          21,
          22,
          23
         ],
         "xaxis": "x",
         "y": [
          0.34774933804060015,
          0.0048543689320388345,
          0.00353045013239188,
          5.572815533980583,
          22.107237422771405,
          46.757722859664604,
          20.88217122683142,
          10.811120917917034,
          8.11694616063548,
          7.068402471315093,
          7.687555163283319,
          5.946160635481024,
          5.0238305383936455,
          4.853927625772286,
          5.955869373345101,
          6.652691968225949,
          4.699470432480141,
          2.918799646954987,
          2.7396293027360987,
          2.1915269196822593,
          1.1090026478375994
         ],
         "yaxis": "y"
        },
        {
         "hovertemplate": "Cluster=1<br>origin=Neihu<br>Hour=%{x}<br>Passengers Count=%{y}<extra></extra>",
         "legendgroup": "1",
         "line": {
          "color": "#636efa",
          "dash": "solid"
         },
         "marker": {
          "symbol": "circle"
         },
         "mode": "lines",
         "name": "1",
         "showlegend": false,
         "type": "scattergl",
         "x": [
          0,
          1,
          5,
          6,
          7,
          8,
          9,
          10,
          11,
          12,
          13,
          14,
          15,
          16,
          17,
          18,
          19,
          20,
          21,
          22,
          23
         ],
         "xaxis": "x",
         "y": [
          0.22815533980582525,
          0.005736981465136805,
          0.00176522506619594,
          1.4567519858781994,
          8.371138570167696,
          16.53927625772286,
          8.736098852603707,
          4.625330979699911,
          4.5026478375992935,
          4.035745807590468,
          4.297440423654016,
          3.5070609002647837,
          3.244042365401589,
          3.7237422771403352,
          5.236540158870256,
          6.140776699029126,
          4.184907325684025,
          2.9510150044130627,
          2.622241835834069,
          1.96513680494263,
          0.70432480141218
         ],
         "yaxis": "y"
        },
        {
         "hovertemplate": "Cluster=1<br>origin=Qilian<br>Hour=%{x}<br>Passengers Count=%{y}<extra></extra>",
         "legendgroup": "1",
         "line": {
          "color": "#636efa",
          "dash": "solid"
         },
         "marker": {
          "symbol": "circle"
         },
         "mode": "lines",
         "name": "1",
         "showlegend": false,
         "type": "scattergl",
         "x": [
          0,
          1,
          5,
          6,
          7,
          8,
          9,
          10,
          11,
          12,
          13,
          14,
          15,
          16,
          17,
          18,
          19,
          20,
          21,
          22,
          23
         ],
         "xaxis": "x",
         "y": [
          0.1994704324801412,
          0.01147396293027361,
          0.06001765225066196,
          2.032656663724625,
          7.663283318623124,
          12.518093556928509,
          6.401147396293028,
          3.816416593115622,
          3.411738746690203,
          2.932921447484554,
          3.064430714916152,
          2.651809355692851,
          2.438217122683142,
          2.8027360988526038,
          3.916151809355693,
          4.169902912621359,
          2.700794351279788,
          1.707855251544572,
          1.3437775816416593,
          0.8406884377758164,
          0.4201235657546337
         ],
         "yaxis": "y"
        },
        {
         "hovertemplate": "Cluster=1<br>origin=Qiyan<br>Hour=%{x}<br>Passengers Count=%{y}<extra></extra>",
         "legendgroup": "1",
         "line": {
          "color": "#636efa",
          "dash": "solid"
         },
         "marker": {
          "symbol": "circle"
         },
         "mode": "lines",
         "name": "1",
         "showlegend": false,
         "type": "scattergl",
         "x": [
          0,
          1,
          5,
          6,
          7,
          8,
          9,
          10,
          11,
          12,
          13,
          14,
          15,
          16,
          17,
          18,
          19,
          20,
          21,
          22,
          23
         ],
         "xaxis": "x",
         "y": [
          0.20255957634598412,
          0.008384819064430714,
          0.001323918799646955,
          1.9165931156222418,
          8.115180935569285,
          12.828331862312444,
          6.488084730803178,
          3.9858781994704326,
          3.563106796116505,
          3.706090026478376,
          3.5366284201235656,
          2.9196822594880847,
          2.589143865842895,
          3.1729920564872023,
          5.3045013239187995,
          9.388790820829655,
          5.8755516328331865,
          2.6575463371579877,
          1.764342453662842,
          1.0154457193292146,
          0.4677846425419241
         ],
         "yaxis": "y"
        },
        {
         "hovertemplate": "Cluster=1<br>origin=Qizhang<br>Hour=%{x}<br>Passengers Count=%{y}<extra></extra>",
         "legendgroup": "1",
         "line": {
          "color": "#636efa",
          "dash": "solid"
         },
         "marker": {
          "symbol": "circle"
         },
         "mode": "lines",
         "name": "1",
         "showlegend": false,
         "type": "scattergl",
         "x": [
          0,
          1,
          5,
          6,
          7,
          8,
          9,
          10,
          11,
          12,
          13,
          14,
          15,
          16,
          17,
          18,
          19,
          20,
          21,
          22,
          23
         ],
         "xaxis": "x",
         "y": [
          0.3084730803177405,
          0.00529567519858782,
          0.00529567519858782,
          2.787290379523389,
          12.437334510150045,
          21.683583406884377,
          11.679611650485437,
          7.165048543689321,
          6.777140335392763,
          6.310679611650485,
          6.566637246248897,
          5.5260370697263905,
          4.737422771403354,
          6.312444836716681,
          8.154898499558694,
          11.505295675198587,
          7.620476610767873,
          3.790379523389232,
          3.056928508384819,
          2.3698146513680496,
          1.1284201235657547
         ],
         "yaxis": "y"
        },
        {
         "hovertemplate": "Cluster=1<br>origin=Sanchong<br>Hour=%{x}<br>Passengers Count=%{y}<extra></extra>",
         "legendgroup": "1",
         "line": {
          "color": "#636efa",
          "dash": "solid"
         },
         "marker": {
          "symbol": "circle"
         },
         "mode": "lines",
         "name": "1",
         "showlegend": false,
         "type": "scattergl",
         "x": [
          0,
          1,
          5,
          6,
          7,
          8,
          9,
          10,
          11,
          12,
          13,
          14,
          15,
          16,
          17,
          18,
          19,
          20,
          21,
          22,
          23
         ],
         "xaxis": "x",
         "y": [
          0.4386584289496911,
          0.006619593998234775,
          0,
          1.0816416593115623,
          6.953662842012356,
          13.1522506619594,
          5.814210061782878,
          3.0123565754633717,
          2.5458958517210943,
          2.40423654015887,
          2.442188879082083,
          2.1297440423654015,
          2.0247131509267433,
          2.2524271844660193,
          3.5657546337157986,
          5.053839364518976,
          3.148720211827008,
          1.9329214474845542,
          1.646954986760812,
          1.5750220653133276,
          0.8451015004413063
         ],
         "yaxis": "y"
        },
        {
         "hovertemplate": "Cluster=1<br>origin=Sanchong_Elementary_School<br>Hour=%{x}<br>Passengers Count=%{y}<extra></extra>",
         "legendgroup": "1",
         "line": {
          "color": "#636efa",
          "dash": "solid"
         },
         "marker": {
          "symbol": "circle"
         },
         "mode": "lines",
         "name": "1",
         "showlegend": false,
         "type": "scattergl",
         "x": [
          0,
          1,
          5,
          6,
          7,
          8,
          9,
          10,
          11,
          12,
          13,
          14,
          15,
          16,
          17,
          18,
          19,
          20,
          21,
          22,
          23
         ],
         "xaxis": "x",
         "y": [
          0.3027360988526037,
          0.00088261253309797,
          0.00264783759929391,
          3.795233892321271,
          13.249779346866726,
          22.9783759929391,
          11.315533980582524,
          6.241394527802295,
          4.551191526919682,
          4.279346866725508,
          4.355692850838482,
          3.4461606354810237,
          2.881288614298323,
          2.910856134157105,
          3.6919682259488087,
          4.649161518093557,
          3.2480141218005296,
          2.3420123565754634,
          2.1853486319505735,
          1.7833186231244484,
          0.8049426301853486
         ],
         "yaxis": "y"
        },
        {
         "hovertemplate": "Cluster=1<br>origin=Sanhe_Junior_High_School<br>Hour=%{x}<br>Passengers Count=%{y}<extra></extra>",
         "legendgroup": "1",
         "line": {
          "color": "#636efa",
          "dash": "solid"
         },
         "marker": {
          "symbol": "circle"
         },
         "mode": "lines",
         "name": "1",
         "showlegend": false,
         "type": "scattergl",
         "x": [
          0,
          1,
          5,
          6,
          7,
          8,
          9,
          10,
          11,
          12,
          13,
          14,
          15,
          16,
          17,
          18,
          19,
          20,
          21,
          22,
          23
         ],
         "xaxis": "x",
         "y": [
          0.2321270962047661,
          0.000441306266548985,
          0.001323918799646955,
          3.744483671668138,
          14.564872021182701,
          27.96160635481024,
          12.225948808473081,
          6.660194174757281,
          5.030008826125331,
          4.688437775816417,
          4.448367166813768,
          3.5335392762577227,
          2.8993821712268315,
          3.6235657546337157,
          4.031774051191527,
          5.120917917034422,
          3.261253309796999,
          1.8729037952338923,
          1.5220653133274493,
          1.2709620476610768,
          0.6306266548984996
         ],
         "yaxis": "y"
        },
        {
         "hovertemplate": "Cluster=1<br>origin=Sanmin_Senior_High_School<br>Hour=%{x}<br>Passengers Count=%{y}<extra></extra>",
         "legendgroup": "1",
         "line": {
          "color": "#636efa",
          "dash": "solid"
         },
         "marker": {
          "symbol": "circle"
         },
         "mode": "lines",
         "name": "1",
         "showlegend": false,
         "type": "scattergl",
         "x": [
          0,
          1,
          5,
          6,
          7,
          8,
          9,
          10,
          11,
          12,
          13,
          14,
          15,
          16,
          17,
          18,
          19,
          20,
          21,
          22,
          23
         ],
         "xaxis": "x",
         "y": [
          0.21579876434245365,
          0,
          0,
          3.285083848190644,
          14.073256840247131,
          26.353486319505738,
          11.243159752868491,
          6.441747572815534,
          4.681376875551633,
          4.484554280670785,
          4.198587819947043,
          3.520300088261253,
          2.6637246248896735,
          4.223300970873787,
          4.48720211827008,
          4.2219770520741395,
          2.4986760812003532,
          1.533097969991174,
          1.4730803177405118,
          1.505736981465137,
          0.6041482789055604
         ],
         "yaxis": "y"
        },
        {
         "hovertemplate": "Cluster=1<br>origin=St.lgnatius_High_School<br>Hour=%{x}<br>Passengers Count=%{y}<extra></extra>",
         "legendgroup": "1",
         "line": {
          "color": "#636efa",
          "dash": "solid"
         },
         "marker": {
          "symbol": "circle"
         },
         "mode": "lines",
         "name": "1",
         "showlegend": false,
         "type": "scattergl",
         "x": [
          0,
          1,
          5,
          6,
          7,
          8,
          9,
          10,
          11,
          12,
          13,
          14,
          15,
          16,
          17,
          18,
          19,
          20,
          21,
          22,
          23
         ],
         "xaxis": "x",
         "y": [
          0.23918799646954986,
          0,
          0.000441306266548985,
          2.552956751985878,
          13.035745807590468,
          26.84289496910856,
          11.941747572815533,
          6.437775816416593,
          4.804942630185349,
          4.528243601059135,
          4.663283318623124,
          3.8729037952338925,
          3.2144748455428065,
          3.0507502206531334,
          4.159752868490733,
          4.683142100617829,
          3.110767872903795,
          2.030891438658429,
          2.052956751985878,
          1.6796116504854368,
          0.6888790820829656
         ],
         "yaxis": "y"
        },
        {
         "hovertemplate": "Cluster=1<br>origin=Taipei_Bridge<br>Hour=%{x}<br>Passengers Count=%{y}<extra></extra>",
         "legendgroup": "1",
         "line": {
          "color": "#636efa",
          "dash": "solid"
         },
         "marker": {
          "symbol": "circle"
         },
         "mode": "lines",
         "name": "1",
         "showlegend": false,
         "type": "scattergl",
         "x": [
          0,
          1,
          5,
          6,
          7,
          8,
          9,
          10,
          11,
          12,
          13,
          14,
          15,
          16,
          17,
          18,
          19,
          20,
          21,
          22,
          23
         ],
         "xaxis": "x",
         "y": [
          0.704766107678729,
          0.03442188879082083,
          0.00264783759929391,
          2.2016769638128864,
          8.633274492497794,
          16.86054721977052,
          8.169902912621358,
          4.742277140335393,
          3.822594880847308,
          3.6081200353045015,
          3.9232127096204765,
          3.350838481906443,
          3.2228596646072374,
          3.232568402471315,
          4.154457193292145,
          4.851721094439541,
          3.784642541924095,
          3.2131509267431597,
          3.212268314210062,
          2.6575463371579877,
          1.3654015887025597
         ],
         "yaxis": "y"
        },
        {
         "hovertemplate": "Cluster=1<br>origin=Taipei_Nangang_Exhibition_Center<br>Hour=%{x}<br>Passengers Count=%{y}<extra></extra>",
         "legendgroup": "1",
         "line": {
          "color": "#636efa",
          "dash": "solid"
         },
         "marker": {
          "symbol": "circle"
         },
         "mode": "lines",
         "name": "1",
         "showlegend": false,
         "type": "scattergl",
         "x": [
          0,
          1,
          5,
          6,
          7,
          8,
          9,
          10,
          11,
          12,
          13,
          14,
          15,
          16,
          17,
          18,
          19,
          20,
          21,
          22,
          23
         ],
         "xaxis": "x",
         "y": [
          0.4624889673433363,
          0.003089143865842895,
          0.00264783759929391,
          5.235657546337158,
          21.9126213592233,
          34.8702559576346,
          18.667255075022066,
          10.978817299205648,
          9.946601941747574,
          10.409532215357459,
          10.731244483671668,
          9.830979699911738,
          10.647396293027361,
          13.83892321270962,
          26.884819064430715,
          49.49691085613416,
          27.527360988526038,
          9.836275375110327,
          5.838040600176522,
          3.5763459841129746,
          1.6001765225066196
         ],
         "yaxis": "y"
        },
        {
         "hovertemplate": "Cluster=1<br>origin=Tamsui<br>Hour=%{x}<br>Passengers Count=%{y}<extra></extra>",
         "legendgroup": "1",
         "line": {
          "color": "#636efa",
          "dash": "solid"
         },
         "marker": {
          "symbol": "circle"
         },
         "mode": "lines",
         "name": "1",
         "showlegend": false,
         "type": "scattergl",
         "x": [
          0,
          1,
          5,
          6,
          7,
          8,
          9,
          10,
          11,
          12,
          13,
          14,
          15,
          16,
          17,
          18,
          19,
          20,
          21,
          22,
          23
         ],
         "xaxis": "x",
         "y": [
          0.8958517210944396,
          0.026037069726390114,
          0.005736981465136805,
          8.106796116504855,
          32.056045895851724,
          47.56619593998235,
          25.341571050308914,
          16.054721977052075,
          13.776699029126213,
          13.052074139452781,
          14.206090026478376,
          14.210503089143867,
          15.641659311562224,
          17.606354810238305,
          20.052956751985878,
          19.718005295675198,
          15.147396293027361,
          12.442188879082083,
          9.66107678729038,
          6.098852603706972,
          2.795233892321271
         ],
         "yaxis": "y"
        },
        {
         "hovertemplate": "Cluster=1<br>origin=Touqianzhuang<br>Hour=%{x}<br>Passengers Count=%{y}<extra></extra>",
         "legendgroup": "1",
         "line": {
          "color": "#636efa",
          "dash": "solid"
         },
         "marker": {
          "symbol": "circle"
         },
         "mode": "lines",
         "name": "1",
         "showlegend": false,
         "type": "scattergl",
         "x": [
          0,
          1,
          5,
          6,
          7,
          8,
          9,
          10,
          11,
          12,
          13,
          14,
          15,
          16,
          17,
          18,
          19,
          20,
          21,
          22,
          23
         ],
         "xaxis": "x",
         "y": [
          0.1553398058252427,
          0.003089143865842895,
          0,
          0.7241835834068844,
          4.635922330097087,
          9.470873786407767,
          3.9276257722859667,
          2.0136804942630184,
          1.7166813768755516,
          1.6257722859664607,
          1.6535745807590467,
          1.4179170344218888,
          1.5061782877316858,
          1.7096204766107679,
          3.176963812886143,
          4.304060017652251,
          2.326566637246249,
          1.3142100617828774,
          1.1699029126213591,
          0.9585172109443955,
          0.3715798764342454
         ],
         "yaxis": "y"
        },
        {
         "hovertemplate": "Cluster=1<br>origin=Tucheng<br>Hour=%{x}<br>Passengers Count=%{y}<extra></extra>",
         "legendgroup": "1",
         "line": {
          "color": "#636efa",
          "dash": "solid"
         },
         "marker": {
          "symbol": "circle"
         },
         "mode": "lines",
         "name": "1",
         "showlegend": false,
         "type": "scattergl",
         "x": [
          0,
          1,
          5,
          6,
          7,
          8,
          9,
          10,
          11,
          12,
          13,
          14,
          15,
          16,
          17,
          18,
          19,
          20,
          21,
          22,
          23
         ],
         "xaxis": "x",
         "y": [
          0.1526919682259488,
          0.005736981465136805,
          0.001323918799646955,
          1.8662842012356575,
          8.540600176522506,
          15.70432480141218,
          7.339805825242719,
          4.307590467784642,
          3.5485436893203883,
          3.1650485436893203,
          3.1306266548984993,
          2.4779346866725507,
          2.206090026478376,
          2.5675198587819947,
          3.5463371579876433,
          3.93027360988526,
          2.26081200353045,
          1.3746690203000882,
          1.2784642541924096,
          0.9214474845542807,
          0.4007060900264784
         ],
         "yaxis": "y"
        },
        {
         "hovertemplate": "Cluster=1<br>origin=Wanfang_Community<br>Hour=%{x}<br>Passengers Count=%{y}<extra></extra>",
         "legendgroup": "1",
         "line": {
          "color": "#636efa",
          "dash": "solid"
         },
         "marker": {
          "symbol": "circle"
         },
         "mode": "lines",
         "name": "1",
         "showlegend": false,
         "type": "scattergl",
         "x": [
          0,
          1,
          5,
          6,
          7,
          8,
          9,
          10,
          11,
          12,
          13,
          14,
          15,
          16,
          17,
          18,
          19,
          20,
          21,
          22,
          23
         ],
         "xaxis": "x",
         "y": [
          0.05648720211827008,
          0.000441306266548985,
          0.000441306266548985,
          0.4170344218887908,
          2.9051191526919684,
          6.865842894969108,
          2.7546337157987644,
          1.352603706972639,
          1.1319505736981466,
          0.910414827890556,
          1.0211827007943513,
          0.8984995586937334,
          0.8097969991173875,
          0.8411297440423654,
          1.1924095322153574,
          1.4320388349514563,
          0.7180052956751986,
          0.35216240070609,
          0.294351279788173,
          0.23036187113857018,
          0.09002647837599294
         ],
         "yaxis": "y"
        },
        {
         "hovertemplate": "Cluster=1<br>origin=Wanfang_Hospital<br>Hour=%{x}<br>Passengers Count=%{y}<extra></extra>",
         "legendgroup": "1",
         "line": {
          "color": "#636efa",
          "dash": "solid"
         },
         "marker": {
          "symbol": "circle"
         },
         "mode": "lines",
         "name": "1",
         "showlegend": false,
         "type": "scattergl",
         "x": [
          0,
          1,
          5,
          6,
          7,
          8,
          9,
          10,
          11,
          12,
          13,
          14,
          15,
          16,
          17,
          18,
          19,
          20,
          21,
          22,
          23
         ],
         "xaxis": "x",
         "y": [
          0.18005295675198588,
          0,
          0.001323918799646955,
          1.620917917034422,
          8.400706090026478,
          20.272285966460725,
          10.028684907325683,
          5.835834068843778,
          5.619593998234775,
          5.620476610767873,
          5.185789938217122,
          4.309355692850838,
          4.000441306266549,
          6.533539276257723,
          7.277581641659312,
          7.716240070609003,
          4.2727272727272725,
          2.7016769638128864,
          2.3561341571050307,
          1.4841129744042365,
          0.528243601059135
         ],
         "yaxis": "y"
        },
        {
         "hovertemplate": "Cluster=1<br>origin=Wanlong<br>Hour=%{x}<br>Passengers Count=%{y}<extra></extra>",
         "legendgroup": "1",
         "line": {
          "color": "#636efa",
          "dash": "solid"
         },
         "marker": {
          "symbol": "circle"
         },
         "mode": "lines",
         "name": "1",
         "showlegend": false,
         "type": "scattergl",
         "x": [
          0,
          1,
          5,
          6,
          7,
          8,
          9,
          10,
          11,
          12,
          13,
          14,
          15,
          16,
          17,
          18,
          19,
          20,
          21,
          22,
          23
         ],
         "xaxis": "x",
         "y": [
          0.25198587819947044,
          0.003089143865842895,
          0.000441306266548985,
          2.255957634598411,
          9.398940864960283,
          17.450573698146513,
          8.809796999117388,
          4.8702559576345985,
          4.423654015887026,
          3.863195057369815,
          4.097528684907326,
          3.4788172992056485,
          2.9955869373345103,
          3.357016769638129,
          4.710503089143866,
          5.740511915269197,
          3.616063548102383,
          2.2285966460723743,
          1.8923212709620476,
          1.4382171226831422,
          0.6257722859664607
         ],
         "yaxis": "y"
        },
        {
         "hovertemplate": "Cluster=1<br>origin=Wende<br>Hour=%{x}<br>Passengers Count=%{y}<extra></extra>",
         "legendgroup": "1",
         "line": {
          "color": "#636efa",
          "dash": "solid"
         },
         "marker": {
          "symbol": "circle"
         },
         "mode": "lines",
         "name": "1",
         "showlegend": false,
         "type": "scattergl",
         "x": [
          0,
          1,
          5,
          6,
          7,
          8,
          9,
          10,
          11,
          12,
          13,
          14,
          15,
          16,
          17,
          18,
          19,
          20,
          21,
          22,
          23
         ],
         "xaxis": "x",
         "y": [
          0.11429832303618712,
          0.000441306266548985,
          0,
          0.707855251544572,
          3.8640776699029127,
          8.403795233892321,
          4.432921447484555,
          2.1853486319505735,
          2.3300970873786406,
          2.207413945278023,
          2.0220653133274493,
          1.59135039717564,
          1.5251544571932922,
          4.677846425419241,
          6.009708737864078,
          4.841571050308914,
          2.8627537511032655,
          1.5516328331862312,
          1.3587819947043247,
          0.8203883495145631,
          0.30803177405119153
         ],
         "yaxis": "y"
        },
        {
         "hovertemplate": "Cluster=1<br>origin=Xindian<br>Hour=%{x}<br>Passengers Count=%{y}<extra></extra>",
         "legendgroup": "1",
         "line": {
          "color": "#636efa",
          "dash": "solid"
         },
         "marker": {
          "symbol": "circle"
         },
         "mode": "lines",
         "name": "1",
         "showlegend": false,
         "type": "scattergl",
         "x": [
          0,
          1,
          5,
          6,
          7,
          8,
          9,
          10,
          11,
          12,
          13,
          14,
          15,
          16,
          17,
          18,
          19,
          20,
          21,
          22,
          23
         ],
         "xaxis": "x",
         "y": [
          0.14916151809355693,
          0.00176522506619594,
          0.00617828773168579,
          2.5132391879964695,
          12.329214474845543,
          21.56001765225066,
          10.624889673433362,
          5.837599293909974,
          5.5375110326566634,
          4.753309796999117,
          4.977052074139452,
          4.3045013239187995,
          4.038834951456311,
          4.761694616063548,
          6.5472197705207416,
          5.579435127978817,
          3.6557811120917916,
          2.444395410414828,
          2.0251544571932922,
          1.296116504854369,
          0.6443071491615181
         ],
         "yaxis": "y"
        },
        {
         "hovertemplate": "Cluster=1<br>origin=Xindian_District_Office<br>Hour=%{x}<br>Passengers Count=%{y}<extra></extra>",
         "legendgroup": "1",
         "line": {
          "color": "#636efa",
          "dash": "solid"
         },
         "marker": {
          "symbol": "circle"
         },
         "mode": "lines",
         "name": "1",
         "showlegend": false,
         "type": "scattergl",
         "x": [
          0,
          1,
          5,
          6,
          7,
          8,
          9,
          10,
          11,
          12,
          13,
          14,
          15,
          16,
          17,
          18,
          19,
          20,
          21,
          22,
          23
         ],
         "xaxis": "x",
         "y": [
          0.18932038834951456,
          0.00176522506619594,
          0.00529567519858782,
          1.93909973521624,
          10.998676081200353,
          21.240070609002647,
          11.167696381288614,
          6.10414827890556,
          5.77846425419241,
          4.996469549867608,
          4.932038834951456,
          4.239629302736099,
          3.709620476610768,
          4.053398058252427,
          5.869373345101501,
          7.187555163283319,
          4.2749338040600176,
          2.3671668137687556,
          1.8601059135039717,
          1.4011473962930274,
          0.559135039717564
         ],
         "yaxis": "y"
        },
        {
         "hovertemplate": "Cluster=1<br>origin=Xingfu<br>Hour=%{x}<br>Passengers Count=%{y}<extra></extra>",
         "legendgroup": "1",
         "line": {
          "color": "#636efa",
          "dash": "solid"
         },
         "marker": {
          "symbol": "circle"
         },
         "mode": "lines",
         "name": "1",
         "showlegend": false,
         "type": "scattergl",
         "x": [
          0,
          1,
          5,
          6,
          7,
          8,
          9,
          10,
          11,
          12,
          13,
          14,
          15,
          16,
          17,
          18,
          19,
          20,
          21,
          22,
          23
         ],
         "xaxis": "x",
         "y": [
          0.07016769638128861,
          0,
          0,
          0.2833186231244484,
          2.298764342453663,
          4.811120917917035,
          1.8733451015004412,
          0.8583406884377758,
          0.6835834068843778,
          0.6001765225066196,
          0.7007943512797882,
          0.5507502206531333,
          0.5458958517210944,
          0.5441306266548985,
          0.9876434245366285,
          1.264783759929391,
          0.8671668137687555,
          0.5176522506619594,
          0.4474845542806708,
          0.4267431597528685,
          0.1968225948808473
         ],
         "yaxis": "y"
        },
        {
         "hovertemplate": "Cluster=1<br>origin=Xinhai<br>Hour=%{x}<br>Passengers Count=%{y}<extra></extra>",
         "legendgroup": "1",
         "line": {
          "color": "#636efa",
          "dash": "solid"
         },
         "marker": {
          "symbol": "circle"
         },
         "mode": "lines",
         "name": "1",
         "showlegend": false,
         "type": "scattergl",
         "x": [
          0,
          1,
          5,
          6,
          7,
          8,
          9,
          10,
          11,
          12,
          13,
          14,
          15,
          16,
          17,
          18,
          19,
          20,
          21,
          22,
          23
         ],
         "xaxis": "x",
         "y": [
          0.06310679611650485,
          0.00264783759929391,
          0.00088261253309797,
          0.8075904677846425,
          3.4695498676081202,
          8.580759046778464,
          3.9924977934686674,
          1.8923212709620476,
          1.5794351279788172,
          1.3570167696381288,
          1.4007060900264783,
          1.0723742277140336,
          0.9152691968225949,
          1.0560458958517212,
          1.6345984112974403,
          1.5992939099735217,
          0.9536628420123566,
          0.5856134157105031,
          0.4329214474845543,
          0.31023830538393643,
          0.11562224183583407
         ],
         "yaxis": "y"
        },
        {
         "hovertemplate": "Cluster=1<br>origin=Xinpu<br>Hour=%{x}<br>Passengers Count=%{y}<extra></extra>",
         "legendgroup": "1",
         "line": {
          "color": "#636efa",
          "dash": "solid"
         },
         "marker": {
          "symbol": "circle"
         },
         "mode": "lines",
         "name": "1",
         "showlegend": false,
         "type": "scattergl",
         "x": [
          0,
          1,
          5,
          6,
          7,
          8,
          9,
          10,
          11,
          12,
          13,
          14,
          15,
          16,
          17,
          18,
          19,
          20,
          21,
          22,
          23
         ],
         "xaxis": "x",
         "y": [
          0.7118270079435128,
          0.02559576345984113,
          0.005736981465136805,
          7.879523389232127,
          35.96381288614298,
          73.08517210944396,
          34.9991173874669,
          18.958958517210945,
          15.00838481906443,
          14.330097087378642,
          15.079435127978817,
          12.576787290379523,
          11.004854368932039,
          11.236540158870255,
          15.149161518093557,
          19.216240070609004,
          13.30891438658429,
          8.587378640776699,
          7.901147396293028,
          5.598411297440424,
          2.266990291262136
         ],
         "yaxis": "y"
        },
        {
         "hovertemplate": "Cluster=1<br>origin=Xinzhuang<br>Hour=%{x}<br>Passengers Count=%{y}<extra></extra>",
         "legendgroup": "1",
         "line": {
          "color": "#636efa",
          "dash": "solid"
         },
         "marker": {
          "symbol": "circle"
         },
         "mode": "lines",
         "name": "1",
         "showlegend": false,
         "type": "scattergl",
         "x": [
          0,
          1,
          5,
          6,
          7,
          8,
          9,
          10,
          11,
          12,
          13,
          14,
          15,
          16,
          17,
          18,
          19,
          20,
          21,
          22,
          23
         ],
         "xaxis": "x",
         "y": [
          0.5185348631950574,
          0.00617828773168579,
          0,
          1.9227714033539276,
          11.888349514563107,
          22.759046778464253,
          9.249338040600177,
          4.255957634598412,
          3.6888790820829658,
          3.3009708737864076,
          3.3636363636363638,
          2.727272727272727,
          2.436010591350397,
          3.200353045013239,
          4.20873786407767,
          5.194174757281553,
          2.7338923212709623,
          2.7983230361871136,
          2.2197705207413945,
          2.7842012356575463,
          1.5476610767872905
         ],
         "yaxis": "y"
        },
        {
         "hovertemplate": "Cluster=1<br>origin=Xiulang_Bridge<br>Hour=%{x}<br>Passengers Count=%{y}<extra></extra>",
         "legendgroup": "1",
         "line": {
          "color": "#636efa",
          "dash": "solid"
         },
         "marker": {
          "symbol": "circle"
         },
         "mode": "lines",
         "name": "1",
         "showlegend": false,
         "type": "scattergl",
         "x": [
          0,
          1,
          5,
          6,
          7,
          8,
          9,
          10,
          11,
          12,
          13,
          14,
          15,
          16,
          17,
          18,
          19,
          20,
          21,
          22,
          23
         ],
         "xaxis": "x",
         "y": [
          0.02912621359223301,
          0.00088261253309797,
          0,
          0.26037069726390116,
          1.293027360988526,
          2.995145631067961,
          1.3733451015004412,
          0.6584289496910856,
          0.5648720211827007,
          0.49735216240070607,
          0.5644307149161518,
          0.4276257722859665,
          0.39055604589585174,
          0.3614298323036187,
          0.528243601059135,
          0.5481023830538394,
          0.3879082082965578,
          0.17917034421888792,
          0.17563989408649602,
          0.1204766107678729,
          0.0706090026478376
         ],
         "yaxis": "y"
        },
        {
         "hovertemplate": "Cluster=1<br>origin=Yongan_Market<br>Hour=%{x}<br>Passengers Count=%{y}<extra></extra>",
         "legendgroup": "1",
         "line": {
          "color": "#636efa",
          "dash": "solid"
         },
         "marker": {
          "symbol": "circle"
         },
         "mode": "lines",
         "name": "1",
         "showlegend": false,
         "type": "scattergl",
         "x": [
          0,
          1,
          5,
          6,
          7,
          8,
          9,
          10,
          11,
          12,
          13,
          14,
          15,
          16,
          17,
          18,
          19,
          20,
          21,
          22,
          23
         ],
         "xaxis": "x",
         "y": [
          0.4836716681376876,
          0.003971756398940865,
          0.001323918799646955,
          5.388790820829656,
          22.685789938217123,
          51.034421888790824,
          25.64342453662842,
          13.002647837599294,
          10.241835834068844,
          9.30008826125331,
          9.885260370697264,
          8.054721977052074,
          6.657987643424536,
          6.578111209179171,
          9.236981465136806,
          10.772727272727273,
          7.006178287731686,
          4.782877316857899,
          4.612974404236541,
          3.1954986760812005,
          1.4466019417475728
         ],
         "yaxis": "y"
        },
        {
         "hovertemplate": "Cluster=1<br>origin=Yongning<br>Hour=%{x}<br>Passengers Count=%{y}<extra></extra>",
         "legendgroup": "1",
         "line": {
          "color": "#636efa",
          "dash": "solid"
         },
         "marker": {
          "symbol": "circle"
         },
         "mode": "lines",
         "name": "1",
         "showlegend": false,
         "type": "scattergl",
         "x": [
          0,
          1,
          5,
          6,
          7,
          8,
          9,
          10,
          11,
          12,
          13,
          14,
          15,
          16,
          17,
          18,
          19,
          20,
          21,
          22,
          23
         ],
         "xaxis": "x",
         "y": [
          0.19638128861429832,
          0.002206531332744925,
          0.000441306266548985,
          2.445278022947926,
          12.423212709620477,
          19.789496910856133,
          11.627537511032656,
          6.920123565754634,
          5.518093556928508,
          4.6244483671668135,
          4.541482789055604,
          3.738305383936452,
          3.354368932038835,
          4.190644307149162,
          6.867166813768756,
          8.718446601941748,
          4.858340688437776,
          2.468225948808473,
          1.8111209179170344,
          1.2877316857899381,
          0.7537511032656664
         ],
         "yaxis": "y"
        },
        {
         "hovertemplate": "Cluster=1<br>origin=Zhonghe<br>Hour=%{x}<br>Passengers Count=%{y}<extra></extra>",
         "legendgroup": "1",
         "line": {
          "color": "#636efa",
          "dash": "solid"
         },
         "marker": {
          "symbol": "circle"
         },
         "mode": "lines",
         "name": "1",
         "showlegend": false,
         "type": "scattergl",
         "x": [
          0,
          1,
          5,
          6,
          7,
          8,
          9,
          10,
          11,
          12,
          13,
          14,
          15,
          16,
          17,
          18,
          19,
          20,
          21,
          22,
          23
         ],
         "xaxis": "x",
         "y": [
          0.07281553398058252,
          0.001323918799646955,
          0,
          0.3155339805825243,
          1.795233892321271,
          3.3596646072374226,
          1.9629302736098853,
          0.9443954104148279,
          0.9060017652250661,
          0.942630185348632,
          1.0127978817299206,
          0.8442188879082083,
          0.7744924977934686,
          0.8014121800529568,
          1.1888790820829656,
          2.0736981465136806,
          1.321270962047661,
          0.7021182700794352,
          0.6504854368932039,
          0.618270079435128,
          0.2793468667255075
         ],
         "yaxis": "y"
        },
        {
         "hovertemplate": "Cluster=1<br>origin=Zhuwei<br>Hour=%{x}<br>Passengers Count=%{y}<extra></extra>",
         "legendgroup": "1",
         "line": {
          "color": "#636efa",
          "dash": "solid"
         },
         "marker": {
          "symbol": "circle"
         },
         "mode": "lines",
         "name": "1",
         "showlegend": false,
         "type": "scattergl",
         "x": [
          0,
          1,
          5,
          6,
          7,
          8,
          9,
          10,
          11,
          12,
          13,
          14,
          15,
          16,
          17,
          18,
          19,
          20,
          21,
          22,
          23
         ],
         "xaxis": "x",
         "y": [
          0.24580759046778464,
          0.02471315092674316,
          0.00176522506619594,
          2.50882612533098,
          9.576787290379523,
          12.721535745807591,
          7.168137687555164,
          4.714033539276258,
          4.577228596646072,
          4.410414827890556,
          4.385701676963813,
          3.7740511915269197,
          3.556928508384819,
          4.03045013239188,
          5.586054721977052,
          5.500441306266549,
          3.7802294792586055,
          2.517652250661959,
          2.0132391879964695,
          1.2749338040600176,
          0.5939982347749339
         ],
         "yaxis": "y"
        },
        {
         "hovertemplate": "Cluster=2<br>origin=Beimen<br>Hour=%{x}<br>Passengers Count=%{y}<extra></extra>",
         "legendgroup": "2",
         "line": {
          "color": "#EF553B",
          "dash": "solid"
         },
         "marker": {
          "symbol": "circle"
         },
         "mode": "lines",
         "name": "2",
         "showlegend": true,
         "type": "scattergl",
         "x": [
          0,
          1,
          5,
          6,
          7,
          8,
          9,
          10,
          11,
          12,
          13,
          14,
          15,
          16,
          17,
          18,
          19,
          20,
          21,
          22,
          23
         ],
         "xaxis": "x2",
         "y": [
          0.9015887025595763,
          0.041924095322153576,
          0.000441306266548985,
          0.9324801412180053,
          6.094880847308032,
          12.280229479258605,
          6.179170344218888,
          3.991615180935569,
          4.49558693733451,
          5.001323918799647,
          5.251103265666372,
          5.319064430714916,
          5.7219770520741395,
          6.762577228596646,
          11.393203883495145,
          16.654457193292146,
          10.228596646072374,
          5.806266548984995,
          4.40026478375993,
          3.346425419240953,
          1.645631067961165
         ],
         "yaxis": "y2"
        },
        {
         "hovertemplate": "Cluster=2<br>origin=Chiang_Kai-Shek_Memorial_Hall<br>Hour=%{x}<br>Passengers Count=%{y}<extra></extra>",
         "legendgroup": "2",
         "line": {
          "color": "#EF553B",
          "dash": "solid"
         },
         "marker": {
          "symbol": "circle"
         },
         "mode": "lines",
         "name": "2",
         "showlegend": false,
         "type": "scattergl",
         "x": [
          0,
          1,
          5,
          6,
          7,
          8,
          9,
          10,
          11,
          12,
          13,
          14,
          15,
          16,
          17,
          18,
          19,
          20,
          21,
          22,
          23
         ],
         "xaxis": "x2",
         "y": [
          0.8486319505736981,
          0.02912621359223301,
          0.00176522506619594,
          1.56090026478376,
          6.501323918799647,
          12.87378640776699,
          8.105913503971756,
          6.959399823477494,
          9.212268314210062,
          12.301412180052957,
          10.542365401588702,
          10.003089143865843,
          10.687555163283319,
          17.42188879082083,
          33.84819064430715,
          32.14916151809356,
          15.767872903795235,
          9.609443954104147,
          10.765666372462489,
          9.148720211827008,
          2.639894086496028
         ],
         "yaxis": "y2"
        },
        {
         "hovertemplate": "Cluster=2<br>origin=Daan_Park<br>Hour=%{x}<br>Passengers Count=%{y}<extra></extra>",
         "legendgroup": "2",
         "line": {
          "color": "#EF553B",
          "dash": "solid"
         },
         "marker": {
          "symbol": "circle"
         },
         "mode": "lines",
         "name": "2",
         "showlegend": false,
         "type": "scattergl",
         "x": [
          0,
          1,
          5,
          6,
          7,
          8,
          9,
          10,
          11,
          12,
          13,
          14,
          15,
          16,
          17,
          18,
          19,
          20,
          21,
          22,
          23
         ],
         "xaxis": "x2",
         "y": [
          0.29832303618711387,
          0.011032656663724626,
          0.00176522506619594,
          0.7766990291262136,
          3.0225066195939982,
          5.8627537511032655,
          4.100617828773169,
          3.000441306266549,
          3.5776699029126213,
          4.1403353927625774,
          3.775816416593116,
          3.4245366284201237,
          3.5710503089143866,
          4.6562224183583405,
          7.997793468667255,
          10.279346866725508,
          5.428067078552515,
          3.494704324801412,
          3.462488967343336,
          2.417917034421889,
          0.8729037952338923
         ],
         "yaxis": "y2"
        },
        {
         "hovertemplate": "Cluster=2<br>origin=Dapinglin<br>Hour=%{x}<br>Passengers Count=%{y}<extra></extra>",
         "legendgroup": "2",
         "line": {
          "color": "#EF553B",
          "dash": "solid"
         },
         "marker": {
          "symbol": "circle"
         },
         "mode": "lines",
         "name": "2",
         "showlegend": false,
         "type": "scattergl",
         "x": [
          0,
          1,
          5,
          6,
          7,
          8,
          9,
          10,
          11,
          12,
          13,
          14,
          15,
          16,
          17,
          18,
          19,
          20,
          21,
          22,
          23
         ],
         "xaxis": "x2",
         "y": [
          0.47793468667255073,
          0.009708737864077669,
          0,
          3.1204766107678727,
          13.815092674315975,
          23.801853486319505,
          13.234333627537511,
          8.33053839364519,
          8.110326566637246,
          8.307590467784642,
          8.393645189761695,
          7.387025595763459,
          6.805825242718447,
          10.016769638128862,
          13.823918799646956,
          22.954545454545453,
          16.950573698146513,
          7.737864077669903,
          5.655781112091792,
          3.3627537511032655,
          1.3751103265666373
         ],
         "yaxis": "y2"
        },
        {
         "hovertemplate": "Cluster=2<br>origin=Dazhi<br>Hour=%{x}<br>Passengers Count=%{y}<extra></extra>",
         "legendgroup": "2",
         "line": {
          "color": "#EF553B",
          "dash": "solid"
         },
         "marker": {
          "symbol": "circle"
         },
         "mode": "lines",
         "name": "2",
         "showlegend": false,
         "type": "scattergl",
         "x": [
          0,
          1,
          5,
          6,
          7,
          8,
          9,
          10,
          11,
          12,
          13,
          14,
          15,
          16,
          17,
          18,
          19,
          20,
          21,
          22,
          23
         ],
         "xaxis": "x2",
         "y": [
          0.37511032656663723,
          0.011915269196822596,
          0,
          0.7480141218005296,
          4.0344218887908205,
          8.78729037952339,
          4.998234774933804,
          3.025595763459841,
          3.0648720211827007,
          3.8040600176522505,
          3.5123565754633717,
          3.180935569285084,
          3.3318623124448368,
          5.633715798764342,
          8.303618711385703,
          7.91306266548985,
          4.99558693733451,
          3.0538393645189763,
          3.056045895851721,
          2.496469549867608,
          0.9210061782877317
         ],
         "yaxis": "y2"
        },
        {
         "hovertemplate": "Cluster=2<br>origin=Dongmen<br>Hour=%{x}<br>Passengers Count=%{y}<extra></extra>",
         "legendgroup": "2",
         "line": {
          "color": "#EF553B",
          "dash": "solid"
         },
         "marker": {
          "symbol": "circle"
         },
         "mode": "lines",
         "name": "2",
         "showlegend": false,
         "type": "scattergl",
         "x": [
          0,
          1,
          5,
          6,
          7,
          8,
          9,
          10,
          11,
          12,
          13,
          14,
          15,
          16,
          17,
          18,
          19,
          20,
          21,
          22,
          23
         ],
         "xaxis": "x2",
         "y": [
          1.145631067961165,
          0.05825242718446602,
          0.00264783759929391,
          1.500441306266549,
          6.041482789055604,
          13.254192409532216,
          8.96910856134157,
          6.85216240070609,
          8.56972639011474,
          10.322594880847308,
          10.783759929390998,
          10.479258605472198,
          9.831862312444837,
          13.195057369814652,
          21.610326566637248,
          26.7828773168579,
          16.642541924095323,
          12.431597528684907,
          12.674757281553399,
          8.614298323036188,
          3.265666372462489
         ],
         "yaxis": "y2"
        },
        {
         "hovertemplate": "Cluster=2<br>origin=Fu_Jen_University<br>Hour=%{x}<br>Passengers Count=%{y}<extra></extra>",
         "legendgroup": "2",
         "line": {
          "color": "#EF553B",
          "dash": "solid"
         },
         "marker": {
          "symbol": "circle"
         },
         "mode": "lines",
         "name": "2",
         "showlegend": false,
         "type": "scattergl",
         "x": [
          0,
          1,
          5,
          6,
          7,
          8,
          9,
          10,
          11,
          12,
          13,
          14,
          15,
          16,
          17,
          18,
          19,
          20,
          21,
          22,
          23
         ],
         "xaxis": "x2",
         "y": [
          0.4324801412180053,
          0.00706090026478376,
          0.00088261253309797,
          1.3195057369814651,
          5.141218005295675,
          10.840688437775816,
          5.191968225948808,
          3.4435127978817297,
          3.322594880847308,
          4.503530450132392,
          4.509708737864078,
          3.641659311562224,
          4.458517210944396,
          6.0450132391879965,
          7.9761694616063545,
          8.36054721977052,
          4.302736098852604,
          2.921447484554281,
          2.9536628420123567,
          3.139452780229479,
          1.3437775816416593
         ],
         "yaxis": "y2"
        },
        {
         "hovertemplate": "Cluster=2<br>origin=Gongguan<br>Hour=%{x}<br>Passengers Count=%{y}<extra></extra>",
         "legendgroup": "2",
         "line": {
          "color": "#EF553B",
          "dash": "solid"
         },
         "marker": {
          "symbol": "circle"
         },
         "mode": "lines",
         "name": "2",
         "showlegend": false,
         "type": "scattergl",
         "x": [
          0,
          1,
          5,
          6,
          7,
          8,
          9,
          10,
          11,
          12,
          13,
          14,
          15,
          16,
          17,
          18,
          19,
          20,
          21,
          22,
          23
         ],
         "xaxis": "x2",
         "y": [
          2.001765225066196,
          0.06266548984995587,
          0.00088261253309797,
          2.5123565754633717,
          7.50441306266549,
          13.036187113857016,
          9.275816416593116,
          6.901147396293028,
          7.874669020300089,
          10.014563106796116,
          11.036628420123566,
          10.944836716681376,
          11.996910856134157,
          13.96072374227714,
          22.250661959399824,
          24.402471315092676,
          16.563548102383052,
          12.281994704324802,
          12.381729920564872,
          10.914386584289497,
          4.9655781112091795
         ],
         "yaxis": "y2"
        },
        {
         "hovertemplate": "Cluster=2<br>origin=Guandu<br>Hour=%{x}<br>Passengers Count=%{y}<extra></extra>",
         "legendgroup": "2",
         "line": {
          "color": "#EF553B",
          "dash": "solid"
         },
         "marker": {
          "symbol": "circle"
         },
         "mode": "lines",
         "name": "2",
         "showlegend": false,
         "type": "scattergl",
         "x": [
          0,
          1,
          5,
          6,
          7,
          8,
          9,
          10,
          11,
          12,
          13,
          14,
          15,
          16,
          17,
          18,
          19,
          20,
          21,
          22,
          23
         ],
         "xaxis": "x2",
         "y": [
          0.22859664607237423,
          0.011032656663724626,
          0.00088261253309797,
          2.262135922330097,
          7.403795233892321,
          9.409532215357459,
          5.665048543689321,
          4.893203883495145,
          5.233009708737864,
          5.793027360988526,
          5.196381288614298,
          4.74360105913504,
          5.511473962930274,
          7.307149161518094,
          9.520741394527802,
          15.691526919682259,
          13.49161518093557,
          5.71315092674316,
          3.5220653133274493,
          1.940423654015887,
          0.7480141218005296
         ],
         "yaxis": "y2"
        },
        {
         "hovertemplate": "Cluster=2<br>origin=Guting<br>Hour=%{x}<br>Passengers Count=%{y}<extra></extra>",
         "legendgroup": "2",
         "line": {
          "color": "#EF553B",
          "dash": "solid"
         },
         "marker": {
          "symbol": "circle"
         },
         "mode": "lines",
         "name": "2",
         "showlegend": false,
         "type": "scattergl",
         "x": [
          0,
          1,
          5,
          6,
          7,
          8,
          9,
          10,
          11,
          12,
          13,
          14,
          15,
          16,
          17,
          18,
          19,
          20,
          21,
          22,
          23
         ],
         "xaxis": "x2",
         "y": [
          1.3495145631067962,
          0.04942630185348632,
          0.00441306266548985,
          2.787731685789938,
          12.123565754633717,
          23.414386584289495,
          14.89143865842895,
          10.300970873786408,
          10.721535745807591,
          12.015445719329215,
          12.37422771403354,
          11.93865842894969,
          12.571491615180935,
          15.326566637246248,
          25.008384819064432,
          33.359223300970875,
          21.383053839364518,
          13.893645189761695,
          13.31774051191527,
          9.973521624007061,
          3.4642541924095323
         ],
         "yaxis": "y2"
        },
        {
         "hovertemplate": "Cluster=2<br>origin=Kunyang<br>Hour=%{x}<br>Passengers Count=%{y}<extra></extra>",
         "legendgroup": "2",
         "line": {
          "color": "#EF553B",
          "dash": "solid"
         },
         "marker": {
          "symbol": "circle"
         },
         "mode": "lines",
         "name": "2",
         "showlegend": false,
         "type": "scattergl",
         "x": [
          0,
          1,
          5,
          6,
          7,
          8,
          9,
          10,
          11,
          12,
          13,
          14,
          15,
          16,
          17,
          18,
          19,
          20,
          21,
          22,
          23
         ],
         "xaxis": "x2",
         "y": [
          0.34201235657546336,
          0.005736981465136805,
          0.000441306266548985,
          1.7268314210061784,
          6.259929390997352,
          10.670785525154457,
          6.810679611650485,
          4.8596646072374226,
          4.657105030891438,
          5.249338040600176,
          5.292586054721977,
          4.349514563106796,
          4.203883495145631,
          6.6054721977052075,
          12.723300970873787,
          22.81332744924978,
          12.76522506619594,
          4.942188879082083,
          3.0992939099735217,
          2.266990291262136,
          1.0450132391879965
         ],
         "yaxis": "y2"
        },
        {
         "hovertemplate": "Cluster=2<br>origin=Longshan_Temple<br>Hour=%{x}<br>Passengers Count=%{y}<extra></extra>",
         "legendgroup": "2",
         "line": {
          "color": "#EF553B",
          "dash": "solid"
         },
         "marker": {
          "symbol": "circle"
         },
         "mode": "lines",
         "name": "2",
         "showlegend": false,
         "type": "scattergl",
         "x": [
          0,
          1,
          5,
          6,
          7,
          8,
          9,
          10,
          11,
          12,
          13,
          14,
          15,
          16,
          17,
          18,
          19,
          20,
          21,
          22,
          23
         ],
         "xaxis": "x2",
         "y": [
          1.4536628420123565,
          0.04060017652250662,
          0.01323918799646955,
          5.424095322153574,
          16.906884377758164,
          25.284201235657548,
          17.633715798764342,
          13.467784642541924,
          13.250220653133274,
          13.418799646954987,
          13.194616063548102,
          11.443954104148279,
          10.735216240070608,
          13.76081200353045,
          18.059576345984112,
          18.73521624007061,
          13.019417475728156,
          9.072815533980583,
          8.835834068843777,
          6.172992056487202,
          3.1844660194174756
         ],
         "yaxis": "y2"
        },
        {
         "hovertemplate": "Cluster=2<br>origin=Mingde<br>Hour=%{x}<br>Passengers Count=%{y}<extra></extra>",
         "legendgroup": "2",
         "line": {
          "color": "#EF553B",
          "dash": "solid"
         },
         "marker": {
          "symbol": "circle"
         },
         "mode": "lines",
         "name": "2",
         "showlegend": false,
         "type": "scattergl",
         "x": [
          0,
          1,
          5,
          6,
          7,
          8,
          9,
          10,
          11,
          12,
          13,
          14,
          15,
          16,
          17,
          18,
          19,
          20,
          21,
          22,
          23
         ],
         "xaxis": "x2",
         "y": [
          0.2202118270079435,
          0.01147396293027361,
          0.01588702559576346,
          2.3296557811120917,
          9.11253309796999,
          15.781553398058252,
          10.115622241835833,
          6.951456310679611,
          6.658428949691086,
          6.22639011473963,
          5.624889673433363,
          5.01279788172992,
          5.2250661959399824,
          9.646513680494262,
          11.30803177405119,
          8.101059135039717,
          5.072374227714033,
          3.3062665489849956,
          2.593556928508385,
          1.466902030008826,
          0.5207413945278023
         ],
         "yaxis": "y2"
        },
        {
         "hovertemplate": "Cluster=2<br>origin=NTU_Hospital<br>Hour=%{x}<br>Passengers Count=%{y}<extra></extra>",
         "legendgroup": "2",
         "line": {
          "color": "#EF553B",
          "dash": "solid"
         },
         "marker": {
          "symbol": "circle"
         },
         "mode": "lines",
         "name": "2",
         "showlegend": false,
         "type": "scattergl",
         "x": [
          0,
          1,
          5,
          6,
          7,
          8,
          9,
          10,
          11,
          12,
          13,
          14,
          15,
          16,
          17,
          18,
          19,
          20,
          21,
          22,
          23
         ],
         "xaxis": "x2",
         "y": [
          0.9090909090909091,
          0.057811120917917035,
          0.00176522506619594,
          0.5335392762577229,
          2.214916151809356,
          3.8698146513680496,
          6.632391879964696,
          10.953221535745808,
          13.155781112091791,
          12.375551632833186,
          9.85613415710503,
          12.199029126213592,
          14.792586054721976,
          16.655339805825243,
          27.74757281553398,
          26.945719329214477,
          14.551191526919682,
          7.382171226831421,
          6.73918799646955,
          6.543248014121801,
          1.881288614298323
         ],
         "yaxis": "y2"
        },
        {
         "hovertemplate": "Cluster=2<br>origin=Nangang<br>Hour=%{x}<br>Passengers Count=%{y}<extra></extra>",
         "legendgroup": "2",
         "line": {
          "color": "#EF553B",
          "dash": "solid"
         },
         "marker": {
          "symbol": "circle"
         },
         "mode": "lines",
         "name": "2",
         "showlegend": false,
         "type": "scattergl",
         "x": [
          0,
          1,
          5,
          6,
          7,
          8,
          9,
          10,
          11,
          12,
          13,
          14,
          15,
          16,
          17,
          18,
          19,
          20,
          21,
          22,
          23
         ],
         "xaxis": "x2",
         "y": [
          0.6345984112974404,
          0.00617828773168579,
          0.00088261253309797,
          2.0723742277140333,
          12.698587819947043,
          25.29567519858782,
          14.24360105913504,
          8.984995586937334,
          7.433362753751103,
          7.689761694616063,
          9.322594880847308,
          7.653133274492498,
          7.497793468667255,
          10.560458958517211,
          15.301853486319505,
          20.230803177405118,
          14.485878199470433,
          8.658870255957634,
          7.107237422771403,
          5.276699029126213,
          2.3715798764342453
         ],
         "yaxis": "y2"
        },
        {
         "hovertemplate": "Cluster=2<br>origin=Shandao_Temple<br>Hour=%{x}<br>Passengers Count=%{y}<extra></extra>",
         "legendgroup": "2",
         "line": {
          "color": "#EF553B",
          "dash": "solid"
         },
         "marker": {
          "symbol": "circle"
         },
         "mode": "lines",
         "name": "2",
         "showlegend": false,
         "type": "scattergl",
         "x": [
          0,
          1,
          5,
          6,
          7,
          8,
          9,
          10,
          11,
          12,
          13,
          14,
          15,
          16,
          17,
          18,
          19,
          20,
          21,
          22,
          23
         ],
         "xaxis": "x2",
         "y": [
          0.8857016769638129,
          0.04236540158870256,
          0.003089143865842895,
          0.8349514563106796,
          3.410414827890556,
          6.264342453662842,
          6.212709620476611,
          6.901147396293028,
          8.505736981465137,
          10.58693733451015,
          8.66063548102383,
          8.851721094439542,
          9.73477493380406,
          16.16548984995587,
          24.948367166813767,
          32.32347749338041,
          16.19020300088261,
          9.625330979699912,
          11.31774051191527,
          8.054721977052074,
          2.6932921447484555
         ],
         "yaxis": "y2"
        },
        {
         "hovertemplate": "Cluster=2<br>origin=Shilin<br>Hour=%{x}<br>Passengers Count=%{y}<extra></extra>",
         "legendgroup": "2",
         "line": {
          "color": "#EF553B",
          "dash": "solid"
         },
         "marker": {
          "symbol": "circle"
         },
         "mode": "lines",
         "name": "2",
         "showlegend": false,
         "type": "scattergl",
         "x": [
          0,
          1,
          5,
          6,
          7,
          8,
          9,
          10,
          11,
          12,
          13,
          14,
          15,
          16,
          17,
          18,
          19,
          20,
          21,
          22,
          23
         ],
         "xaxis": "x2",
         "y": [
          1.0229479258605472,
          0.03486319505736982,
          0.00706090026478376,
          3.157105030891439,
          11.940423654015888,
          19.479258605472197,
          11.864077669902912,
          9.292586054721976,
          10.0216240070609,
          11.243159752868491,
          12.527802294792586,
          11.872903795233892,
          12.753309796999117,
          17.045013239187995,
          24.244924977934687,
          24.10458958517211,
          15.5432480141218,
          11.231244483671668,
          10.571050308914387,
          7.739629302736099,
          2.761253309796999
         ],
         "yaxis": "y2"
        },
        {
         "hovertemplate": "Cluster=2<br>origin=Shipai<br>Hour=%{x}<br>Passengers Count=%{y}<extra></extra>",
         "legendgroup": "2",
         "line": {
          "color": "#EF553B",
          "dash": "solid"
         },
         "marker": {
          "symbol": "circle"
         },
         "mode": "lines",
         "name": "2",
         "showlegend": false,
         "type": "scattergl",
         "x": [
          0,
          1,
          5,
          6,
          7,
          8,
          9,
          10,
          11,
          12,
          13,
          14,
          15,
          16,
          17,
          18,
          19,
          20,
          21,
          22,
          23
         ],
         "xaxis": "x2",
         "y": [
          0.8764342453662842,
          0.04280670785525154,
          0.02559576345984113,
          4.315975286849073,
          15.816416593115623,
          27.556928508384818,
          16.77360988526037,
          13.364077669902912,
          13.977052074139452,
          14.380847308031774,
          14.000882612533099,
          12.536628420123566,
          13.61738746690203,
          19.290820829655782,
          24.107237422771405,
          26.953662842012356,
          14.808473080317741,
          10.077669902912621,
          8.625330979699912,
          5.450132391879965,
          2.3640776699029127
         ],
         "yaxis": "y2"
        },
        {
         "hovertemplate": "Cluster=2<br>origin=Shisizhang<br>Hour=%{x}<br>Passengers Count=%{y}<extra></extra>",
         "legendgroup": "2",
         "line": {
          "color": "#EF553B",
          "dash": "solid"
         },
         "marker": {
          "symbol": "circle"
         },
         "mode": "lines",
         "name": "2",
         "showlegend": false,
         "type": "scattergl",
         "x": [
          0,
          1,
          5,
          6,
          7,
          8,
          9,
          10,
          11,
          12,
          13,
          14,
          15,
          16,
          17,
          18,
          19,
          20,
          21,
          22,
          23
         ],
         "xaxis": "x2",
         "y": [
          0.05163283318623124,
          0.001323918799646955,
          0,
          0.15489849955869373,
          1.4823477493380406,
          2.5692850838481904,
          1.236540158870256,
          0.7418358340688438,
          0.7899382171226832,
          0.8512797881729921,
          0.7828773168578994,
          0.76522506619594,
          0.8199470432480142,
          1.1571050308914386,
          1.943071491615181,
          1.7612533097969991,
          0.7228596646072374,
          0.39452780229479256,
          0.3137687555163283,
          0.2594880847308032,
          0.11871138570167697
         ],
         "yaxis": "y2"
        },
        {
         "hovertemplate": "Cluster=2<br>origin=Shuanglian<br>Hour=%{x}<br>Passengers Count=%{y}<extra></extra>",
         "legendgroup": "2",
         "line": {
          "color": "#EF553B",
          "dash": "solid"
         },
         "marker": {
          "symbol": "circle"
         },
         "mode": "lines",
         "name": "2",
         "showlegend": false,
         "type": "scattergl",
         "x": [
          0,
          1,
          5,
          6,
          7,
          8,
          9,
          10,
          11,
          12,
          13,
          14,
          15,
          16,
          17,
          18,
          19,
          20,
          21,
          22,
          23
         ],
         "xaxis": "x2",
         "y": [
          1.6447484554280671,
          0.08075904677846425,
          0.00088261253309797,
          1.6932921447484555,
          5.064430714916152,
          8.868049426301853,
          7.22153574580759,
          7.881288614298323,
          9.184907325684025,
          9.99558693733451,
          9.57811120917917,
          8.48720211827008,
          9.698146513680495,
          11.424977934686673,
          17.884819064430715,
          23.04368932038835,
          16.042806707855252,
          11.656222418358341,
          10.657105030891438,
          7.179611650485437,
          3.6849073256840246
         ],
         "yaxis": "y2"
        },
        {
         "hovertemplate": "Cluster=2<br>origin=Songshan_Airport<br>Hour=%{x}<br>Passengers Count=%{y}<extra></extra>",
         "legendgroup": "2",
         "line": {
          "color": "#EF553B",
          "dash": "solid"
         },
         "marker": {
          "symbol": "circle"
         },
         "mode": "lines",
         "name": "2",
         "showlegend": false,
         "type": "scattergl",
         "x": [
          0,
          1,
          5,
          6,
          7,
          8,
          9,
          10,
          11,
          12,
          13,
          14,
          15,
          16,
          17,
          18,
          19,
          20,
          21,
          22,
          23
         ],
         "xaxis": "x2",
         "y": [
          0.11518093556928509,
          0.00353045013239188,
          0,
          0.33671668137687555,
          1.8265666372462488,
          3.3662842012356577,
          2.1001765225066196,
          1.8914386584289498,
          2.950573698146514,
          2.6407766990291264,
          2.5388349514563107,
          3.0533980582524274,
          2.6262135922330097,
          2.9598411297440426,
          4.240511915269197,
          6.4210061782877315,
          4.344660194174757,
          1.9311562224183583,
          2.06090026478376,
          2.151809355692851,
          0.5842894969108562
         ],
         "yaxis": "y2"
        },
        {
         "hovertemplate": "Cluster=2<br>origin=Taipei_Main_Station<br>Hour=%{x}<br>Passengers Count=%{y}<extra></extra>",
         "legendgroup": "2",
         "line": {
          "color": "#EF553B",
          "dash": "solid"
         },
         "marker": {
          "symbol": "circle"
         },
         "mode": "lines",
         "name": "2",
         "showlegend": false,
         "type": "scattergl",
         "x": [
          0,
          1,
          5,
          6,
          7,
          8,
          9,
          10,
          11,
          12,
          13,
          14,
          15,
          16,
          17,
          18,
          19,
          20,
          21,
          22,
          23
         ],
         "xaxis": "x2",
         "y": [
          9.486319505736981,
          0.21668137687555164,
          0.008384819064430714,
          10.559135039717564,
          48.51191526919682,
          105.33539276257723,
          73.86054721977052,
          53.81818181818182,
          55.25728155339806,
          58.52471315092674,
          63.3261253309797,
          59.02471315092674,
          60.128861429832305,
          64.9585172109444,
          94.68534863195057,
          120.31244483671668,
          87.06972639011474,
          64.44439541041483,
          64.13592233009709,
          64.27537511032656,
          23.1306266548985
         ],
         "yaxis": "y2"
        },
        {
         "hovertemplate": "Cluster=2<br>origin=Taipei_Zoo<br>Hour=%{x}<br>Passengers Count=%{y}<extra></extra>",
         "legendgroup": "2",
         "line": {
          "color": "#EF553B",
          "dash": "solid"
         },
         "marker": {
          "symbol": "circle"
         },
         "mode": "lines",
         "name": "2",
         "showlegend": false,
         "type": "scattergl",
         "x": [
          0,
          1,
          5,
          6,
          7,
          8,
          9,
          10,
          11,
          12,
          13,
          14,
          15,
          16,
          17,
          18,
          19,
          20,
          21,
          22,
          23
         ],
         "xaxis": "x2",
         "y": [
          0.09796999117387467,
          0.000441306266548985,
          0,
          0.26963812886142985,
          2.8089143865842896,
          6.8755516328331865,
          2.7762577228596648,
          1.5083848190644307,
          1.8137687555163284,
          2.2753751103265665,
          2.820829655781112,
          3.3671668137687556,
          4.688437775816417,
          5.081641659311562,
          5.817740511915269,
          3.8954104148278907,
          1.6632833186231244,
          0.9752868490732568,
          0.7272727272727273,
          0.5719329214474845,
          0.24580759046778464
         ],
         "yaxis": "y2"
        },
        {
         "hovertemplate": "Cluster=2<br>origin=Taipower_Building<br>Hour=%{x}<br>Passengers Count=%{y}<extra></extra>",
         "legendgroup": "2",
         "line": {
          "color": "#EF553B",
          "dash": "solid"
         },
         "marker": {
          "symbol": "circle"
         },
         "mode": "lines",
         "name": "2",
         "showlegend": false,
         "type": "scattergl",
         "x": [
          0,
          1,
          5,
          6,
          7,
          8,
          9,
          10,
          11,
          12,
          13,
          14,
          15,
          16,
          17,
          18,
          19,
          20,
          21,
          22,
          23
         ],
         "xaxis": "x2",
         "y": [
          0.8839364518976169,
          0.016328331862312445,
          0.00088261253309797,
          1.6879964695498677,
          7.318181818181818,
          12.940864960282436,
          7.505295675198588,
          5.044130626654899,
          5.293909973521624,
          6.135922330097087,
          5.948367166813768,
          5.711385701676964,
          5.850838481906443,
          8.968225948808474,
          14.197263901147396,
          15.551191526919682,
          9.58252427184466,
          6.86098852603707,
          6.906443071491615,
          5.474404236540159,
          2.415269196822595
         ],
         "yaxis": "y2"
        },
        {
         "hovertemplate": "Cluster=2<br>origin=Technology_Building<br>Hour=%{x}<br>Passengers Count=%{y}<extra></extra>",
         "legendgroup": "2",
         "line": {
          "color": "#EF553B",
          "dash": "solid"
         },
         "marker": {
          "symbol": "circle"
         },
         "mode": "lines",
         "name": "2",
         "showlegend": false,
         "type": "scattergl",
         "x": [
          0,
          1,
          5,
          6,
          7,
          8,
          9,
          10,
          11,
          12,
          13,
          14,
          15,
          16,
          17,
          18,
          19,
          20,
          21,
          22,
          23
         ],
         "xaxis": "x2",
         "y": [
          0.6421006178287731,
          0.003971756398940865,
          0.000441306266548985,
          1.207413945278023,
          5.886584289496911,
          14.287731685789938,
          8.345101500441306,
          4.475286849073257,
          4.709620476610768,
          5.631067961165049,
          5.69991173874669,
          4.80847308031774,
          5.277140335392763,
          6.818623124448367,
          10.94307149161518,
          16.498234774933803,
          11.029567519858782,
          5.822153574580759,
          5.883495145631068,
          5.43027360988526,
          1.6266548984995588
         ],
         "yaxis": "y2"
        },
        {
         "hovertemplate": "Cluster=2<br>origin=Xiaobitan<br>Hour=%{x}<br>Passengers Count=%{y}<extra></extra>",
         "legendgroup": "2",
         "line": {
          "color": "#EF553B",
          "dash": "solid"
         },
         "marker": {
          "symbol": "circle"
         },
         "mode": "lines",
         "name": "2",
         "showlegend": false,
         "type": "scattergl",
         "x": [
          0,
          1,
          5,
          6,
          7,
          8,
          9,
          10,
          11,
          12,
          13,
          14,
          15,
          16,
          17,
          18,
          19,
          20,
          21,
          22,
          23
         ],
         "xaxis": "x2",
         "y": [
          0.05560458958517211,
          0.000441306266548985,
          0.000441306266548985,
          0.3172992056487202,
          2.1606354810238306,
          3.703442188879082,
          1.9863195057369816,
          1.084289496910856,
          1.3040600176522508,
          1.1888790820829656,
          1.4638128861429833,
          1.475286849073257,
          1.44351279788173,
          1.941306266548985,
          2.7078552515445717,
          2.0392762577228596,
          1.409532215357458,
          1.033539276257723,
          1.0573698146513681,
          0.8596646072374228,
          0.2290379523389232
         ],
         "yaxis": "y2"
        },
        {
         "hovertemplate": "Cluster=2<br>origin=Xiaonanmen<br>Hour=%{x}<br>Passengers Count=%{y}<extra></extra>",
         "legendgroup": "2",
         "line": {
          "color": "#EF553B",
          "dash": "solid"
         },
         "marker": {
          "symbol": "circle"
         },
         "mode": "lines",
         "name": "2",
         "showlegend": false,
         "type": "scattergl",
         "x": [
          0,
          1,
          5,
          6,
          7,
          8,
          9,
          10,
          11,
          12,
          13,
          14,
          15,
          16,
          17,
          18,
          19,
          20,
          21,
          22,
          23
         ],
         "xaxis": "x2",
         "y": [
          0.2996469549867608,
          0.011032656663724626,
          0,
          0.44527802294792584,
          2.680494263018535,
          5.893203883495145,
          3.4779346866725507,
          3.1381288614298324,
          4.1932921447484555,
          4.912621359223301,
          3.5745807590467784,
          3.3058252427184467,
          4.256840247131509,
          7.66946160635481,
          12.935569285083849,
          12.418799646954987,
          6.5375110326566634,
          3.375551632833186,
          3.0150044130626656,
          2.2400706090026477,
          0.6937334510150044
         ],
         "yaxis": "y2"
        },
        {
         "hovertemplate": "Cluster=2<br>origin=Xinbeitou<br>Hour=%{x}<br>Passengers Count=%{y}<extra></extra>",
         "legendgroup": "2",
         "line": {
          "color": "#EF553B",
          "dash": "solid"
         },
         "marker": {
          "symbol": "circle"
         },
         "mode": "lines",
         "name": "2",
         "showlegend": false,
         "type": "scattergl",
         "x": [
          0,
          1,
          5,
          6,
          7,
          8,
          9,
          10,
          11,
          12,
          13,
          14,
          15,
          16,
          17,
          18,
          19,
          20,
          21,
          22,
          23
         ],
         "xaxis": "x2",
         "y": [
          0.13857016769638128,
          0.00176522506619594,
          0,
          0.41041482789055606,
          2.323477493380406,
          3.680494263018535,
          2.2819947043248012,
          2.087378640776699,
          2.372021182700794,
          2.436010591350397,
          2.5714916151809355,
          2.4607237422771404,
          2.6937334510150044,
          4.1509267431597525,
          5.901588702559576,
          4.840688437775817,
          2.122683142100618,
          1.4832303618711387,
          2.232568402471315,
          1.1390114739629302,
          0.38658428949691087
         ],
         "yaxis": "y2"
        },
        {
         "hovertemplate": "Cluster=2<br>origin=Yongchun<br>Hour=%{x}<br>Passengers Count=%{y}<extra></extra>",
         "legendgroup": "2",
         "line": {
          "color": "#EF553B",
          "dash": "solid"
         },
         "marker": {
          "symbol": "circle"
         },
         "mode": "lines",
         "name": "2",
         "showlegend": false,
         "type": "scattergl",
         "x": [
          0,
          1,
          5,
          6,
          7,
          8,
          9,
          10,
          11,
          12,
          13,
          14,
          15,
          16,
          17,
          18,
          19,
          20,
          21,
          22,
          23
         ],
         "xaxis": "x2",
         "y": [
          0.705648720211827,
          0.02030008826125331,
          0.00264783759929391,
          2.4276257722859667,
          10.337599293909973,
          21.097528684907324,
          11.893203883495145,
          7.5450132391879965,
          7.714916151809356,
          7.529126213592233,
          8.093556928508384,
          7.028684907325684,
          6.715357458075904,
          11.992497793468667,
          16.307149161518094,
          19.37334510150044,
          13.01279788172992,
          7.832744924977935,
          6.564430714916152,
          4.443954104148279,
          1.9223300970873787
         ],
         "yaxis": "y2"
        },
        {
         "hovertemplate": "Cluster=2<br>origin=Yuanshan<br>Hour=%{x}<br>Passengers Count=%{y}<extra></extra>",
         "legendgroup": "2",
         "line": {
          "color": "#EF553B",
          "dash": "solid"
         },
         "marker": {
          "symbol": "circle"
         },
         "mode": "lines",
         "name": "2",
         "showlegend": false,
         "type": "scattergl",
         "x": [
          0,
          1,
          5,
          6,
          7,
          8,
          9,
          10,
          11,
          12,
          13,
          14,
          15,
          16,
          17,
          18,
          19,
          20,
          21,
          22,
          23
         ],
         "xaxis": "x2",
         "y": [
          1.0529567519858782,
          0.05692850838481906,
          0.009708737864077669,
          4.660194174757281,
          18.258164165931156,
          23.920123565754633,
          15.211827007943512,
          11.603265666372463,
          12.036187113857016,
          11.07811120917917,
          11.010591350397176,
          9.511915269196823,
          9.509267431597529,
          14.400706090026478,
          16.82656663724625,
          20.82171226831421,
          15.470432480141218,
          9.518976169461606,
          8.815975286849072,
          5.593115622241836,
          2.4664607237422773
         ],
         "yaxis": "y2"
        },
        {
         "hovertemplate": "Cluster=2<br>origin=Zhishan<br>Hour=%{x}<br>Passengers Count=%{y}<extra></extra>",
         "legendgroup": "2",
         "line": {
          "color": "#EF553B",
          "dash": "solid"
         },
         "marker": {
          "symbol": "circle"
         },
         "mode": "lines",
         "name": "2",
         "showlegend": false,
         "type": "scattergl",
         "x": [
          0,
          1,
          5,
          6,
          7,
          8,
          9,
          10,
          11,
          12,
          13,
          14,
          15,
          16,
          17,
          18,
          19,
          20,
          21,
          22,
          23
         ],
         "xaxis": "x2",
         "y": [
          0.766548984995587,
          0.026919682259488084,
          0.01323918799646955,
          3.450132391879965,
          13.331862312444837,
          26.323477493380405,
          13.906443071491616,
          8.260370697263902,
          7.498234774933804,
          7.886584289496911,
          9.07811120917917,
          8.610326566637246,
          8.40026478375993,
          10.293027360988527,
          18.13901147396293,
          22.35701676963813,
          14.34333627537511,
          9.632391879964695,
          9.142541924095323,
          7.887025595763459,
          2.436451897616946
         ],
         "yaxis": "y2"
        },
        {
         "hovertemplate": "Cluster=2<br>origin=Zhongyi<br>Hour=%{x}<br>Passengers Count=%{y}<extra></extra>",
         "legendgroup": "2",
         "line": {
          "color": "#EF553B",
          "dash": "solid"
         },
         "marker": {
          "symbol": "circle"
         },
         "mode": "lines",
         "name": "2",
         "showlegend": false,
         "type": "scattergl",
         "x": [
          0,
          1,
          5,
          6,
          7,
          8,
          9,
          10,
          11,
          12,
          13,
          14,
          15,
          16,
          17,
          18,
          19,
          20,
          21,
          22,
          23
         ],
         "xaxis": "x2",
         "y": [
          0.06575463371579876,
          0.00176522506619594,
          0.000441306266548985,
          0.5653133274492498,
          2.095322153574581,
          2.526919682259488,
          1.5269196822594882,
          1.2281553398058251,
          1.3627537511032657,
          1.355692850838482,
          1.32171226831421,
          1.1412180052956753,
          1.144307149161518,
          1.6518093556928508,
          2.798764342453663,
          4.0132391879964695,
          2.9307149161518096,
          1.406884377758164,
          0.70432480141218,
          0.37819947043248014,
          0.18181818181818182
         ],
         "yaxis": "y2"
        },
        {
         "hovertemplate": "Cluster=0<br>origin=Daan<br>Hour=%{x}<br>Passengers Count=%{y}<extra></extra>",
         "legendgroup": "0",
         "line": {
          "color": "#00cc96",
          "dash": "solid"
         },
         "marker": {
          "symbol": "circle"
         },
         "mode": "lines",
         "name": "0",
         "showlegend": true,
         "type": "scattergl",
         "x": [
          0,
          1,
          5,
          6,
          7,
          8,
          9,
          10,
          11,
          12,
          13,
          14,
          15,
          16,
          17,
          18,
          19,
          20,
          21,
          22,
          23
         ],
         "xaxis": "x3",
         "y": [
          1.1888790820829656,
          0.04280670785525154,
          0.00353045013239188,
          1.5163283318623124,
          5.794792586054722,
          12.750220653133274,
          8.732127096204765,
          6.559135039717564,
          6.971315092674316,
          8.596646072374227,
          8.458958517210945,
          7.779346866725508,
          8.11694616063548,
          20.38614298323036,
          27.86451897616946,
          33.30317740511915,
          20.458958517210945,
          12.000882612533099,
          12.142983230361871,
          9.115622241835833,
          3.1694616063548104
         ],
         "yaxis": "y3"
        },
        {
         "hovertemplate": "Cluster=0<br>origin=Gangqian<br>Hour=%{x}<br>Passengers Count=%{y}<extra></extra>",
         "legendgroup": "0",
         "line": {
          "color": "#00cc96",
          "dash": "solid"
         },
         "marker": {
          "symbol": "circle"
         },
         "mode": "lines",
         "name": "0",
         "showlegend": false,
         "type": "scattergl",
         "x": [
          0,
          1,
          5,
          6,
          7,
          8,
          9,
          10,
          11,
          12,
          13,
          14,
          15,
          16,
          17,
          18,
          19,
          20,
          21,
          22,
          23
         ],
         "xaxis": "x3",
         "y": [
          0.5653133274492498,
          0.03971756398940865,
          0.001323918799646955,
          0.9589585172109444,
          5.113415710503089,
          10.680935569285085,
          6.277140335392763,
          3.7400706090026477,
          3.997352162400706,
          4.737864077669903,
          4.505295675198588,
          3.797440423654016,
          3.6270962047661075,
          8.232568402471315,
          14.838040600176523,
          34.86760812003531,
          28.041482789055603,
          10.767872903795235,
          7.420123565754634,
          3.883053839364519,
          1.2705207413945279
         ],
         "yaxis": "y3"
        },
        {
         "hovertemplate": "Cluster=0<br>origin=Jiannan_Rd.<br>Hour=%{x}<br>Passengers Count=%{y}<extra></extra>",
         "legendgroup": "0",
         "line": {
          "color": "#00cc96",
          "dash": "solid"
         },
         "marker": {
          "symbol": "circle"
         },
         "mode": "lines",
         "name": "0",
         "showlegend": false,
         "type": "scattergl",
         "x": [
          0,
          1,
          5,
          6,
          7,
          8,
          9,
          10,
          11,
          12,
          13,
          14,
          15,
          16,
          17,
          18,
          19,
          20,
          21,
          22,
          23
         ],
         "xaxis": "x3",
         "y": [
          0.8574580759046778,
          0.029567519858781994,
          0.00088261253309797,
          0.7894969108561342,
          4.067961165048544,
          7.736981465136805,
          4.320829655781112,
          2.414827890556046,
          2.7819947043248012,
          3.4315975286849074,
          4.0926743159752865,
          4.680494263018534,
          5.3172992056487205,
          6.714033539276258,
          10.58252427184466,
          15.206090026478376,
          11.027360988526038,
          6.524713150926743,
          7.448808473080318,
          7.210061782877317,
          2.3742277140335393
         ],
         "yaxis": "y3"
        },
        {
         "hovertemplate": "Cluster=0<br>origin=Jiantan<br>Hour=%{x}<br>Passengers Count=%{y}<extra></extra>",
         "legendgroup": "0",
         "line": {
          "color": "#00cc96",
          "dash": "solid"
         },
         "marker": {
          "symbol": "circle"
         },
         "mode": "lines",
         "name": "0",
         "showlegend": false,
         "type": "scattergl",
         "x": [
          0,
          1,
          5,
          6,
          7,
          8,
          9,
          10,
          11,
          12,
          13,
          14,
          15,
          16,
          17,
          18,
          19,
          20,
          21,
          22,
          23
         ],
         "xaxis": "x3",
         "y": [
          2.3733451015004414,
          0.07855251544571933,
          0.0048543689320388345,
          3.6672550750220654,
          12.239629302736098,
          18.102383053839365,
          12.533097969991173,
          9.767872903795235,
          10.061782877316858,
          10.435569285083849,
          10.109002647837599,
          10.031774051191526,
          11.691526919682259,
          15.788172992056488,
          19.66460723742277,
          23.228596646072376,
          17.35172109443954,
          13.622683142100618,
          14.10856134157105,
          11.620917917034422,
          6.136363636363637
         ],
         "yaxis": "y3"
        },
        {
         "hovertemplate": "Cluster=0<br>origin=Minquan_W._Rd.<br>Hour=%{x}<br>Passengers Count=%{y}<extra></extra>",
         "legendgroup": "0",
         "line": {
          "color": "#00cc96",
          "dash": "solid"
         },
         "marker": {
          "symbol": "circle"
         },
         "mode": "lines",
         "name": "0",
         "showlegend": false,
         "type": "scattergl",
         "x": [
          0,
          1,
          5,
          6,
          7,
          8,
          9,
          10,
          11,
          12,
          13,
          14,
          15,
          16,
          17,
          18,
          19,
          20,
          21,
          22,
          23
         ],
         "xaxis": "x3",
         "y": [
          1.1813768755516327,
          0.07281553398058252,
          0.00176522506619594,
          2.43027360988526,
          7.456310679611651,
          12.042806707855252,
          8.310679611650485,
          6.606796116504855,
          7.135481023830538,
          8.496910856134157,
          8.493821712268314,
          8.033097969991173,
          8.398499558693734,
          11.753751103265666,
          20.193292144748455,
          30.75551632833186,
          20.111209179170345,
          11.632833186231245,
          9.772727272727273,
          7.354810238305384,
          2.8093556928508385
         ],
         "yaxis": "y3"
        },
        {
         "hovertemplate": "Cluster=0<br>origin=Nangang_Software_Park<br>Hour=%{x}<br>Passengers Count=%{y}<extra></extra>",
         "legendgroup": "0",
         "line": {
          "color": "#00cc96",
          "dash": "solid"
         },
         "marker": {
          "symbol": "circle"
         },
         "mode": "lines",
         "name": "0",
         "showlegend": false,
         "type": "scattergl",
         "x": [
          0,
          1,
          5,
          6,
          7,
          8,
          9,
          10,
          11,
          12,
          13,
          14,
          15,
          16,
          17,
          18,
          19,
          20,
          21,
          22,
          23
         ],
         "xaxis": "x3",
         "y": [
          0.10900264783759929,
          0.000441306266548985,
          0.00088261253309797,
          0.1796116504854369,
          1.3371579876434245,
          2.372462488967343,
          1.3495145631067962,
          0.9249779346866726,
          1.2100617828773168,
          1.7122683142100619,
          1.9011473962930274,
          1.6001765225066196,
          1.5414827890556047,
          2.441747572815534,
          5.627096204766108,
          17.08296557811121,
          10.725066195939982,
          4.888349514563107,
          3.0467784642541926,
          1.4055604589585171,
          0.38746690203000883
         ],
         "yaxis": "y3"
        },
        {
         "hovertemplate": "Cluster=0<br>origin=Nanjing_Fuxing<br>Hour=%{x}<br>Passengers Count=%{y}<extra></extra>",
         "legendgroup": "0",
         "line": {
          "color": "#00cc96",
          "dash": "solid"
         },
         "marker": {
          "symbol": "circle"
         },
         "mode": "lines",
         "name": "0",
         "showlegend": false,
         "type": "scattergl",
         "x": [
          0,
          1,
          5,
          6,
          7,
          8,
          9,
          10,
          11,
          12,
          13,
          14,
          15,
          16,
          17,
          18,
          19,
          20,
          21,
          22,
          23
         ],
         "xaxis": "x3",
         "y": [
          2.4307149161518096,
          0.09532215357458076,
          0.003089143865842895,
          2.2109443954104147,
          8.371579876434245,
          15.565754633715798,
          10.48676081200353,
          7.809355692850838,
          9.440864960282436,
          11.76919682259488,
          13.055604589585172,
          13.683583406884377,
          13.724183583406884,
          17.458517210944397,
          33.53089143865843,
          74.26434245366285,
          48.390114739629304,
          25.832744924977934,
          22.575022065313327,
          16.357899382171226,
          6.031332744924978
         ],
         "yaxis": "y3"
        },
        {
         "hovertemplate": "Cluster=0<br>origin=Nanjing_Sanmin<br>Hour=%{x}<br>Passengers Count=%{y}<extra></extra>",
         "legendgroup": "0",
         "line": {
          "color": "#00cc96",
          "dash": "solid"
         },
         "marker": {
          "symbol": "circle"
         },
         "mode": "lines",
         "name": "0",
         "showlegend": false,
         "type": "scattergl",
         "x": [
          0,
          1,
          5,
          6,
          7,
          8,
          9,
          10,
          11,
          12,
          13,
          14,
          15,
          16,
          17,
          18,
          19,
          20,
          21,
          22,
          23
         ],
         "xaxis": "x3",
         "y": [
          0.9872021182700794,
          0.00706090026478376,
          0.00088261253309797,
          1.8164165931156222,
          8.218887908208297,
          16.010591350397174,
          9.540600176522506,
          6.8362753751103265,
          7.238305383936452,
          7.710503089143866,
          8.194174757281553,
          7.730803177405119,
          7.862312444836717,
          11.944836716681376,
          20.888790820829655,
          37.646072374227714,
          24.106796116504853,
          11.66504854368932,
          9.104589585172109,
          6.772285966460724,
          2.793468667255075
         ],
         "yaxis": "y3"
        },
        {
         "hovertemplate": "Cluster=0<br>origin=New_Taipei_Industrial_Park<br>Hour=%{x}<br>Passengers Count=%{y}<extra></extra>",
         "legendgroup": "0",
         "line": {
          "color": "#00cc96",
          "dash": "solid"
         },
         "marker": {
          "symbol": "circle"
         },
         "mode": "lines",
         "name": "0",
         "showlegend": false,
         "type": "scattergl",
         "x": [
          0,
          1,
          5,
          6,
          7,
          8,
          9,
          10,
          11,
          12,
          13,
          14,
          15,
          16,
          17,
          18,
          19,
          20,
          21,
          22,
          23
         ],
         "xaxis": "x3",
         "y": [
          0.0825242718446602,
          0.000441306266548985,
          0,
          0.08781994704324801,
          0.8812886142983231,
          1.43909973521624,
          0.7572815533980582,
          0.4210061782877317,
          0.39452780229479256,
          0.44263018534863197,
          0.53045013239188,
          0.4320388349514563,
          0.5035304501323918,
          0.5639894086496028,
          1.6606354810238306,
          4.03045013239188,
          2.533980582524272,
          0.9338040600176523,
          0.6959399823477493,
          0.5909090909090909,
          0.2908208296557811
         ],
         "yaxis": "y3"
        },
        {
         "hovertemplate": "Cluster=0<br>origin=Qiaohe<br>Hour=%{x}<br>Passengers Count=%{y}<extra></extra>",
         "legendgroup": "0",
         "line": {
          "color": "#00cc96",
          "dash": "solid"
         },
         "marker": {
          "symbol": "circle"
         },
         "mode": "lines",
         "name": "0",
         "showlegend": false,
         "type": "scattergl",
         "x": [
          0,
          1,
          5,
          6,
          7,
          8,
          9,
          10,
          11,
          12,
          13,
          14,
          15,
          16,
          17,
          18,
          19,
          20,
          21,
          22,
          23
         ],
         "xaxis": "x3",
         "y": [
          0.043689320388349516,
          0,
          0,
          0.02824360105913504,
          0.24536628420123566,
          0.45719329214474846,
          0.2511032656663725,
          0.25154457193292146,
          0.2846425419240953,
          0.30406001765225066,
          0.35657546337157986,
          0.3556928508384819,
          0.3428949691085613,
          0.5233892321270962,
          0.9761694616063548,
          3.3684907325684024,
          2.4223300970873787,
          0.763901147396293,
          0.4024713150926743,
          0.2687555163283319,
          0.12753751103265668
         ],
         "yaxis": "y3"
        },
        {
         "hovertemplate": "Cluster=0<br>origin=Songjiang_Nanjing<br>Hour=%{x}<br>Passengers Count=%{y}<extra></extra>",
         "legendgroup": "0",
         "line": {
          "color": "#00cc96",
          "dash": "solid"
         },
         "marker": {
          "symbol": "circle"
         },
         "mode": "lines",
         "name": "0",
         "showlegend": false,
         "type": "scattergl",
         "x": [
          0,
          1,
          5,
          6,
          7,
          8,
          9,
          10,
          11,
          12,
          13,
          14,
          15,
          16,
          17,
          18,
          19,
          20,
          21,
          22,
          23
         ],
         "xaxis": "x3",
         "y": [
          2.0657546337157986,
          0.10900264783759929,
          0.001323918799646955,
          1.2277140335392762,
          4.3702559576345985,
          10.333627537511033,
          7.6403353927625774,
          7.13945278022948,
          9.218446601941748,
          11.401147396293027,
          12.313768755516328,
          13.076345984112974,
          13.171226831421006,
          18.240511915269195,
          37.87731685789938,
          74.90335392762577,
          39.865842894969106,
          20.74757281553398,
          18.31200353045013,
          12.222418358340688,
          5.113857016769638
         ],
         "yaxis": "y3"
        },
        {
         "hovertemplate": "Cluster=0<br>origin=Songshan<br>Hour=%{x}<br>Passengers Count=%{y}<extra></extra>",
         "legendgroup": "0",
         "line": {
          "color": "#00cc96",
          "dash": "solid"
         },
         "marker": {
          "symbol": "circle"
         },
         "mode": "lines",
         "name": "0",
         "showlegend": false,
         "type": "scattergl",
         "x": [
          0,
          1,
          5,
          6,
          7,
          8,
          9,
          10,
          11,
          12,
          13,
          14,
          15,
          16,
          17,
          18,
          19,
          20,
          21,
          22,
          23
         ],
         "xaxis": "x3",
         "y": [
          1.4761694616063548,
          0.003089143865842895,
          0.002206531332744925,
          2.4201235657546336,
          13.274933804060018,
          30.109885260370696,
          13.379082082965578,
          6.9920564872021185,
          6.983671668137688,
          7.037069726390115,
          7.503530450132392,
          6.728596646072374,
          6.570609002647838,
          7.724624889673433,
          12.576345984112974,
          27.662400706090025,
          25.35172109443954,
          14.55163283318623,
          12.71359223300971,
          10.607678729037952,
          5.542806707855251
         ],
         "yaxis": "y3"
        },
        {
         "hovertemplate": "Cluster=0<br>origin=Sun_Yat-Sen_Memorial_Hall<br>Hour=%{x}<br>Passengers Count=%{y}<extra></extra>",
         "legendgroup": "0",
         "line": {
          "color": "#00cc96",
          "dash": "solid"
         },
         "marker": {
          "symbol": "circle"
         },
         "mode": "lines",
         "name": "0",
         "showlegend": false,
         "type": "scattergl",
         "x": [
          0,
          1,
          5,
          6,
          7,
          8,
          9,
          10,
          11,
          12,
          13,
          14,
          15,
          16,
          17,
          18,
          19,
          20,
          21,
          22,
          23
         ],
         "xaxis": "x3",
         "y": [
          1.6804942630185349,
          0.04324801412180053,
          0.002206531332744925,
          1.2493380406001766,
          4.336716681376876,
          8.809796999117388,
          5.268314210061783,
          4.086496028243601,
          5.162842012356576,
          7.167696381288614,
          7.492939099735216,
          7.466019417475728,
          8.210061782877316,
          10.161959399823477,
          15.298323036187114,
          27.93998234774934,
          20.52912621359223,
          12.814651368049427,
          12.257722859664607,
          10.037952338923212,
          4.194174757281553
         ],
         "yaxis": "y3"
        },
        {
         "hovertemplate": "Cluster=0<br>origin=Taipei_101/World_Trade_Center<br>Hour=%{x}<br>Passengers Count=%{y}<extra></extra>",
         "legendgroup": "0",
         "line": {
          "color": "#00cc96",
          "dash": "solid"
         },
         "marker": {
          "symbol": "circle"
         },
         "mode": "lines",
         "name": "0",
         "showlegend": false,
         "type": "scattergl",
         "x": [
          0,
          1,
          5,
          6,
          7,
          8,
          9,
          10,
          11,
          12,
          13,
          14,
          15,
          16,
          17,
          18,
          19,
          20,
          21,
          22,
          23
         ],
         "xaxis": "x3",
         "y": [
          1.7877316857899381,
          0.016328331862312445,
          0.001323918799646955,
          1.2202118270079436,
          4.800970873786408,
          9.601500441306266,
          5.633274492497794,
          4.3120035304501325,
          5.462930273609885,
          7.740511915269197,
          9.598411297440423,
          10.92188879082083,
          13.43865842894969,
          15.400706090026478,
          25.02691968225949,
          50.597969991173876,
          35.713592233009706,
          18.927625772285968,
          18.185789938217123,
          15.842894969108562,
          5.853045013239188
         ],
         "yaxis": "y3"
        },
        {
         "hovertemplate": "Cluster=0<br>origin=Taipei_Arena<br>Hour=%{x}<br>Passengers Count=%{y}<extra></extra>",
         "legendgroup": "0",
         "line": {
          "color": "#00cc96",
          "dash": "solid"
         },
         "marker": {
          "symbol": "circle"
         },
         "mode": "lines",
         "name": "0",
         "showlegend": false,
         "type": "scattergl",
         "x": [
          0,
          1,
          5,
          6,
          7,
          8,
          9,
          10,
          11,
          12,
          13,
          14,
          15,
          16,
          17,
          18,
          19,
          20,
          21,
          22,
          23
         ],
         "xaxis": "x3",
         "y": [
          0.7541924095322153,
          0.00264783759929391,
          0,
          0.8896734333627537,
          3.5829655781112093,
          7.932921447484555,
          5.012356575463372,
          4.025154457193292,
          5.043248014121801,
          6.401588702559576,
          6.824801412180053,
          6.888790820829656,
          7.344218887908208,
          10.100617828773169,
          18.723742277140335,
          39.906443071491616,
          25.982789055604588,
          12.85216240070609,
          11.392321270962048,
          7.492497793468667,
          2.5732568402471316
         ],
         "yaxis": "y3"
        },
        {
         "hovertemplate": "Cluster=0<br>origin=Taipei_City_Hall<br>Hour=%{x}<br>Passengers Count=%{y}<extra></extra>",
         "legendgroup": "0",
         "line": {
          "color": "#00cc96",
          "dash": "solid"
         },
         "marker": {
          "symbol": "circle"
         },
         "mode": "lines",
         "name": "0",
         "showlegend": false,
         "type": "scattergl",
         "x": [
          0,
          1,
          5,
          6,
          7,
          8,
          9,
          10,
          11,
          12,
          13,
          14,
          15,
          16,
          17,
          18,
          19,
          20,
          21,
          22,
          23
         ],
         "xaxis": "x3",
         "y": [
          4.241394527802295,
          0.07105030891438659,
          0.0048543689320388345,
          2.581641659311562,
          11.468667255075022,
          18.73036187113857,
          13.054721977052074,
          11.175198587819947,
          12.979258605472198,
          16.39673433362754,
          19.315533980582526,
          21.909973521624007,
          24.567078552515447,
          33.07502206531333,
          50.11165048543689,
          81.57193292144748,
          62.6513680494263,
          40.387466902030006,
          40.23742277140335,
          38.59135039717564,
          12.541924095322154
         ],
         "yaxis": "y3"
        },
        {
         "hovertemplate": "Cluster=0<br>origin=Xiangshan<br>Hour=%{x}<br>Passengers Count=%{y}<extra></extra>",
         "legendgroup": "0",
         "line": {
          "color": "#00cc96",
          "dash": "solid"
         },
         "marker": {
          "symbol": "circle"
         },
         "mode": "lines",
         "name": "0",
         "showlegend": false,
         "type": "scattergl",
         "x": [
          0,
          1,
          5,
          6,
          7,
          8,
          9,
          10,
          11,
          12,
          13,
          14,
          15,
          16,
          17,
          18,
          19,
          20,
          21,
          22,
          23
         ],
         "xaxis": "x3",
         "y": [
          0.7030008826125331,
          0.0048543689320388345,
          0.001323918799646955,
          1.1253309796999118,
          5.72639011473963,
          10.444836716681376,
          5.492939099735216,
          3.410856134157105,
          3.5445719329214476,
          3.7162400706090026,
          3.936893203883495,
          3.740953221535746,
          3.9788172992056485,
          5.418358340688438,
          10.261694616063549,
          19.61253309796999,
          16.379082082965578,
          7.18667255075022,
          5.113415710503089,
          4.7780229479258605,
          2.083848190644307
         ],
         "yaxis": "y3"
        },
        {
         "hovertemplate": "Cluster=0<br>origin=Xianse_Temple<br>Hour=%{x}<br>Passengers Count=%{y}<extra></extra>",
         "legendgroup": "0",
         "line": {
          "color": "#00cc96",
          "dash": "solid"
         },
         "marker": {
          "symbol": "circle"
         },
         "mode": "lines",
         "name": "0",
         "showlegend": false,
         "type": "scattergl",
         "x": [
          0,
          1,
          5,
          6,
          7,
          8,
          9,
          10,
          11,
          12,
          13,
          14,
          15,
          16,
          17,
          18,
          19,
          20,
          21,
          22,
          23
         ],
         "xaxis": "x3",
         "y": [
          0.1707855251544572,
          0.00264783759929391,
          0,
          0.6853486319505737,
          2.6526919682259487,
          4.365842894969108,
          2.118270079435128,
          1.1637246248896735,
          1.1063548102383054,
          1.1862312444836716,
          1.1884377758164166,
          1.082965578111209,
          1.1363636363636365,
          1.5962047661076788,
          4.195939982347749,
          10.502647837599294,
          4.926743159752869,
          1.731244483671668,
          1.1006178287731685,
          0.7974404236540159,
          0.36937334510150044
         ],
         "yaxis": "y3"
        },
        {
         "hovertemplate": "Cluster=0<br>origin=Xihu<br>Hour=%{x}<br>Passengers Count=%{y}<extra></extra>",
         "legendgroup": "0",
         "line": {
          "color": "#00cc96",
          "dash": "solid"
         },
         "marker": {
          "symbol": "circle"
         },
         "mode": "lines",
         "name": "0",
         "showlegend": false,
         "type": "scattergl",
         "x": [
          0,
          1,
          5,
          6,
          7,
          8,
          9,
          10,
          11,
          12,
          13,
          14,
          15,
          16,
          17,
          18,
          19,
          20,
          21,
          22,
          23
         ],
         "xaxis": "x3",
         "y": [
          0.5357458075904677,
          0.03089143865842895,
          0.000441306266548985,
          0.6791703442188879,
          3.345542806707855,
          7.1637246248896735,
          3.950573698146514,
          2.53486319505737,
          3.1619593998234774,
          4.49558693733451,
          4.269196822594881,
          3.884377758164166,
          4.142983230361871,
          5.813768755516328,
          13.011473962930273,
          37.94086496028243,
          26.679611650485437,
          9.518093556928509,
          5.316857899382171,
          2.8989408649602826,
          1.2268314210061784
         ],
         "yaxis": "y3"
        },
        {
         "hovertemplate": "Cluster=0<br>origin=Ximen<br>Hour=%{x}<br>Passengers Count=%{y}<extra></extra>",
         "legendgroup": "0",
         "line": {
          "color": "#00cc96",
          "dash": "solid"
         },
         "marker": {
          "symbol": "circle"
         },
         "mode": "lines",
         "name": "0",
         "showlegend": false,
         "type": "scattergl",
         "x": [
          0,
          1,
          5,
          6,
          7,
          8,
          9,
          10,
          11,
          12,
          13,
          14,
          15,
          16,
          17,
          18,
          19,
          20,
          21,
          22,
          23
         ],
         "xaxis": "x3",
         "y": [
          6.894086496028244,
          0.2674315975286849,
          0.01588702559576346,
          6.158428949691086,
          17.897175639894087,
          36.25992939099735,
          24.09620476610768,
          21.136804942630185,
          23.40953221535746,
          24.249338040600176,
          25.87864077669903,
          27.30847308031774,
          29.77890556045896,
          35.00264783759929,
          47.66416593115622,
          58.22374227714034,
          43.38834951456311,
          35.79567519858782,
          37.47352162400706,
          33.937334510150045,
          15.894969108561341
         ],
         "yaxis": "y3"
        },
        {
         "hovertemplate": "Cluster=0<br>origin=Xingtian_Temple<br>Hour=%{x}<br>Passengers Count=%{y}<extra></extra>",
         "legendgroup": "0",
         "line": {
          "color": "#00cc96",
          "dash": "solid"
         },
         "marker": {
          "symbol": "circle"
         },
         "mode": "lines",
         "name": "0",
         "showlegend": false,
         "type": "scattergl",
         "x": [
          0,
          1,
          5,
          6,
          7,
          8,
          9,
          10,
          11,
          12,
          13,
          14,
          15,
          16,
          17,
          18,
          19,
          20,
          21,
          22,
          23
         ],
         "xaxis": "x3",
         "y": [
          1.3596646072374228,
          0.07016769638128861,
          0.000441306266548985,
          1.7449249779346867,
          6.587819947043248,
          12.661959399823477,
          8.770962047661076,
          7.011032656663724,
          8.254192409532216,
          10.116063548102384,
          10.82171226831421,
          9.758605472197706,
          9.932921447484555,
          12.967784642541924,
          23.154898499558694,
          46.523389232127094,
          28.116946160635482,
          14.684024713150928,
          11.776699029126213,
          7.6562224183583405,
          3.5110326566637244
         ],
         "yaxis": "y3"
        },
        {
         "hovertemplate": "Cluster=0<br>origin=Xinpu_Minsheng<br>Hour=%{x}<br>Passengers Count=%{y}<extra></extra>",
         "legendgroup": "0",
         "line": {
          "color": "#00cc96",
          "dash": "solid"
         },
         "marker": {
          "symbol": "circle"
         },
         "mode": "lines",
         "name": "0",
         "showlegend": false,
         "type": "scattergl",
         "x": [
          0,
          1,
          5,
          6,
          7,
          8,
          9,
          10,
          11,
          12,
          13,
          14,
          15,
          16,
          17,
          18,
          19,
          20,
          21,
          22,
          23
         ],
         "xaxis": "x3",
         "y": [
          0.02471315092674316,
          0.00088261253309797,
          0,
          0.09135039717563989,
          0.42188879082082964,
          0.6588702559576346,
          0.35436893203883496,
          0.21668137687555164,
          0.1646072374227714,
          0.19549867608120036,
          0.22330097087378642,
          0.19991173874669022,
          0.22506619593998234,
          0.23477493380406,
          0.3574580759046778,
          0.4580759046778464,
          0.33362753751103263,
          0.30803177405119153,
          0.3053839364518976,
          0.21668137687555164,
          0.12533097969991175
         ],
         "yaxis": "y3"
        },
        {
         "hovertemplate": "Cluster=0<br>origin=Xinyi_Anhe<br>Hour=%{x}<br>Passengers Count=%{y}<extra></extra>",
         "legendgroup": "0",
         "line": {
          "color": "#00cc96",
          "dash": "solid"
         },
         "marker": {
          "symbol": "circle"
         },
         "mode": "lines",
         "name": "0",
         "showlegend": false,
         "type": "scattergl",
         "x": [
          0,
          1,
          5,
          6,
          7,
          8,
          9,
          10,
          11,
          12,
          13,
          14,
          15,
          16,
          17,
          18,
          19,
          20,
          21,
          22,
          23
         ],
         "xaxis": "x3",
         "y": [
          1.587378640776699,
          0.018976169461606355,
          0.003971756398940865,
          1.4249779346866724,
          5.717563989408649,
          10.862753751103266,
          6.872021182700794,
          4.758605472197705,
          5.200353045013239,
          5.70432480141218,
          6.327007943512798,
          6.4179170344218885,
          6.448808473080318,
          7.503089143865843,
          13.94748455428067,
          29.571932921447484,
          20.88702559576346,
          10.715357458075905,
          9.768755516328332,
          7.526919682259488,
          3.7255075022065314
         ],
         "yaxis": "y3"
        },
        {
         "hovertemplate": "Cluster=0<br>origin=Zhongshan<br>Hour=%{x}<br>Passengers Count=%{y}<extra></extra>",
         "legendgroup": "0",
         "line": {
          "color": "#00cc96",
          "dash": "solid"
         },
         "marker": {
          "symbol": "circle"
         },
         "mode": "lines",
         "name": "0",
         "showlegend": false,
         "type": "scattergl",
         "x": [
          0,
          1,
          5,
          6,
          7,
          8,
          9,
          10,
          11,
          12,
          13,
          14,
          15,
          16,
          17,
          18,
          19,
          20,
          21,
          22,
          23
         ],
         "xaxis": "x3",
         "y": [
          3.7577228596646073,
          0.18270079435127978,
          0.006619593998234775,
          1.8592233009708738,
          5.755075022065314,
          12.293468667255075,
          8.33451015004413,
          7.229479258605473,
          8.87775816416593,
          12.420564872021183,
          16.824360105913502,
          20.237864077669904,
          22.419240953221536,
          25.85260370697264,
          34.355251544571935,
          50.158428949691086,
          41.11562224183584,
          34.570609002647835,
          38.41129744042365,
          29.954545454545453,
          10.00441306266549
         ],
         "yaxis": "y3"
        },
        {
         "hovertemplate": "Cluster=0<br>origin=Zhongshan_Elementary_School<br>Hour=%{x}<br>Passengers Count=%{y}<extra></extra>",
         "legendgroup": "0",
         "line": {
          "color": "#00cc96",
          "dash": "solid"
         },
         "marker": {
          "symbol": "circle"
         },
         "mode": "lines",
         "name": "0",
         "showlegend": false,
         "type": "scattergl",
         "x": [
          0,
          1,
          5,
          6,
          7,
          8,
          9,
          10,
          11,
          12,
          13,
          14,
          15,
          16,
          17,
          18,
          19,
          20,
          21,
          22,
          23
         ],
         "xaxis": "x3",
         "y": [
          1.4183583406884377,
          0.03927625772285966,
          0.01412180052956752,
          2.0939982347749337,
          6.4527802294792584,
          12.78729037952339,
          8.18270079435128,
          5.41747572815534,
          5.3627537511032655,
          5.9792586054721975,
          5.766107678729038,
          5.28684907325684,
          5.28684907325684,
          7.907766990291262,
          12.62665489849956,
          20.74801412180053,
          14.537511032656663,
          8.268755516328332,
          7.593115622241836,
          6.0789938217122685,
          3.056045895851721
         ],
         "yaxis": "y3"
        },
        {
         "hovertemplate": "Cluster=0<br>origin=Zhongshan_Junior_High_School<br>Hour=%{x}<br>Passengers Count=%{y}<extra></extra>",
         "legendgroup": "0",
         "line": {
          "color": "#00cc96",
          "dash": "solid"
         },
         "marker": {
          "symbol": "circle"
         },
         "mode": "lines",
         "name": "0",
         "showlegend": false,
         "type": "scattergl",
         "x": [
          0,
          1,
          5,
          6,
          7,
          8,
          9,
          10,
          11,
          12,
          13,
          14,
          15,
          16,
          17,
          18,
          19,
          20,
          21,
          22,
          23
         ],
         "xaxis": "x3",
         "y": [
          0.4532215357458076,
          0.01147396293027361,
          0.000441306266548985,
          1.3857016769638129,
          6.920564872021183,
          14.21359223300971,
          7.5714916151809355,
          4.305383936451897,
          4.30008826125331,
          4.852603706972639,
          4.910414827890556,
          4.396293027360988,
          4.279788172992056,
          4.872021182700794,
          8.41747572815534,
          18.50750220653133,
          13.132391879964695,
          6.785966460723742,
          5.729479258605473,
          3.675198587819947,
          1.3084730803177405
         ],
         "yaxis": "y3"
        },
        {
         "hovertemplate": "Cluster=0<br>origin=Zhongxiao_Dunhua<br>Hour=%{x}<br>Passengers Count=%{y}<extra></extra>",
         "legendgroup": "0",
         "line": {
          "color": "#00cc96",
          "dash": "solid"
         },
         "marker": {
          "symbol": "circle"
         },
         "mode": "lines",
         "name": "0",
         "showlegend": false,
         "type": "scattergl",
         "x": [
          0,
          1,
          5,
          6,
          7,
          8,
          9,
          10,
          11,
          12,
          13,
          14,
          15,
          16,
          17,
          18,
          19,
          20,
          21,
          22,
          23
         ],
         "xaxis": "x3",
         "y": [
          3.959399823477493,
          0.088261253309797,
          0.003089143865842895,
          1.4964695498676082,
          4.310238305383937,
          8.632833186231245,
          6.054280670785525,
          5.541041482789056,
          7.134157105030892,
          8.830979699911738,
          10.615622241835833,
          12.090026478375993,
          13.973080317740513,
          16.3045013239188,
          25.492939099735217,
          46.29744042365402,
          33.345984112974406,
          23.672109443954103,
          25.229479258605473,
          20.47087378640777,
          9.033980582524272
         ],
         "yaxis": "y3"
        },
        {
         "hovertemplate": "Cluster=0<br>origin=Zhongxiao_Fuxing<br>Hour=%{x}<br>Passengers Count=%{y}<extra></extra>",
         "legendgroup": "0",
         "line": {
          "color": "#00cc96",
          "dash": "solid"
         },
         "marker": {
          "symbol": "circle"
         },
         "mode": "lines",
         "name": "0",
         "showlegend": false,
         "type": "scattergl",
         "x": [
          0,
          1,
          5,
          6,
          7,
          8,
          9,
          10,
          11,
          12,
          13,
          14,
          15,
          16,
          17,
          18,
          19,
          20,
          21,
          22,
          23
         ],
         "xaxis": "x3",
         "y": [
          3.921006178287732,
          0.14474845542806708,
          0.00088261253309797,
          1.794792586054722,
          6.324360105913504,
          11.79567519858782,
          8.939541041482789,
          7.971315092674316,
          10.334068843777581,
          14.068843777581641,
          17.67740511915269,
          19.979258605472197,
          22.550308914386584,
          26.073256840247133,
          33.09664607237423,
          45.04810238305384,
          38.310679611650485,
          31.51323918799647,
          33.31950573698146,
          27.66460723742277,
          9.447925860547219
         ],
         "yaxis": "y3"
        },
        {
         "hovertemplate": "Cluster=0<br>origin=Zhongxiao_Xinsheng<br>Hour=%{x}<br>Passengers Count=%{y}<extra></extra>",
         "legendgroup": "0",
         "line": {
          "color": "#00cc96",
          "dash": "solid"
         },
         "marker": {
          "symbol": "circle"
         },
         "mode": "lines",
         "name": "0",
         "showlegend": false,
         "type": "scattergl",
         "x": [
          0,
          1,
          5,
          6,
          7,
          8,
          9,
          10,
          11,
          12,
          13,
          14,
          15,
          16,
          17,
          18,
          19,
          20,
          21,
          22,
          23
         ],
         "xaxis": "x3",
         "y": [
          2.2197705207413945,
          0.1059135039717564,
          0.006619593998234775,
          1.5070609002647837,
          6.344218887908208,
          12.81332744924978,
          8.920564872021183,
          7.6032656663724625,
          9.381288614298324,
          12.045454545454545,
          11.91747572815534,
          12.816416593115623,
          14.86981465136805,
          19.220653133274492,
          29.64298323036187,
          45.17917034421889,
          29.01412180052957,
          18.988084730803177,
          18.65622241835834,
          12.829214474845543,
          5.324360105913504
         ],
         "yaxis": "y3"
        },
        {
         "hovertemplate": "Cluster=0<br>origin=Zhongyuan<br>Hour=%{x}<br>Passengers Count=%{y}<extra></extra>",
         "legendgroup": "0",
         "line": {
          "color": "#00cc96",
          "dash": "solid"
         },
         "marker": {
          "symbol": "circle"
         },
         "mode": "lines",
         "name": "0",
         "showlegend": false,
         "type": "scattergl",
         "x": [
          0,
          1,
          5,
          6,
          7,
          8,
          9,
          10,
          11,
          12,
          13,
          14,
          15,
          16,
          17,
          18,
          19,
          20,
          21,
          22,
          23
         ],
         "xaxis": "x3",
         "y": [
          0.05030891438658429,
          0.000441306266548985,
          0,
          0.1001765225066196,
          0.6972639011473963,
          1.266107678729038,
          0.7193292144748455,
          0.42806707855251547,
          0.3901147396293027,
          0.4823477493380406,
          0.48058252427184467,
          0.4055604589585172,
          0.38349514563106796,
          0.4889673433362754,
          1.353045013239188,
          4.616504854368932,
          2.7983230361871136,
          0.7603706972639012,
          0.43027360988526037,
          0.30450132391879964,
          0.15975286849073256
         ],
         "yaxis": "y3"
        }
       ],
       "layout": {
        "annotations": [
         {
          "font": {},
          "showarrow": false,
          "text": "Cluster=1",
          "x": 0.15999999999999998,
          "xanchor": "center",
          "xref": "paper",
          "y": 1,
          "yanchor": "bottom",
          "yref": "paper"
         },
         {
          "font": {},
          "showarrow": false,
          "text": "Cluster=2",
          "x": 0.49999999999999994,
          "xanchor": "center",
          "xref": "paper",
          "y": 1,
          "yanchor": "bottom",
          "yref": "paper"
         },
         {
          "font": {},
          "showarrow": false,
          "text": "Cluster=0",
          "x": 0.8399999999999999,
          "xanchor": "center",
          "xref": "paper",
          "y": 1,
          "yanchor": "bottom",
          "yref": "paper"
         }
        ],
        "legend": {
         "title": {
          "text": "Cluster"
         },
         "tracegroupgap": 0
        },
        "template": {
         "data": {
          "bar": [
           {
            "error_x": {
             "color": "#2a3f5f"
            },
            "error_y": {
             "color": "#2a3f5f"
            },
            "marker": {
             "line": {
              "color": "#E5ECF6",
              "width": 0.5
             },
             "pattern": {
              "fillmode": "overlay",
              "size": 10,
              "solidity": 0.2
             }
            },
            "type": "bar"
           }
          ],
          "barpolar": [
           {
            "marker": {
             "line": {
              "color": "#E5ECF6",
              "width": 0.5
             },
             "pattern": {
              "fillmode": "overlay",
              "size": 10,
              "solidity": 0.2
             }
            },
            "type": "barpolar"
           }
          ],
          "carpet": [
           {
            "aaxis": {
             "endlinecolor": "#2a3f5f",
             "gridcolor": "white",
             "linecolor": "white",
             "minorgridcolor": "white",
             "startlinecolor": "#2a3f5f"
            },
            "baxis": {
             "endlinecolor": "#2a3f5f",
             "gridcolor": "white",
             "linecolor": "white",
             "minorgridcolor": "white",
             "startlinecolor": "#2a3f5f"
            },
            "type": "carpet"
           }
          ],
          "choropleth": [
           {
            "colorbar": {
             "outlinewidth": 0,
             "ticks": ""
            },
            "type": "choropleth"
           }
          ],
          "contour": [
           {
            "colorbar": {
             "outlinewidth": 0,
             "ticks": ""
            },
            "colorscale": [
             [
              0,
              "#0d0887"
             ],
             [
              0.1111111111111111,
              "#46039f"
             ],
             [
              0.2222222222222222,
              "#7201a8"
             ],
             [
              0.3333333333333333,
              "#9c179e"
             ],
             [
              0.4444444444444444,
              "#bd3786"
             ],
             [
              0.5555555555555556,
              "#d8576b"
             ],
             [
              0.6666666666666666,
              "#ed7953"
             ],
             [
              0.7777777777777778,
              "#fb9f3a"
             ],
             [
              0.8888888888888888,
              "#fdca26"
             ],
             [
              1,
              "#f0f921"
             ]
            ],
            "type": "contour"
           }
          ],
          "contourcarpet": [
           {
            "colorbar": {
             "outlinewidth": 0,
             "ticks": ""
            },
            "type": "contourcarpet"
           }
          ],
          "heatmap": [
           {
            "colorbar": {
             "outlinewidth": 0,
             "ticks": ""
            },
            "colorscale": [
             [
              0,
              "#0d0887"
             ],
             [
              0.1111111111111111,
              "#46039f"
             ],
             [
              0.2222222222222222,
              "#7201a8"
             ],
             [
              0.3333333333333333,
              "#9c179e"
             ],
             [
              0.4444444444444444,
              "#bd3786"
             ],
             [
              0.5555555555555556,
              "#d8576b"
             ],
             [
              0.6666666666666666,
              "#ed7953"
             ],
             [
              0.7777777777777778,
              "#fb9f3a"
             ],
             [
              0.8888888888888888,
              "#fdca26"
             ],
             [
              1,
              "#f0f921"
             ]
            ],
            "type": "heatmap"
           }
          ],
          "heatmapgl": [
           {
            "colorbar": {
             "outlinewidth": 0,
             "ticks": ""
            },
            "colorscale": [
             [
              0,
              "#0d0887"
             ],
             [
              0.1111111111111111,
              "#46039f"
             ],
             [
              0.2222222222222222,
              "#7201a8"
             ],
             [
              0.3333333333333333,
              "#9c179e"
             ],
             [
              0.4444444444444444,
              "#bd3786"
             ],
             [
              0.5555555555555556,
              "#d8576b"
             ],
             [
              0.6666666666666666,
              "#ed7953"
             ],
             [
              0.7777777777777778,
              "#fb9f3a"
             ],
             [
              0.8888888888888888,
              "#fdca26"
             ],
             [
              1,
              "#f0f921"
             ]
            ],
            "type": "heatmapgl"
           }
          ],
          "histogram": [
           {
            "marker": {
             "pattern": {
              "fillmode": "overlay",
              "size": 10,
              "solidity": 0.2
             }
            },
            "type": "histogram"
           }
          ],
          "histogram2d": [
           {
            "colorbar": {
             "outlinewidth": 0,
             "ticks": ""
            },
            "colorscale": [
             [
              0,
              "#0d0887"
             ],
             [
              0.1111111111111111,
              "#46039f"
             ],
             [
              0.2222222222222222,
              "#7201a8"
             ],
             [
              0.3333333333333333,
              "#9c179e"
             ],
             [
              0.4444444444444444,
              "#bd3786"
             ],
             [
              0.5555555555555556,
              "#d8576b"
             ],
             [
              0.6666666666666666,
              "#ed7953"
             ],
             [
              0.7777777777777778,
              "#fb9f3a"
             ],
             [
              0.8888888888888888,
              "#fdca26"
             ],
             [
              1,
              "#f0f921"
             ]
            ],
            "type": "histogram2d"
           }
          ],
          "histogram2dcontour": [
           {
            "colorbar": {
             "outlinewidth": 0,
             "ticks": ""
            },
            "colorscale": [
             [
              0,
              "#0d0887"
             ],
             [
              0.1111111111111111,
              "#46039f"
             ],
             [
              0.2222222222222222,
              "#7201a8"
             ],
             [
              0.3333333333333333,
              "#9c179e"
             ],
             [
              0.4444444444444444,
              "#bd3786"
             ],
             [
              0.5555555555555556,
              "#d8576b"
             ],
             [
              0.6666666666666666,
              "#ed7953"
             ],
             [
              0.7777777777777778,
              "#fb9f3a"
             ],
             [
              0.8888888888888888,
              "#fdca26"
             ],
             [
              1,
              "#f0f921"
             ]
            ],
            "type": "histogram2dcontour"
           }
          ],
          "mesh3d": [
           {
            "colorbar": {
             "outlinewidth": 0,
             "ticks": ""
            },
            "type": "mesh3d"
           }
          ],
          "parcoords": [
           {
            "line": {
             "colorbar": {
              "outlinewidth": 0,
              "ticks": ""
             }
            },
            "type": "parcoords"
           }
          ],
          "pie": [
           {
            "automargin": true,
            "type": "pie"
           }
          ],
          "scatter": [
           {
            "fillpattern": {
             "fillmode": "overlay",
             "size": 10,
             "solidity": 0.2
            },
            "type": "scatter"
           }
          ],
          "scatter3d": [
           {
            "line": {
             "colorbar": {
              "outlinewidth": 0,
              "ticks": ""
             }
            },
            "marker": {
             "colorbar": {
              "outlinewidth": 0,
              "ticks": ""
             }
            },
            "type": "scatter3d"
           }
          ],
          "scattercarpet": [
           {
            "marker": {
             "colorbar": {
              "outlinewidth": 0,
              "ticks": ""
             }
            },
            "type": "scattercarpet"
           }
          ],
          "scattergeo": [
           {
            "marker": {
             "colorbar": {
              "outlinewidth": 0,
              "ticks": ""
             }
            },
            "type": "scattergeo"
           }
          ],
          "scattergl": [
           {
            "marker": {
             "colorbar": {
              "outlinewidth": 0,
              "ticks": ""
             }
            },
            "type": "scattergl"
           }
          ],
          "scattermapbox": [
           {
            "marker": {
             "colorbar": {
              "outlinewidth": 0,
              "ticks": ""
             }
            },
            "type": "scattermapbox"
           }
          ],
          "scatterpolar": [
           {
            "marker": {
             "colorbar": {
              "outlinewidth": 0,
              "ticks": ""
             }
            },
            "type": "scatterpolar"
           }
          ],
          "scatterpolargl": [
           {
            "marker": {
             "colorbar": {
              "outlinewidth": 0,
              "ticks": ""
             }
            },
            "type": "scatterpolargl"
           }
          ],
          "scatterternary": [
           {
            "marker": {
             "colorbar": {
              "outlinewidth": 0,
              "ticks": ""
             }
            },
            "type": "scatterternary"
           }
          ],
          "surface": [
           {
            "colorbar": {
             "outlinewidth": 0,
             "ticks": ""
            },
            "colorscale": [
             [
              0,
              "#0d0887"
             ],
             [
              0.1111111111111111,
              "#46039f"
             ],
             [
              0.2222222222222222,
              "#7201a8"
             ],
             [
              0.3333333333333333,
              "#9c179e"
             ],
             [
              0.4444444444444444,
              "#bd3786"
             ],
             [
              0.5555555555555556,
              "#d8576b"
             ],
             [
              0.6666666666666666,
              "#ed7953"
             ],
             [
              0.7777777777777778,
              "#fb9f3a"
             ],
             [
              0.8888888888888888,
              "#fdca26"
             ],
             [
              1,
              "#f0f921"
             ]
            ],
            "type": "surface"
           }
          ],
          "table": [
           {
            "cells": {
             "fill": {
              "color": "#EBF0F8"
             },
             "line": {
              "color": "white"
             }
            },
            "header": {
             "fill": {
              "color": "#C8D4E3"
             },
             "line": {
              "color": "white"
             }
            },
            "type": "table"
           }
          ]
         },
         "layout": {
          "annotationdefaults": {
           "arrowcolor": "#2a3f5f",
           "arrowhead": 0,
           "arrowwidth": 1
          },
          "autotypenumbers": "strict",
          "coloraxis": {
           "colorbar": {
            "outlinewidth": 0,
            "ticks": ""
           }
          },
          "colorscale": {
           "diverging": [
            [
             0,
             "#8e0152"
            ],
            [
             0.1,
             "#c51b7d"
            ],
            [
             0.2,
             "#de77ae"
            ],
            [
             0.3,
             "#f1b6da"
            ],
            [
             0.4,
             "#fde0ef"
            ],
            [
             0.5,
             "#f7f7f7"
            ],
            [
             0.6,
             "#e6f5d0"
            ],
            [
             0.7,
             "#b8e186"
            ],
            [
             0.8,
             "#7fbc41"
            ],
            [
             0.9,
             "#4d9221"
            ],
            [
             1,
             "#276419"
            ]
           ],
           "sequential": [
            [
             0,
             "#0d0887"
            ],
            [
             0.1111111111111111,
             "#46039f"
            ],
            [
             0.2222222222222222,
             "#7201a8"
            ],
            [
             0.3333333333333333,
             "#9c179e"
            ],
            [
             0.4444444444444444,
             "#bd3786"
            ],
            [
             0.5555555555555556,
             "#d8576b"
            ],
            [
             0.6666666666666666,
             "#ed7953"
            ],
            [
             0.7777777777777778,
             "#fb9f3a"
            ],
            [
             0.8888888888888888,
             "#fdca26"
            ],
            [
             1,
             "#f0f921"
            ]
           ],
           "sequentialminus": [
            [
             0,
             "#0d0887"
            ],
            [
             0.1111111111111111,
             "#46039f"
            ],
            [
             0.2222222222222222,
             "#7201a8"
            ],
            [
             0.3333333333333333,
             "#9c179e"
            ],
            [
             0.4444444444444444,
             "#bd3786"
            ],
            [
             0.5555555555555556,
             "#d8576b"
            ],
            [
             0.6666666666666666,
             "#ed7953"
            ],
            [
             0.7777777777777778,
             "#fb9f3a"
            ],
            [
             0.8888888888888888,
             "#fdca26"
            ],
            [
             1,
             "#f0f921"
            ]
           ]
          },
          "colorway": [
           "#636efa",
           "#EF553B",
           "#00cc96",
           "#ab63fa",
           "#FFA15A",
           "#19d3f3",
           "#FF6692",
           "#B6E880",
           "#FF97FF",
           "#FECB52"
          ],
          "font": {
           "color": "#2a3f5f"
          },
          "geo": {
           "bgcolor": "white",
           "lakecolor": "white",
           "landcolor": "#E5ECF6",
           "showlakes": true,
           "showland": true,
           "subunitcolor": "white"
          },
          "hoverlabel": {
           "align": "left"
          },
          "hovermode": "closest",
          "mapbox": {
           "style": "light"
          },
          "paper_bgcolor": "white",
          "plot_bgcolor": "#E5ECF6",
          "polar": {
           "angularaxis": {
            "gridcolor": "white",
            "linecolor": "white",
            "ticks": ""
           },
           "bgcolor": "#E5ECF6",
           "radialaxis": {
            "gridcolor": "white",
            "linecolor": "white",
            "ticks": ""
           }
          },
          "scene": {
           "xaxis": {
            "backgroundcolor": "#E5ECF6",
            "gridcolor": "white",
            "gridwidth": 2,
            "linecolor": "white",
            "showbackground": true,
            "ticks": "",
            "zerolinecolor": "white"
           },
           "yaxis": {
            "backgroundcolor": "#E5ECF6",
            "gridcolor": "white",
            "gridwidth": 2,
            "linecolor": "white",
            "showbackground": true,
            "ticks": "",
            "zerolinecolor": "white"
           },
           "zaxis": {
            "backgroundcolor": "#E5ECF6",
            "gridcolor": "white",
            "gridwidth": 2,
            "linecolor": "white",
            "showbackground": true,
            "ticks": "",
            "zerolinecolor": "white"
           }
          },
          "shapedefaults": {
           "line": {
            "color": "#2a3f5f"
           }
          },
          "ternary": {
           "aaxis": {
            "gridcolor": "white",
            "linecolor": "white",
            "ticks": ""
           },
           "baxis": {
            "gridcolor": "white",
            "linecolor": "white",
            "ticks": ""
           },
           "bgcolor": "#E5ECF6",
           "caxis": {
            "gridcolor": "white",
            "linecolor": "white",
            "ticks": ""
           }
          },
          "title": {
           "x": 0.05
          },
          "xaxis": {
           "automargin": true,
           "gridcolor": "white",
           "linecolor": "white",
           "ticks": "",
           "title": {
            "standoff": 15
           },
           "zerolinecolor": "white",
           "zerolinewidth": 2
          },
          "yaxis": {
           "automargin": true,
           "gridcolor": "white",
           "linecolor": "white",
           "ticks": "",
           "title": {
            "standoff": 15
           },
           "zerolinecolor": "white",
           "zerolinewidth": 2
          }
         }
        },
        "title": {
         "text": "Average Weekday Input of Each Station - By Cluster"
        },
        "xaxis": {
         "anchor": "y",
         "domain": [
          0,
          0.31999999999999995
         ],
         "title": {
          "text": "Hour"
         }
        },
        "xaxis2": {
         "anchor": "y2",
         "domain": [
          0.33999999999999997,
          0.6599999999999999
         ],
         "matches": "x",
         "title": {
          "text": "Hour"
         }
        },
        "xaxis3": {
         "anchor": "y3",
         "domain": [
          0.6799999999999999,
          0.9999999999999999
         ],
         "matches": "x",
         "title": {
          "text": "Hour"
         }
        },
        "yaxis": {
         "anchor": "x",
         "domain": [
          0,
          1
         ],
         "title": {
          "text": "Passengers Count"
         }
        },
        "yaxis2": {
         "anchor": "x2",
         "domain": [
          0,
          1
         ],
         "matches": "y",
         "showticklabels": false
        },
        "yaxis3": {
         "anchor": "x3",
         "domain": [
          0,
          1
         ],
         "matches": "y",
         "showticklabels": false
        }
       }
      }
     },
     "metadata": {},
     "output_type": "display_data"
    }
   ],
   "source": [
    "df_weekday = df[df['weekday'] == 1].groupby(['hour','origin'])['passenger_cnt'].agg('mean').reset_index()\n",
    "\n",
    "# Comment this line to plot all stations\n",
    "label_mapper = {k: l for k, l in zip(origin_mapper.keys(), kmeans.labels_)}\n",
    "df_weekday['Cluster'] = df_weekday['origin'].apply(lambda x : label_mapper[x])\n",
    "\n",
    "fig = px.line(df_weekday, x=\"hour\", y=\"passenger_cnt\", \n",
    "              color='Cluster', line_group=\"origin\", facet_col=\"Cluster\",\n",
    "              title='Average Weekday Input of Each Station - By Cluster',\n",
    "              labels={\n",
    "                        \"passenger_cnt\": \"Passengers Count\",\n",
    "                        \"hour\": \"Hour\",\n",
    "                    },)\n",
    "fig.show()"
   ]
  },
  {
   "cell_type": "markdown",
   "metadata": {},
   "source": [
    "This plot is for illustration in the Medium article."
   ]
  },
  {
   "cell_type": "code",
   "execution_count": 25,
   "metadata": {},
   "outputs": [
    {
     "data": {
      "application/vnd.plotly.v1+json": {
       "config": {
        "plotlyServerURL": "https://plot.ly"
       },
       "data": [
        {
         "hovertemplate": "origin=Taipei_Main_Station<br>Hour=%{x}<br>Passengers Count=%{y}<extra></extra>",
         "legendgroup": "Taipei_Main_Station",
         "line": {
          "color": "#636efa",
          "dash": "solid"
         },
         "marker": {
          "symbol": "circle"
         },
         "mode": "lines",
         "name": "Taipei_Main_Station",
         "orientation": "v",
         "showlegend": true,
         "type": "scatter",
         "x": [
          0,
          1,
          5,
          6,
          7,
          8,
          9,
          10,
          11,
          12,
          13,
          14,
          15,
          16,
          17,
          18,
          19,
          20,
          21,
          22,
          23
         ],
         "xaxis": "x",
         "y": [
          9.486319505736981,
          0.21668137687555164,
          0.008384819064430714,
          10.559135039717564,
          48.51191526919682,
          105.33539276257723,
          73.86054721977052,
          53.81818181818182,
          55.25728155339806,
          58.52471315092674,
          63.3261253309797,
          59.02471315092674,
          60.128861429832305,
          64.9585172109444,
          94.68534863195057,
          120.31244483671668,
          87.06972639011474,
          64.44439541041483,
          64.13592233009709,
          64.27537511032656,
          23.1306266548985
         ],
         "yaxis": "y"
        },
        {
         "hovertemplate": "origin=Taipei_Zoo<br>Hour=%{x}<br>Passengers Count=%{y}<extra></extra>",
         "legendgroup": "Taipei_Zoo",
         "line": {
          "color": "#EF553B",
          "dash": "solid"
         },
         "marker": {
          "symbol": "circle"
         },
         "mode": "lines",
         "name": "Taipei_Zoo",
         "orientation": "v",
         "showlegend": true,
         "type": "scatter",
         "x": [
          0,
          1,
          5,
          6,
          7,
          8,
          9,
          10,
          11,
          12,
          13,
          14,
          15,
          16,
          17,
          18,
          19,
          20,
          21,
          22,
          23
         ],
         "xaxis": "x",
         "y": [
          0.09796999117387467,
          0.000441306266548985,
          0,
          0.26963812886142985,
          2.8089143865842896,
          6.8755516328331865,
          2.7762577228596648,
          1.5083848190644307,
          1.8137687555163284,
          2.2753751103265665,
          2.820829655781112,
          3.3671668137687556,
          4.688437775816417,
          5.081641659311562,
          5.817740511915269,
          3.8954104148278907,
          1.6632833186231244,
          0.9752868490732568,
          0.7272727272727273,
          0.5719329214474845,
          0.24580759046778464
         ],
         "yaxis": "y"
        }
       ],
       "layout": {
        "legend": {
         "title": {
          "text": "origin"
         },
         "tracegroupgap": 0
        },
        "template": {
         "data": {
          "bar": [
           {
            "error_x": {
             "color": "#2a3f5f"
            },
            "error_y": {
             "color": "#2a3f5f"
            },
            "marker": {
             "line": {
              "color": "#E5ECF6",
              "width": 0.5
             },
             "pattern": {
              "fillmode": "overlay",
              "size": 10,
              "solidity": 0.2
             }
            },
            "type": "bar"
           }
          ],
          "barpolar": [
           {
            "marker": {
             "line": {
              "color": "#E5ECF6",
              "width": 0.5
             },
             "pattern": {
              "fillmode": "overlay",
              "size": 10,
              "solidity": 0.2
             }
            },
            "type": "barpolar"
           }
          ],
          "carpet": [
           {
            "aaxis": {
             "endlinecolor": "#2a3f5f",
             "gridcolor": "white",
             "linecolor": "white",
             "minorgridcolor": "white",
             "startlinecolor": "#2a3f5f"
            },
            "baxis": {
             "endlinecolor": "#2a3f5f",
             "gridcolor": "white",
             "linecolor": "white",
             "minorgridcolor": "white",
             "startlinecolor": "#2a3f5f"
            },
            "type": "carpet"
           }
          ],
          "choropleth": [
           {
            "colorbar": {
             "outlinewidth": 0,
             "ticks": ""
            },
            "type": "choropleth"
           }
          ],
          "contour": [
           {
            "colorbar": {
             "outlinewidth": 0,
             "ticks": ""
            },
            "colorscale": [
             [
              0,
              "#0d0887"
             ],
             [
              0.1111111111111111,
              "#46039f"
             ],
             [
              0.2222222222222222,
              "#7201a8"
             ],
             [
              0.3333333333333333,
              "#9c179e"
             ],
             [
              0.4444444444444444,
              "#bd3786"
             ],
             [
              0.5555555555555556,
              "#d8576b"
             ],
             [
              0.6666666666666666,
              "#ed7953"
             ],
             [
              0.7777777777777778,
              "#fb9f3a"
             ],
             [
              0.8888888888888888,
              "#fdca26"
             ],
             [
              1,
              "#f0f921"
             ]
            ],
            "type": "contour"
           }
          ],
          "contourcarpet": [
           {
            "colorbar": {
             "outlinewidth": 0,
             "ticks": ""
            },
            "type": "contourcarpet"
           }
          ],
          "heatmap": [
           {
            "colorbar": {
             "outlinewidth": 0,
             "ticks": ""
            },
            "colorscale": [
             [
              0,
              "#0d0887"
             ],
             [
              0.1111111111111111,
              "#46039f"
             ],
             [
              0.2222222222222222,
              "#7201a8"
             ],
             [
              0.3333333333333333,
              "#9c179e"
             ],
             [
              0.4444444444444444,
              "#bd3786"
             ],
             [
              0.5555555555555556,
              "#d8576b"
             ],
             [
              0.6666666666666666,
              "#ed7953"
             ],
             [
              0.7777777777777778,
              "#fb9f3a"
             ],
             [
              0.8888888888888888,
              "#fdca26"
             ],
             [
              1,
              "#f0f921"
             ]
            ],
            "type": "heatmap"
           }
          ],
          "heatmapgl": [
           {
            "colorbar": {
             "outlinewidth": 0,
             "ticks": ""
            },
            "colorscale": [
             [
              0,
              "#0d0887"
             ],
             [
              0.1111111111111111,
              "#46039f"
             ],
             [
              0.2222222222222222,
              "#7201a8"
             ],
             [
              0.3333333333333333,
              "#9c179e"
             ],
             [
              0.4444444444444444,
              "#bd3786"
             ],
             [
              0.5555555555555556,
              "#d8576b"
             ],
             [
              0.6666666666666666,
              "#ed7953"
             ],
             [
              0.7777777777777778,
              "#fb9f3a"
             ],
             [
              0.8888888888888888,
              "#fdca26"
             ],
             [
              1,
              "#f0f921"
             ]
            ],
            "type": "heatmapgl"
           }
          ],
          "histogram": [
           {
            "marker": {
             "pattern": {
              "fillmode": "overlay",
              "size": 10,
              "solidity": 0.2
             }
            },
            "type": "histogram"
           }
          ],
          "histogram2d": [
           {
            "colorbar": {
             "outlinewidth": 0,
             "ticks": ""
            },
            "colorscale": [
             [
              0,
              "#0d0887"
             ],
             [
              0.1111111111111111,
              "#46039f"
             ],
             [
              0.2222222222222222,
              "#7201a8"
             ],
             [
              0.3333333333333333,
              "#9c179e"
             ],
             [
              0.4444444444444444,
              "#bd3786"
             ],
             [
              0.5555555555555556,
              "#d8576b"
             ],
             [
              0.6666666666666666,
              "#ed7953"
             ],
             [
              0.7777777777777778,
              "#fb9f3a"
             ],
             [
              0.8888888888888888,
              "#fdca26"
             ],
             [
              1,
              "#f0f921"
             ]
            ],
            "type": "histogram2d"
           }
          ],
          "histogram2dcontour": [
           {
            "colorbar": {
             "outlinewidth": 0,
             "ticks": ""
            },
            "colorscale": [
             [
              0,
              "#0d0887"
             ],
             [
              0.1111111111111111,
              "#46039f"
             ],
             [
              0.2222222222222222,
              "#7201a8"
             ],
             [
              0.3333333333333333,
              "#9c179e"
             ],
             [
              0.4444444444444444,
              "#bd3786"
             ],
             [
              0.5555555555555556,
              "#d8576b"
             ],
             [
              0.6666666666666666,
              "#ed7953"
             ],
             [
              0.7777777777777778,
              "#fb9f3a"
             ],
             [
              0.8888888888888888,
              "#fdca26"
             ],
             [
              1,
              "#f0f921"
             ]
            ],
            "type": "histogram2dcontour"
           }
          ],
          "mesh3d": [
           {
            "colorbar": {
             "outlinewidth": 0,
             "ticks": ""
            },
            "type": "mesh3d"
           }
          ],
          "parcoords": [
           {
            "line": {
             "colorbar": {
              "outlinewidth": 0,
              "ticks": ""
             }
            },
            "type": "parcoords"
           }
          ],
          "pie": [
           {
            "automargin": true,
            "type": "pie"
           }
          ],
          "scatter": [
           {
            "fillpattern": {
             "fillmode": "overlay",
             "size": 10,
             "solidity": 0.2
            },
            "type": "scatter"
           }
          ],
          "scatter3d": [
           {
            "line": {
             "colorbar": {
              "outlinewidth": 0,
              "ticks": ""
             }
            },
            "marker": {
             "colorbar": {
              "outlinewidth": 0,
              "ticks": ""
             }
            },
            "type": "scatter3d"
           }
          ],
          "scattercarpet": [
           {
            "marker": {
             "colorbar": {
              "outlinewidth": 0,
              "ticks": ""
             }
            },
            "type": "scattercarpet"
           }
          ],
          "scattergeo": [
           {
            "marker": {
             "colorbar": {
              "outlinewidth": 0,
              "ticks": ""
             }
            },
            "type": "scattergeo"
           }
          ],
          "scattergl": [
           {
            "marker": {
             "colorbar": {
              "outlinewidth": 0,
              "ticks": ""
             }
            },
            "type": "scattergl"
           }
          ],
          "scattermapbox": [
           {
            "marker": {
             "colorbar": {
              "outlinewidth": 0,
              "ticks": ""
             }
            },
            "type": "scattermapbox"
           }
          ],
          "scatterpolar": [
           {
            "marker": {
             "colorbar": {
              "outlinewidth": 0,
              "ticks": ""
             }
            },
            "type": "scatterpolar"
           }
          ],
          "scatterpolargl": [
           {
            "marker": {
             "colorbar": {
              "outlinewidth": 0,
              "ticks": ""
             }
            },
            "type": "scatterpolargl"
           }
          ],
          "scatterternary": [
           {
            "marker": {
             "colorbar": {
              "outlinewidth": 0,
              "ticks": ""
             }
            },
            "type": "scatterternary"
           }
          ],
          "surface": [
           {
            "colorbar": {
             "outlinewidth": 0,
             "ticks": ""
            },
            "colorscale": [
             [
              0,
              "#0d0887"
             ],
             [
              0.1111111111111111,
              "#46039f"
             ],
             [
              0.2222222222222222,
              "#7201a8"
             ],
             [
              0.3333333333333333,
              "#9c179e"
             ],
             [
              0.4444444444444444,
              "#bd3786"
             ],
             [
              0.5555555555555556,
              "#d8576b"
             ],
             [
              0.6666666666666666,
              "#ed7953"
             ],
             [
              0.7777777777777778,
              "#fb9f3a"
             ],
             [
              0.8888888888888888,
              "#fdca26"
             ],
             [
              1,
              "#f0f921"
             ]
            ],
            "type": "surface"
           }
          ],
          "table": [
           {
            "cells": {
             "fill": {
              "color": "#EBF0F8"
             },
             "line": {
              "color": "white"
             }
            },
            "header": {
             "fill": {
              "color": "#C8D4E3"
             },
             "line": {
              "color": "white"
             }
            },
            "type": "table"
           }
          ]
         },
         "layout": {
          "annotationdefaults": {
           "arrowcolor": "#2a3f5f",
           "arrowhead": 0,
           "arrowwidth": 1
          },
          "autotypenumbers": "strict",
          "coloraxis": {
           "colorbar": {
            "outlinewidth": 0,
            "ticks": ""
           }
          },
          "colorscale": {
           "diverging": [
            [
             0,
             "#8e0152"
            ],
            [
             0.1,
             "#c51b7d"
            ],
            [
             0.2,
             "#de77ae"
            ],
            [
             0.3,
             "#f1b6da"
            ],
            [
             0.4,
             "#fde0ef"
            ],
            [
             0.5,
             "#f7f7f7"
            ],
            [
             0.6,
             "#e6f5d0"
            ],
            [
             0.7,
             "#b8e186"
            ],
            [
             0.8,
             "#7fbc41"
            ],
            [
             0.9,
             "#4d9221"
            ],
            [
             1,
             "#276419"
            ]
           ],
           "sequential": [
            [
             0,
             "#0d0887"
            ],
            [
             0.1111111111111111,
             "#46039f"
            ],
            [
             0.2222222222222222,
             "#7201a8"
            ],
            [
             0.3333333333333333,
             "#9c179e"
            ],
            [
             0.4444444444444444,
             "#bd3786"
            ],
            [
             0.5555555555555556,
             "#d8576b"
            ],
            [
             0.6666666666666666,
             "#ed7953"
            ],
            [
             0.7777777777777778,
             "#fb9f3a"
            ],
            [
             0.8888888888888888,
             "#fdca26"
            ],
            [
             1,
             "#f0f921"
            ]
           ],
           "sequentialminus": [
            [
             0,
             "#0d0887"
            ],
            [
             0.1111111111111111,
             "#46039f"
            ],
            [
             0.2222222222222222,
             "#7201a8"
            ],
            [
             0.3333333333333333,
             "#9c179e"
            ],
            [
             0.4444444444444444,
             "#bd3786"
            ],
            [
             0.5555555555555556,
             "#d8576b"
            ],
            [
             0.6666666666666666,
             "#ed7953"
            ],
            [
             0.7777777777777778,
             "#fb9f3a"
            ],
            [
             0.8888888888888888,
             "#fdca26"
            ],
            [
             1,
             "#f0f921"
            ]
           ]
          },
          "colorway": [
           "#636efa",
           "#EF553B",
           "#00cc96",
           "#ab63fa",
           "#FFA15A",
           "#19d3f3",
           "#FF6692",
           "#B6E880",
           "#FF97FF",
           "#FECB52"
          ],
          "font": {
           "color": "#2a3f5f"
          },
          "geo": {
           "bgcolor": "white",
           "lakecolor": "white",
           "landcolor": "#E5ECF6",
           "showlakes": true,
           "showland": true,
           "subunitcolor": "white"
          },
          "hoverlabel": {
           "align": "left"
          },
          "hovermode": "closest",
          "mapbox": {
           "style": "light"
          },
          "paper_bgcolor": "white",
          "plot_bgcolor": "#E5ECF6",
          "polar": {
           "angularaxis": {
            "gridcolor": "white",
            "linecolor": "white",
            "ticks": ""
           },
           "bgcolor": "#E5ECF6",
           "radialaxis": {
            "gridcolor": "white",
            "linecolor": "white",
            "ticks": ""
           }
          },
          "scene": {
           "xaxis": {
            "backgroundcolor": "#E5ECF6",
            "gridcolor": "white",
            "gridwidth": 2,
            "linecolor": "white",
            "showbackground": true,
            "ticks": "",
            "zerolinecolor": "white"
           },
           "yaxis": {
            "backgroundcolor": "#E5ECF6",
            "gridcolor": "white",
            "gridwidth": 2,
            "linecolor": "white",
            "showbackground": true,
            "ticks": "",
            "zerolinecolor": "white"
           },
           "zaxis": {
            "backgroundcolor": "#E5ECF6",
            "gridcolor": "white",
            "gridwidth": 2,
            "linecolor": "white",
            "showbackground": true,
            "ticks": "",
            "zerolinecolor": "white"
           }
          },
          "shapedefaults": {
           "line": {
            "color": "#2a3f5f"
           }
          },
          "ternary": {
           "aaxis": {
            "gridcolor": "white",
            "linecolor": "white",
            "ticks": ""
           },
           "baxis": {
            "gridcolor": "white",
            "linecolor": "white",
            "ticks": ""
           },
           "bgcolor": "#E5ECF6",
           "caxis": {
            "gridcolor": "white",
            "linecolor": "white",
            "ticks": ""
           }
          },
          "title": {
           "x": 0.05
          },
          "xaxis": {
           "automargin": true,
           "gridcolor": "white",
           "linecolor": "white",
           "ticks": "",
           "title": {
            "standoff": 15
           },
           "zerolinecolor": "white",
           "zerolinewidth": 2
          },
          "yaxis": {
           "automargin": true,
           "gridcolor": "white",
           "linecolor": "white",
           "ticks": "",
           "title": {
            "standoff": 15
           },
           "zerolinecolor": "white",
           "zerolinewidth": 2
          }
         }
        },
        "title": {
         "text": "Extreme Cases in Cluster 1 - Taipei Main Station v.s.  Taipei Zoo"
        },
        "width": 800,
        "xaxis": {
         "anchor": "y",
         "domain": [
          0,
          1
         ],
         "title": {
          "text": "Hour"
         }
        },
        "yaxis": {
         "anchor": "x",
         "domain": [
          0,
          1
         ],
         "title": {
          "text": "Passengers Count"
         }
        }
       }
      }
     },
     "metadata": {},
     "output_type": "display_data"
    }
   ],
   "source": [
    "cluster1_plot = df_weekday[df_weekday['origin'].isin(['Taipei_Main_Station', 'Taipei_Zoo'])] \n",
    "fig = px.line(cluster1_plot, x=\"hour\", y=\"passenger_cnt\", \n",
    "              color='origin',\n",
    "              title='Extreme Cases in Cluster 1 - Taipei Main Station v.s.  Taipei Zoo',\n",
    "              labels={\n",
    "                        \"passenger_cnt\": \"Passengers Count\",\n",
    "                        \"hour\": \"Hour\",\n",
    "                    },\n",
    "                width=800\n",
    "            )\n",
    "fig.show()"
   ]
  }
 ],
 "metadata": {
  "kernelspec": {
   "display_name": "563",
   "language": "python",
   "name": "python3"
  },
  "language_info": {
   "codemirror_mode": {
    "name": "ipython",
    "version": 3
   },
   "file_extension": ".py",
   "mimetype": "text/x-python",
   "name": "python",
   "nbconvert_exporter": "python",
   "pygments_lexer": "ipython3",
   "version": "3.11.0"
  }
 },
 "nbformat": 4,
 "nbformat_minor": 2
}
